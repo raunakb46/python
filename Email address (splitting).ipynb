{
 "cells": [
  {
   "cell_type": "code",
   "execution_count": 1,
   "id": "984426fa",
   "metadata": {},
   "outputs": [],
   "source": [
    "email = \"raunakb46@gmail.com\""
   ]
  },
  {
   "cell_type": "code",
   "execution_count": 2,
   "id": "25e80aa5",
   "metadata": {},
   "outputs": [],
   "source": [
    "i = email.index(\"@\")"
   ]
  },
  {
   "cell_type": "code",
   "execution_count": 3,
   "id": "6f7b4be6",
   "metadata": {},
   "outputs": [
    {
     "data": {
      "text/plain": [
       "'raunakb46'"
      ]
     },
     "execution_count": 3,
     "metadata": {},
     "output_type": "execute_result"
    }
   ],
   "source": [
    "# Username\n",
    "email [:i]"
   ]
  },
  {
   "cell_type": "code",
   "execution_count": 4,
   "id": "79f2a333",
   "metadata": {},
   "outputs": [
    {
     "data": {
      "text/plain": [
       "'gmail'"
      ]
     },
     "execution_count": 4,
     "metadata": {},
     "output_type": "execute_result"
    }
   ],
   "source": [
    "# Domain name\n",
    "email [i+1:-4]"
   ]
  },
  {
   "cell_type": "code",
   "execution_count": 7,
   "id": "8bb99e9a",
   "metadata": {},
   "outputs": [
    {
     "data": {
      "text/plain": [
       "'raunakb46'"
      ]
     },
     "execution_count": 7,
     "metadata": {},
     "output_type": "execute_result"
    }
   ],
   "source": [
    "# Username\n",
    "email.split(\"@\")[0]"
   ]
  },
  {
   "cell_type": "code",
   "execution_count": 8,
   "id": "797918ef",
   "metadata": {},
   "outputs": [
    {
     "data": {
      "text/plain": [
       "'gmail'"
      ]
     },
     "execution_count": 8,
     "metadata": {},
     "output_type": "execute_result"
    }
   ],
   "source": [
    "# Domain name\n",
    "email.split(\"@\")[1].split('.')[0]"
   ]
  },
  {
   "cell_type": "code",
   "execution_count": null,
   "id": "3e4ea610",
   "metadata": {},
   "outputs": [],
   "source": []
  }
 ],
 "metadata": {
  "kernelspec": {
   "display_name": "Python 3",
   "language": "python",
   "name": "python3"
  },
  "language_info": {
   "codemirror_mode": {
    "name": "ipython",
    "version": 3
   },
   "file_extension": ".py",
   "mimetype": "text/x-python",
   "name": "python",
   "nbconvert_exporter": "python",
   "pygments_lexer": "ipython3",
   "version": "3.9.1"
  }
 },
 "nbformat": 4,
 "nbformat_minor": 5
}
