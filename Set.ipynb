{
 "cells": [
  {
   "cell_type": "code",
   "execution_count": 1,
   "id": "4d43bc1a",
   "metadata": {},
   "outputs": [
    {
     "name": "stdout",
     "output_type": "stream",
     "text": [
      "[1, 2, 3, 4]\n"
     ]
    }
   ],
   "source": [
    "l = [1, 1, 1, 1, 2, 2, 2, 3, 3, 4]\n",
    "new = []\n",
    "for i in l:\n",
    "    if i not in new:\n",
    "        new.append(i)\n",
    "print (new)"
   ]
  },
  {
   "cell_type": "code",
   "execution_count": 2,
   "id": "339ad48f",
   "metadata": {},
   "outputs": [],
   "source": [
    "# By using set\n",
    "\n",
    "new = set (l)"
   ]
  },
  {
   "cell_type": "code",
   "execution_count": 3,
   "id": "de847224",
   "metadata": {},
   "outputs": [
    {
     "data": {
      "text/plain": [
       "{1, 2, 3, 4}"
      ]
     },
     "execution_count": 3,
     "metadata": {},
     "output_type": "execute_result"
    }
   ],
   "source": [
    "new"
   ]
  },
  {
   "cell_type": "code",
   "execution_count": 4,
   "id": "39280ab7",
   "metadata": {},
   "outputs": [
    {
     "data": {
      "text/plain": [
       "set"
      ]
     },
     "execution_count": 4,
     "metadata": {},
     "output_type": "execute_result"
    }
   ],
   "source": [
    "type (new)"
   ]
  },
  {
   "cell_type": "code",
   "execution_count": 1,
   "id": "1e18468a",
   "metadata": {},
   "outputs": [],
   "source": [
    "my_set = {10, 20, 30}"
   ]
  },
  {
   "cell_type": "code",
   "execution_count": 2,
   "id": "aa3f742f",
   "metadata": {},
   "outputs": [
    {
     "data": {
      "text/plain": [
       "set"
      ]
     },
     "execution_count": 2,
     "metadata": {},
     "output_type": "execute_result"
    }
   ],
   "source": [
    "type (my_set)"
   ]
  },
  {
   "cell_type": "code",
   "execution_count": 3,
   "id": "637abf5d",
   "metadata": {},
   "outputs": [],
   "source": [
    "s1 = {45.63, \"Hi\", 85, (10, 11, 12)}"
   ]
  },
  {
   "cell_type": "code",
   "execution_count": 4,
   "id": "82ee534a",
   "metadata": {},
   "outputs": [
    {
     "data": {
      "text/plain": [
       "{(10, 11, 12), 45.63, 85, 'Hi'}"
      ]
     },
     "execution_count": 4,
     "metadata": {},
     "output_type": "execute_result"
    }
   ],
   "source": [
    "s1"
   ]
  },
  {
   "cell_type": "code",
   "execution_count": 5,
   "id": "676fbc77",
   "metadata": {},
   "outputs": [
    {
     "name": "stdout",
     "output_type": "stream",
     "text": [
      "45.63\n",
      "85\n",
      "(10, 11, 12)\n",
      "Hi\n"
     ]
    }
   ],
   "source": [
    "for i in s1:\n",
    "    print (i)"
   ]
  },
  {
   "cell_type": "code",
   "execution_count": 6,
   "id": "3e843872",
   "metadata": {},
   "outputs": [],
   "source": [
    "s = {10, 10, 13, 15, 13, 12, 12}"
   ]
  },
  {
   "cell_type": "code",
   "execution_count": 7,
   "id": "78c07db1",
   "metadata": {},
   "outputs": [
    {
     "data": {
      "text/plain": [
       "{10, 12, 13, 15}"
      ]
     },
     "execution_count": 7,
     "metadata": {},
     "output_type": "execute_result"
    }
   ],
   "source": [
    "s"
   ]
  },
  {
   "cell_type": "code",
   "execution_count": 8,
   "id": "b52e6a7c",
   "metadata": {},
   "outputs": [],
   "source": [
    "a ={}"
   ]
  },
  {
   "cell_type": "code",
   "execution_count": 9,
   "id": "08bd7f2d",
   "metadata": {},
   "outputs": [
    {
     "data": {
      "text/plain": [
       "dict"
      ]
     },
     "execution_count": 9,
     "metadata": {},
     "output_type": "execute_result"
    }
   ],
   "source": [
    "type (a)"
   ]
  },
  {
   "cell_type": "code",
   "execution_count": 10,
   "id": "2bdaad6e",
   "metadata": {},
   "outputs": [],
   "source": [
    "# To create empty set\n",
    "b = set()"
   ]
  },
  {
   "cell_type": "code",
   "execution_count": 11,
   "id": "84acfa25",
   "metadata": {},
   "outputs": [
    {
     "data": {
      "text/plain": [
       "set"
      ]
     },
     "execution_count": 11,
     "metadata": {},
     "output_type": "execute_result"
    }
   ],
   "source": [
    "type (b)"
   ]
  },
  {
   "cell_type": "code",
   "execution_count": 13,
   "id": "994c62f2",
   "metadata": {},
   "outputs": [
    {
     "name": "stdout",
     "output_type": "stream",
     "text": [
      "{12, 13}\n"
     ]
    }
   ],
   "source": [
    "se ={12, 13}\n",
    "print (se)"
   ]
  },
  {
   "cell_type": "code",
   "execution_count": 14,
   "id": "bf691740",
   "metadata": {},
   "outputs": [],
   "source": [
    "se.add(15)"
   ]
  },
  {
   "cell_type": "code",
   "execution_count": 15,
   "id": "71752889",
   "metadata": {},
   "outputs": [
    {
     "name": "stdout",
     "output_type": "stream",
     "text": [
      "{12, 13, 15}\n"
     ]
    }
   ],
   "source": [
    "print (se)"
   ]
  },
  {
   "cell_type": "code",
   "execution_count": 16,
   "id": "ed24f605",
   "metadata": {},
   "outputs": [],
   "source": [
    "se.update([20, 21, 22])"
   ]
  },
  {
   "cell_type": "code",
   "execution_count": 17,
   "id": "cc1d33c4",
   "metadata": {},
   "outputs": [
    {
     "data": {
      "text/plain": [
       "{12, 13, 15, 20, 21, 22}"
      ]
     },
     "execution_count": 17,
     "metadata": {},
     "output_type": "execute_result"
    }
   ],
   "source": [
    "se"
   ]
  },
  {
   "cell_type": "code",
   "execution_count": 18,
   "id": "598183bd",
   "metadata": {},
   "outputs": [],
   "source": [
    "se.update([25, 26, 17], {1, 2, 3})"
   ]
  },
  {
   "cell_type": "code",
   "execution_count": 19,
   "id": "99ed3d3b",
   "metadata": {},
   "outputs": [
    {
     "data": {
      "text/plain": [
       "{1, 2, 3, 12, 13, 15, 17, 20, 21, 22, 25, 26}"
      ]
     },
     "execution_count": 19,
     "metadata": {},
     "output_type": "execute_result"
    }
   ],
   "source": [
    "se"
   ]
  },
  {
   "cell_type": "code",
   "execution_count": 20,
   "id": "d6f2b310",
   "metadata": {},
   "outputs": [],
   "source": [
    "se.discard(20)"
   ]
  },
  {
   "cell_type": "code",
   "execution_count": 21,
   "id": "78c39270",
   "metadata": {},
   "outputs": [
    {
     "data": {
      "text/plain": [
       "{1, 2, 3, 12, 13, 15, 17, 21, 22, 25, 26}"
      ]
     },
     "execution_count": 21,
     "metadata": {},
     "output_type": "execute_result"
    }
   ],
   "source": [
    "se"
   ]
  },
  {
   "cell_type": "code",
   "execution_count": 22,
   "id": "0f7fb586",
   "metadata": {},
   "outputs": [
    {
     "ename": "KeyError",
     "evalue": "31",
     "output_type": "error",
     "traceback": [
      "\u001b[1;31m---------------------------------------------------------------------------\u001b[0m",
      "\u001b[1;31mKeyError\u001b[0m                                  Traceback (most recent call last)",
      "\u001b[1;32m<ipython-input-22-ee27640afe65>\u001b[0m in \u001b[0;36m<module>\u001b[1;34m\u001b[0m\n\u001b[1;32m----> 1\u001b[1;33m \u001b[0mse\u001b[0m\u001b[1;33m.\u001b[0m\u001b[0mremove\u001b[0m\u001b[1;33m(\u001b[0m\u001b[1;36m31\u001b[0m\u001b[1;33m)\u001b[0m\u001b[1;33m\u001b[0m\u001b[1;33m\u001b[0m\u001b[0m\n\u001b[0m",
      "\u001b[1;31mKeyError\u001b[0m: 31"
     ]
    }
   ],
   "source": [
    "se.remove(31)"
   ]
  },
  {
   "cell_type": "code",
   "execution_count": 23,
   "id": "91e4d132",
   "metadata": {},
   "outputs": [],
   "source": [
    "se.remove(2)"
   ]
  },
  {
   "cell_type": "code",
   "execution_count": 24,
   "id": "75699518",
   "metadata": {},
   "outputs": [
    {
     "data": {
      "text/plain": [
       "{1, 3, 12, 13, 15, 17, 21, 22, 25, 26}"
      ]
     },
     "execution_count": 24,
     "metadata": {},
     "output_type": "execute_result"
    }
   ],
   "source": [
    "se"
   ]
  },
  {
   "cell_type": "code",
   "execution_count": 25,
   "id": "b2faedb8",
   "metadata": {},
   "outputs": [
    {
     "name": "stdout",
     "output_type": "stream",
     "text": [
      "{13, 15, 17, 21, 22, 25, 26}\n"
     ]
    }
   ],
   "source": [
    "# To remove multiple values from set\n",
    "# Create a list with the element to be removed\n",
    "val = [1, 3, 12]\n",
    "for i in val:\n",
    "    if i in se:\n",
    "        se.remove(i)\n",
    "print (se)"
   ]
  },
  {
   "cell_type": "code",
   "execution_count": 26,
   "id": "7de84c79",
   "metadata": {},
   "outputs": [],
   "source": [
    "s1 = set(\"Helloworld\")"
   ]
  },
  {
   "cell_type": "code",
   "execution_count": 27,
   "id": "0f1934d0",
   "metadata": {},
   "outputs": [
    {
     "data": {
      "text/plain": [
       "{'H', 'd', 'e', 'l', 'o', 'r', 'w'}"
      ]
     },
     "execution_count": 27,
     "metadata": {},
     "output_type": "execute_result"
    }
   ],
   "source": [
    "s1"
   ]
  },
  {
   "cell_type": "code",
   "execution_count": 29,
   "id": "a36bfbd1",
   "metadata": {},
   "outputs": [
    {
     "data": {
      "text/plain": [
       "'d'"
      ]
     },
     "execution_count": 29,
     "metadata": {},
     "output_type": "execute_result"
    }
   ],
   "source": [
    "s1.pop()"
   ]
  },
  {
   "cell_type": "code",
   "execution_count": 30,
   "id": "4d62d679",
   "metadata": {},
   "outputs": [
    {
     "data": {
      "text/plain": [
       "{'H', 'e', 'l', 'o', 'r', 'w'}"
      ]
     },
     "execution_count": 30,
     "metadata": {},
     "output_type": "execute_result"
    }
   ],
   "source": [
    "s1"
   ]
  },
  {
   "cell_type": "code",
   "execution_count": 31,
   "id": "5601303f",
   "metadata": {},
   "outputs": [],
   "source": [
    "# Union\n",
    "a = {1, 2, 3, 4, 5}\n",
    "b = {4, 5, 6, 7, 8}"
   ]
  },
  {
   "cell_type": "code",
   "execution_count": 32,
   "id": "2a25cf33",
   "metadata": {},
   "outputs": [
    {
     "data": {
      "text/plain": [
       "{1, 2, 3, 4, 5, 6, 7, 8}"
      ]
     },
     "execution_count": 32,
     "metadata": {},
     "output_type": "execute_result"
    }
   ],
   "source": [
    "a.union(b)"
   ]
  },
  {
   "cell_type": "code",
   "execution_count": 33,
   "id": "01840add",
   "metadata": {},
   "outputs": [
    {
     "name": "stdout",
     "output_type": "stream",
     "text": [
      "{1, 2, 3, 4, 5, 6, 7, 8}\n"
     ]
    }
   ],
   "source": [
    "print (a | b)"
   ]
  },
  {
   "cell_type": "code",
   "execution_count": 34,
   "id": "f16c4b34",
   "metadata": {},
   "outputs": [
    {
     "data": {
      "text/plain": [
       "{1, 2, 3, 4, 5, 6, 7, 8}"
      ]
     },
     "execution_count": 34,
     "metadata": {},
     "output_type": "execute_result"
    }
   ],
   "source": [
    "b.union(a)"
   ]
  },
  {
   "cell_type": "code",
   "execution_count": 35,
   "id": "4d05231f",
   "metadata": {},
   "outputs": [],
   "source": [
    "# Intersection\n",
    "a = {1, 2, 3, 4, 5}\n",
    "b = {4, 5, 6, 7, 8}"
   ]
  },
  {
   "cell_type": "code",
   "execution_count": 36,
   "id": "a0d9bbd5",
   "metadata": {},
   "outputs": [
    {
     "data": {
      "text/plain": [
       "{4, 5}"
      ]
     },
     "execution_count": 36,
     "metadata": {},
     "output_type": "execute_result"
    }
   ],
   "source": [
    "a.intersection(b)"
   ]
  },
  {
   "cell_type": "code",
   "execution_count": 37,
   "id": "1d775d9e",
   "metadata": {},
   "outputs": [
    {
     "name": "stdout",
     "output_type": "stream",
     "text": [
      "{4, 5}\n"
     ]
    }
   ],
   "source": [
    "print (a & b)"
   ]
  },
  {
   "cell_type": "code",
   "execution_count": 38,
   "id": "7376b86f",
   "metadata": {},
   "outputs": [],
   "source": [
    "# Set difference\n",
    "a = {1, 2, 3, 4, 5}\n",
    "b = {4, 5, 6, 7, 8}"
   ]
  },
  {
   "cell_type": "code",
   "execution_count": 39,
   "id": "2275b8e8",
   "metadata": {},
   "outputs": [
    {
     "name": "stdout",
     "output_type": "stream",
     "text": [
      "{1, 2, 3}\n"
     ]
    }
   ],
   "source": [
    "print (a - b)"
   ]
  },
  {
   "cell_type": "code",
   "execution_count": 40,
   "id": "d254a142",
   "metadata": {},
   "outputs": [
    {
     "data": {
      "text/plain": [
       "{1, 2, 3}"
      ]
     },
     "execution_count": 40,
     "metadata": {},
     "output_type": "execute_result"
    }
   ],
   "source": [
    "a.difference(b)"
   ]
  },
  {
   "cell_type": "code",
   "execution_count": 41,
   "id": "b526bab5",
   "metadata": {},
   "outputs": [
    {
     "data": {
      "text/plain": [
       "{6, 7, 8}"
      ]
     },
     "execution_count": 41,
     "metadata": {},
     "output_type": "execute_result"
    }
   ],
   "source": [
    "b.difference(a)"
   ]
  },
  {
   "cell_type": "code",
   "execution_count": 42,
   "id": "7b7d021d",
   "metadata": {},
   "outputs": [
    {
     "data": {
      "text/plain": [
       "{1, 2, 3, 6, 7, 8}"
      ]
     },
     "execution_count": 42,
     "metadata": {},
     "output_type": "execute_result"
    }
   ],
   "source": [
    "# Set symmetric difference\n",
    "\n",
    "a.symmetric_difference(b)"
   ]
  },
  {
   "cell_type": "code",
   "execution_count": 43,
   "id": "d56d05ab",
   "metadata": {},
   "outputs": [
    {
     "name": "stdout",
     "output_type": "stream",
     "text": [
      "{1, 2, 3, 6, 7, 8}\n"
     ]
    }
   ],
   "source": [
    "print (a ^ b)"
   ]
  },
  {
   "cell_type": "code",
   "execution_count": 46,
   "id": "8bdf8c24",
   "metadata": {},
   "outputs": [],
   "source": [
    "# Clear all the elements of a set\n",
    "a.clear()"
   ]
  },
  {
   "cell_type": "code",
   "execution_count": 48,
   "id": "3c0ea2af",
   "metadata": {},
   "outputs": [
    {
     "data": {
      "text/plain": [
       "set()"
      ]
     },
     "execution_count": 48,
     "metadata": {},
     "output_type": "execute_result"
    }
   ],
   "source": [
    "a"
   ]
  },
  {
   "cell_type": "code",
   "execution_count": 51,
   "id": "09f1a6e9",
   "metadata": {},
   "outputs": [
    {
     "data": {
      "text/plain": [
       "False"
      ]
     },
     "execution_count": 51,
     "metadata": {},
     "output_type": "execute_result"
    }
   ],
   "source": [
    "# Check for subset\n",
    "a = {1, 2, 3, 4, 5}\n",
    "b = {1, 2, 5}\n",
    "\n",
    "a.issubset(b)"
   ]
  },
  {
   "cell_type": "code",
   "execution_count": 52,
   "id": "f1ae2c32",
   "metadata": {},
   "outputs": [
    {
     "data": {
      "text/plain": [
       "True"
      ]
     },
     "execution_count": 52,
     "metadata": {},
     "output_type": "execute_result"
    }
   ],
   "source": [
    "b.issubset(a)"
   ]
  },
  {
   "cell_type": "code",
   "execution_count": 54,
   "id": "03009359",
   "metadata": {},
   "outputs": [
    {
     "data": {
      "text/plain": [
       "True"
      ]
     },
     "execution_count": 54,
     "metadata": {},
     "output_type": "execute_result"
    }
   ],
   "source": [
    "# Check for disjoint\n",
    "a = {1, 2, 3, 4, 5}\n",
    "b = {6, 7, 8}\n",
    "\n",
    "a.isdisjoint(b)"
   ]
  },
  {
   "cell_type": "code",
   "execution_count": 56,
   "id": "bb3382cf",
   "metadata": {},
   "outputs": [
    {
     "data": {
      "text/plain": [
       "True"
      ]
     },
     "execution_count": 56,
     "metadata": {},
     "output_type": "execute_result"
    }
   ],
   "source": [
    "# Check for superset\n",
    "a = {1, 2, 3, 4, 5}\n",
    "b = {1, 2, 5}\n",
    "a.issuperset(b)"
   ]
  },
  {
   "cell_type": "code",
   "execution_count": 57,
   "id": "0f2552f7",
   "metadata": {},
   "outputs": [
    {
     "data": {
      "text/plain": [
       "False"
      ]
     },
     "execution_count": 57,
     "metadata": {},
     "output_type": "execute_result"
    }
   ],
   "source": [
    "a = {1, 2, 3, 4, 5}\n",
    "b = {6, 7, 8}\n",
    "b.issuperset(a)"
   ]
  },
  {
   "cell_type": "code",
   "execution_count": 67,
   "id": "f2d7513d",
   "metadata": {},
   "outputs": [],
   "source": [
    "# Copy one set to another\n",
    "a = {1, 2, 3, 4, 5}\n",
    "b = a.copy()"
   ]
  },
  {
   "cell_type": "code",
   "execution_count": 68,
   "id": "12f6f1e8",
   "metadata": {},
   "outputs": [
    {
     "data": {
      "text/plain": [
       "{1, 2, 3, 4, 5}"
      ]
     },
     "execution_count": 68,
     "metadata": {},
     "output_type": "execute_result"
    }
   ],
   "source": [
    "b"
   ]
  },
  {
   "cell_type": "code",
   "execution_count": null,
   "id": "98202697",
   "metadata": {},
   "outputs": [],
   "source": []
  }
 ],
 "metadata": {
  "kernelspec": {
   "display_name": "Python 3",
   "language": "python",
   "name": "python3"
  },
  "language_info": {
   "codemirror_mode": {
    "name": "ipython",
    "version": 3
   },
   "file_extension": ".py",
   "mimetype": "text/x-python",
   "name": "python",
   "nbconvert_exporter": "python",
   "pygments_lexer": "ipython3",
   "version": "3.9.1"
  }
 },
 "nbformat": 4,
 "nbformat_minor": 5
}
