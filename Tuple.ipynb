{
 "cells": [
  {
   "cell_type": "code",
   "execution_count": 1,
   "id": "9fa4ce3b",
   "metadata": {},
   "outputs": [],
   "source": [
    "t = (12, 14, 17)"
   ]
  },
  {
   "cell_type": "code",
   "execution_count": 2,
   "id": "46034fd5",
   "metadata": {},
   "outputs": [
    {
     "data": {
      "text/plain": [
       "(12, 14, 17)"
      ]
     },
     "execution_count": 2,
     "metadata": {},
     "output_type": "execute_result"
    }
   ],
   "source": [
    "t"
   ]
  },
  {
   "cell_type": "code",
   "execution_count": 3,
   "id": "cc4afb18",
   "metadata": {},
   "outputs": [
    {
     "data": {
      "text/plain": [
       "tuple"
      ]
     },
     "execution_count": 3,
     "metadata": {},
     "output_type": "execute_result"
    }
   ],
   "source": [
    "type (t)"
   ]
  },
  {
   "cell_type": "code",
   "execution_count": 4,
   "id": "451bd4ce",
   "metadata": {},
   "outputs": [],
   "source": [
    "t1 = (56.4, \"Hello\", 45)"
   ]
  },
  {
   "cell_type": "code",
   "execution_count": 5,
   "id": "c71390ba",
   "metadata": {},
   "outputs": [
    {
     "data": {
      "text/plain": [
       "(56.4, 'Hello', 45)"
      ]
     },
     "execution_count": 5,
     "metadata": {},
     "output_type": "execute_result"
    }
   ],
   "source": [
    "t1"
   ]
  },
  {
   "cell_type": "code",
   "execution_count": 6,
   "id": "c814dcbd",
   "metadata": {},
   "outputs": [],
   "source": [
    "a = 45\n",
    "b = 55\n",
    "c = 34"
   ]
  },
  {
   "cell_type": "code",
   "execution_count": 7,
   "id": "48a906e5",
   "metadata": {},
   "outputs": [],
   "source": [
    "x = a, b, c"
   ]
  },
  {
   "cell_type": "code",
   "execution_count": 8,
   "id": "b1468321",
   "metadata": {},
   "outputs": [
    {
     "data": {
      "text/plain": [
       "(45, 55, 34)"
      ]
     },
     "execution_count": 8,
     "metadata": {},
     "output_type": "execute_result"
    }
   ],
   "source": [
    "x"
   ]
  },
  {
   "cell_type": "code",
   "execution_count": 9,
   "id": "039b6861",
   "metadata": {},
   "outputs": [],
   "source": [
    "c = (12, 13, 14)"
   ]
  },
  {
   "cell_type": "code",
   "execution_count": 10,
   "id": "29048b6a",
   "metadata": {},
   "outputs": [
    {
     "data": {
      "text/plain": [
       "(12, 13, 14, 12, 13, 14)"
      ]
     },
     "execution_count": 10,
     "metadata": {},
     "output_type": "execute_result"
    }
   ],
   "source": [
    "c * 2"
   ]
  },
  {
   "cell_type": "code",
   "execution_count": 11,
   "id": "bfa2eb75",
   "metadata": {},
   "outputs": [],
   "source": [
    "d = (15, 16, 17)"
   ]
  },
  {
   "cell_type": "code",
   "execution_count": 12,
   "id": "d97d8213",
   "metadata": {},
   "outputs": [
    {
     "data": {
      "text/plain": [
       "(12, 13, 14, 15, 16, 17)"
      ]
     },
     "execution_count": 12,
     "metadata": {},
     "output_type": "execute_result"
    }
   ],
   "source": [
    "c + d"
   ]
  },
  {
   "cell_type": "code",
   "execution_count": 13,
   "id": "b5c65664",
   "metadata": {},
   "outputs": [],
   "source": [
    "c = (34, 45, 56)"
   ]
  },
  {
   "cell_type": "code",
   "execution_count": 20,
   "id": "ba337b05",
   "metadata": {},
   "outputs": [
    {
     "name": "stdout",
     "output_type": "stream",
     "text": [
      "(34, 45, 56, 33, 33)\n"
     ]
    }
   ],
   "source": [
    "# Adding value at the end of a tuple\n",
    "# First we need to convert tuple to list, append the list and then again convert it back to tuple.\n",
    "\n",
    "c1 = list(c)\n",
    "c1.append (33)\n",
    "c = tuple (c1)\n",
    "print (c)"
   ]
  },
  {
   "cell_type": "code",
   "execution_count": null,
   "id": "c26677ab",
   "metadata": {},
   "outputs": [],
   "source": []
  }
 ],
 "metadata": {
  "kernelspec": {
   "display_name": "Python 3",
   "language": "python",
   "name": "python3"
  },
  "language_info": {
   "codemirror_mode": {
    "name": "ipython",
    "version": 3
   },
   "file_extension": ".py",
   "mimetype": "text/x-python",
   "name": "python",
   "nbconvert_exporter": "python",
   "pygments_lexer": "ipython3",
   "version": "3.9.1"
  }
 },
 "nbformat": 4,
 "nbformat_minor": 5
}
