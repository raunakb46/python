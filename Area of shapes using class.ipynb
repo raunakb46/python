{
 "cells": [
  {
   "cell_type": "code",
   "execution_count": 4,
   "id": "7df0a470",
   "metadata": {},
   "outputs": [],
   "source": [
    "class Polygon:\n",
    "    \n",
    "    def __init__(self):\n",
    "        self.side_len = 0\n",
    "        self.l = []\n",
    "        \n",
    "    def ask_sides(self):\n",
    "        self.side_len = int(input(\"How many sides does the polygon has ? 3 or 4:\"))\n",
    "        if (self.side_len == 3 or self.side_len == 4):\n",
    "            for i in range(self.side_len):\n",
    "                s_len = int(input(\"Enter length of side {}:\".format(i)))\n",
    "                self.l.append(s_len)\n",
    "        else:\n",
    "            print (\"This program can only print area of square, rectangle and triangle !\")\n",
    "        \n",
    "    def display_sides(self):\n",
    "        for i in range(len(self.l)):\n",
    "            print(\"Length of side {}:\".format(i), self.l[i])\n",
    "    \n",
    "class Triangle(Polygon):\n",
    "    \n",
    "    def area_tri(self):\n",
    "        if (self.side_len == 3):\n",
    "            a, b, c = self.l[0], self.l[1], self.l[2]\n",
    "            s = (a + b + c) / 2\n",
    "            a = (s * (s - a) * (s - b) * (s - c)) ** 0.5\n",
    "            print (\"Area of triangle:\", round(a, 2))\n",
    "            self.l.clear()\n",
    "        else:\n",
    "            print(\"The polygon isn't a triangle !\")\n",
    "        \n",
    "        \n",
    "class Rectangle(Triangle, Polygon):\n",
    "    \n",
    "    def area_rect(self):\n",
    "        if (self.side_len == 4):\n",
    "            a, b, c, d = self.l[0], self.l[1], self.l[2], self.l[3]\n",
    "            if (a == b and b == c and c == d and d == a):\n",
    "                print (\"Its a square\")\n",
    "                print (\"Area of sqaure:\", a ** 2)\n",
    "            else:\n",
    "                print (\"Area of rectangle:\", a * b)\n",
    "            self.l.clear()\n",
    "        else:\n",
    "            print (\"The polygon isn't a square or rectangle !\")\n",
    "            \n",
    "        "
   ]
  },
  {
   "cell_type": "code",
   "execution_count": 5,
   "id": "23d3ed05",
   "metadata": {},
   "outputs": [],
   "source": [
    "r = Rectangle()"
   ]
  },
  {
   "cell_type": "code",
   "execution_count": 6,
   "id": "7cfddc91",
   "metadata": {},
   "outputs": [
    {
     "name": "stdout",
     "output_type": "stream",
     "text": [
      "How many sides does the polygon has ? 3 or 4:4\n",
      "Enter length of side 0:6\n",
      "Enter length of side 1:6\n",
      "Enter length of side 2:6\n",
      "Enter length of side 3:6\n"
     ]
    }
   ],
   "source": [
    "r.ask_sides()"
   ]
  },
  {
   "cell_type": "code",
   "execution_count": 7,
   "id": "681bbe90",
   "metadata": {},
   "outputs": [
    {
     "name": "stdout",
     "output_type": "stream",
     "text": [
      "Length of side 0: 6\n",
      "Length of side 1: 6\n",
      "Length of side 2: 6\n",
      "Length of side 3: 6\n"
     ]
    }
   ],
   "source": [
    "r.display_sides()"
   ]
  },
  {
   "cell_type": "code",
   "execution_count": 8,
   "id": "0b6a990f",
   "metadata": {},
   "outputs": [
    {
     "name": "stdout",
     "output_type": "stream",
     "text": [
      "Its a square\n",
      "Area of sqaure: 36\n"
     ]
    }
   ],
   "source": [
    "r.area_rect()"
   ]
  },
  {
   "cell_type": "code",
   "execution_count": 9,
   "id": "55da5b0a",
   "metadata": {},
   "outputs": [
    {
     "name": "stdout",
     "output_type": "stream",
     "text": [
      "The polygon isn't a triangle !\n"
     ]
    }
   ],
   "source": [
    "r.area_tri()"
   ]
  },
  {
   "cell_type": "code",
   "execution_count": 10,
   "id": "3811e13c",
   "metadata": {},
   "outputs": [
    {
     "name": "stdout",
     "output_type": "stream",
     "text": [
      "How many sides does the polygon has ? 3 or 4:3\n",
      "Enter length of side 0:12\n",
      "Enter length of side 1:17\n",
      "Enter length of side 2:8\n"
     ]
    }
   ],
   "source": [
    "r.ask_sides()"
   ]
  },
  {
   "cell_type": "code",
   "execution_count": 11,
   "id": "c8f9e0e9",
   "metadata": {},
   "outputs": [
    {
     "name": "stdout",
     "output_type": "stream",
     "text": [
      "Length of side 0: 12\n",
      "Length of side 1: 17\n",
      "Length of side 2: 8\n"
     ]
    }
   ],
   "source": [
    "r.display_sides()"
   ]
  },
  {
   "cell_type": "code",
   "execution_count": 12,
   "id": "edf40c03",
   "metadata": {},
   "outputs": [
    {
     "name": "stdout",
     "output_type": "stream",
     "text": [
      "Area of triangle: 43.52\n"
     ]
    }
   ],
   "source": [
    "r.area_tri()"
   ]
  },
  {
   "cell_type": "code",
   "execution_count": 13,
   "id": "cad9810e",
   "metadata": {},
   "outputs": [
    {
     "name": "stdout",
     "output_type": "stream",
     "text": [
      "How many sides does the polygon has ? 3 or 4:6\n",
      "This program can only print area of square, rectangle and triangle !\n"
     ]
    }
   ],
   "source": [
    "r.ask_sides()"
   ]
  },
  {
   "cell_type": "code",
   "execution_count": 15,
   "id": "faa5e2d2",
   "metadata": {},
   "outputs": [
    {
     "name": "stdout",
     "output_type": "stream",
     "text": [
      "How many sides does the polygon has ? 3 or 4:3\n",
      "Enter length of side 0:4\n",
      "Enter length of side 1:5\n",
      "Enter length of side 2:6\n"
     ]
    }
   ],
   "source": [
    "r.ask_sides()"
   ]
  },
  {
   "cell_type": "code",
   "execution_count": 16,
   "id": "94d17748",
   "metadata": {},
   "outputs": [
    {
     "name": "stdout",
     "output_type": "stream",
     "text": [
      "Length of side 0: 4\n",
      "Length of side 1: 5\n",
      "Length of side 2: 6\n"
     ]
    }
   ],
   "source": [
    "r.display_sides()"
   ]
  },
  {
   "cell_type": "code",
   "execution_count": 17,
   "id": "dae4af87",
   "metadata": {},
   "outputs": [
    {
     "name": "stdout",
     "output_type": "stream",
     "text": [
      "The polygon isn't a square or rectangle !\n"
     ]
    }
   ],
   "source": [
    "r.area_rect()"
   ]
  },
  {
   "cell_type": "code",
   "execution_count": null,
   "id": "6a7914ab",
   "metadata": {},
   "outputs": [],
   "source": []
  }
 ],
 "metadata": {
  "kernelspec": {
   "display_name": "Python 3",
   "language": "python",
   "name": "python3"
  },
  "language_info": {
   "codemirror_mode": {
    "name": "ipython",
    "version": 3
   },
   "file_extension": ".py",
   "mimetype": "text/x-python",
   "name": "python",
   "nbconvert_exporter": "python",
   "pygments_lexer": "ipython3",
   "version": "3.9.1"
  }
 },
 "nbformat": 4,
 "nbformat_minor": 5
}
