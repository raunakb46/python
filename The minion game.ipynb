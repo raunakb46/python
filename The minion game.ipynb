{
 "cells": [
  {
   "cell_type": "markdown",
   "id": "ca414f93",
   "metadata": {},
   "source": [
    "Kevin and Stuart want to play the **'The Minion Game'.**\n",
    "\n",
    "**Game Rules -**\n",
    "\n",
    "* Both players are given the same string, .\n",
    "* Both players have to make substrings using the letters of the string .\n",
    "* Stuart has to make words starting with consonants.\n",
    "* Kevin has to make words starting with vowels.\n",
    "* The game ends when both players have made all possible substrings.\n",
    "\n",
    "**Scoring -**\n",
    "* A player gets +1 point for each occurrence of the substring in the string .\n",
    "\n",
    "For Example:\n",
    "* String  = BANANA\n",
    "* Kevin's vowel beginning word = ANA\n",
    "* Here, ANA occurs twice in BANANA. Hence, Kevin will get 2 Points."
   ]
  },
  {
   "cell_type": "code",
   "execution_count": 3,
   "id": "09ad0196",
   "metadata": {},
   "outputs": [
    {
     "name": "stdout",
     "output_type": "stream",
     "text": [
      "Enter the text:BANANA\n",
      "Stuart is the winner with score 12\n"
     ]
    }
   ],
   "source": [
    "def minion_game(char):\n",
    "    player_1 = 0\n",
    "    player_2 = 0\n",
    "    length = len(char)\n",
    "    for i in range(length):\n",
    "        if c[i] in 'AEIOU':\n",
    "            # Score of player_1 will be length of the string - total no. of times the letter selected by player_1 occurred.\n",
    "            player_1 = player_1 + length - i\n",
    "        else:\n",
    "            # Scoring is similar for player_2\n",
    "            player_2 = player_2 + length - i\n",
    "    \n",
    "    if player_1 > player_2:\n",
    "        print ('Kevin is the winner with score {}'.format(player_1))\n",
    "    elif player_2 > player_1:\n",
    "        print ('Stuart is the winner with score {}'.format(player_2))\n",
    "    elif player_1 == player_2:\n",
    "        print ('Game is a draw !')\n",
    "    else:\n",
    "        print ('Game is a draw')\n",
    "        \n",
    "c = input('Enter the text:')\n",
    "minion_game(c)"
   ]
  },
  {
   "cell_type": "code",
   "execution_count": null,
   "id": "fe584331",
   "metadata": {},
   "outputs": [],
   "source": []
  }
 ],
 "metadata": {
  "kernelspec": {
   "display_name": "Python 3",
   "language": "python",
   "name": "python3"
  },
  "language_info": {
   "codemirror_mode": {
    "name": "ipython",
    "version": 3
   },
   "file_extension": ".py",
   "mimetype": "text/x-python",
   "name": "python",
   "nbconvert_exporter": "python",
   "pygments_lexer": "ipython3",
   "version": "3.9.1"
  }
 },
 "nbformat": 4,
 "nbformat_minor": 5
}
