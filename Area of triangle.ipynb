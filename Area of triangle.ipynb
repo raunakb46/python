{
 "cells": [
  {
   "cell_type": "code",
   "execution_count": 1,
   "id": "f677b30b",
   "metadata": {},
   "outputs": [],
   "source": [
    "a = 10\n",
    "b = 5\n",
    "c = 12"
   ]
  },
  {
   "cell_type": "code",
   "execution_count": 2,
   "id": "5a94818c",
   "metadata": {},
   "outputs": [
    {
     "name": "stdout",
     "output_type": "stream",
     "text": [
      "30.0\n"
     ]
    }
   ],
   "source": [
    "# Gerenal formula\n",
    "area = 0.5*(b * c)\n",
    "print (area)"
   ]
  },
  {
   "cell_type": "code",
   "execution_count": 3,
   "id": "58aebf99",
   "metadata": {},
   "outputs": [],
   "source": [
    "# Heron's formula\n",
    "s = (a + b + c) / 2"
   ]
  },
  {
   "cell_type": "code",
   "execution_count": 5,
   "id": "306e433f",
   "metadata": {},
   "outputs": [
    {
     "name": "stdout",
     "output_type": "stream",
     "text": [
      "24.544602257930357\n"
     ]
    }
   ],
   "source": [
    "area = (s * (s - a) * (s - b) * (s - c)) ** 0.5\n",
    "print (area)"
   ]
  },
  {
   "cell_type": "code",
   "execution_count": null,
   "id": "76e5a7d4",
   "metadata": {},
   "outputs": [],
   "source": []
  }
 ],
 "metadata": {
  "kernelspec": {
   "display_name": "Python 3",
   "language": "python",
   "name": "python3"
  },
  "language_info": {
   "codemirror_mode": {
    "name": "ipython",
    "version": 3
   },
   "file_extension": ".py",
   "mimetype": "text/x-python",
   "name": "python",
   "nbconvert_exporter": "python",
   "pygments_lexer": "ipython3",
   "version": "3.9.1"
  }
 },
 "nbformat": 4,
 "nbformat_minor": 5
}
