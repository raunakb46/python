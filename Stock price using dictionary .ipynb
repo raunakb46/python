{
 "cells": [
  {
   "cell_type": "code",
   "execution_count": 2,
   "id": "9df1071d",
   "metadata": {},
   "outputs": [
    {
     "name": "stdout",
     "output_type": "stream",
     "text": [
      "Enter the stock name you want to buy:Rel\n",
      "The price is: 1900\n",
      "How many items you want to buy ? :6\n",
      "Total price : 11400\n",
      "Price of 6 stocks at present : 11700\n",
      "Do you want to sell (yes/no):yes\n",
      "Sold\n",
      "Profit : 300\n",
      "Tax paid: 21.0\n",
      "Brokerage paid: 0.75\n",
      "Net profit : 278.25\n"
     ]
    }
   ],
   "source": [
    "# Program to get closing price, multiply it with price, and find the profit of transaction\n",
    "\n",
    "buy = {\"Rel\":{'Open':2000, 'Close':1900, 'High':3000, 'Low':1200},\n",
    "        \"INFY\":{'Open':2200, 'Close':1950, 'High':3100, 'Low':1300}}\n",
    "\n",
    "sell = {\"Rel\":{'Open':2000, 'Close':1950, 'High':3000, 'Low':1200},\n",
    "        \"INFY\":{'Open':2200, 'Close':1900, 'High':3100, 'Low':1300}}\n",
    "\n",
    "# found = 0\n",
    "#while buy:\n",
    "   # while sell:\n",
    "        \n",
    "name = str(input(\"Enter the stock name you want to buy:\"))\n",
    "if (name in buy and name in sell ):\n",
    "    #print (\"Found\")\n",
    "    #found = 1\n",
    "    print (\"The price is:\",buy[name]['Close'] )\n",
    "    n = int(input(\"How many units you want to buy ? :\"))\n",
    "    print (\"Total price :\", (buy[name]['Close']) * n)\n",
    "    print (\"Price of {} stocks at present :\".format(n), (sell[name]['Close']) * n)\n",
    "    cost = (sell[name]['Close'] * n) - (buy[name]['Close'] * n)\n",
    "    \n",
    "    # 7% tax to pay\n",
    "    tax = (cost * 7) / 100 \n",
    "    \n",
    "    # 0.25% brokerage to pay\n",
    "    brokerage = (cost * 0.25)/ 100\n",
    "    \n",
    "    ans = input(\"Do you want to sell (yes/no):\")\n",
    "    if (ans == \"yes\" and (sell[name]['Close'] * n) > (buy[name]['Close'] * n)):\n",
    "        print (\"Sold\")\n",
    "        print (\"Profit :\", cost)\n",
    "        print (\"Tax paid:\", tax)\n",
    "        print (\"Brokerage paid:\", brokerage)\n",
    "        print (\"Net profit :\", cost - (tax + brokerage))\n",
    "    elif (ans == \"yes\" and (sell[name]['Close'] * n) < (buy[name]['Close'] * n)):\n",
    "        print (\"Sold\")\n",
    "        print (\"Loss :\", abs(cost))\n",
    "        print (\"Tax paid:\", abs(tax))\n",
    "        print (\"Brokerage paid:\", abs(brokerage))\n",
    "        print (\"Net loss :\", abs(cost - (tax + brokerage)))\n",
    "    else:\n",
    "        print (\"Not selling the stock.\")\n",
    "\n",
    "else:\n",
    "    #found = 0\n",
    "    print (\"Stock not found\")\n",
    "    #break\n",
    "\n"
   ]
  },
  {
   "cell_type": "code",
   "execution_count": null,
   "id": "59548d46",
   "metadata": {},
   "outputs": [],
   "source": []
  }
 ],
 "metadata": {
  "kernelspec": {
   "display_name": "Python 3",
   "language": "python",
   "name": "python3"
  },
  "language_info": {
   "codemirror_mode": {
    "name": "ipython",
    "version": 3
   },
   "file_extension": ".py",
   "mimetype": "text/x-python",
   "name": "python",
   "nbconvert_exporter": "python",
   "pygments_lexer": "ipython3",
   "version": "3.9.1"
  }
 },
 "nbformat": 4,
 "nbformat_minor": 5
}
