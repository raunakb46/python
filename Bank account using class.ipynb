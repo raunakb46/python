{
 "cells": [
  {
   "cell_type": "code",
   "execution_count": null,
   "id": "eb8ad67e",
   "metadata": {},
   "outputs": [],
   "source": [
    "# Create a class Bank_account with methods pin_check(), withdraw(), check_balance(), deposit_money(), info()\n",
    "# pin_check - To check the pin before every operation\n",
    "# withdraw() - To withdraw money from account and update the balance\n",
    "# check_balance() - To check the account balance\n",
    "# deposit_money() - To deposit amount to account and amount should be multiple of 500\n",
    "# info() - To print the user info\n",
    "\n",
    "# Create a class Minimum_balance with method minimum() and inherit Bank_account class\n",
    "# minimum() - To check if the balance is above the minimum balance"
   ]
  },
  {
   "cell_type": "code",
   "execution_count": 1,
   "id": "d1fdadbc",
   "metadata": {},
   "outputs": [],
   "source": [
    "class Bank_account:\n",
    "    \n",
    "    def __init__(self, pin, balance, username):\n",
    "        self.username = username\n",
    "        self.pin = pin\n",
    "        self.balance = balance\n",
    "\n",
    "    def pin_check(self):\n",
    "        p = int(input(\"Enter pin:\"))\n",
    "        if (self.pin == p):\n",
    "            print (\"Pin matched. Proceed.\") \n",
    "            return True\n",
    "        else:\n",
    "            print (\"Wrong pin !\")\n",
    "            return False\n",
    "            \n",
    "    \n",
    "    def withdraw(self):\n",
    "        if(self.pin_check() == True):\n",
    "            amount = int(input(\"Enter amount to withdraw:\"))\n",
    "            if (self.balance < amount and self.balance > 2000):\n",
    "                print (\"Can't withdraw money !\")\n",
    "            else:\n",
    "                print (\"Withdrawal successful\")\n",
    "                self.balance = self.balance - amount\n",
    "                print (\"Your current balance:\", self.balance)\n",
    "        else:\n",
    "            print (\"Try again later\")\n",
    "    \n",
    "    def check_balance(self):\n",
    "        if (self.pin_check() == True):\n",
    "            print (\"Your current balance is:\", self.balance)\n",
    "        else:\n",
    "            print (\"Try again later\")\n",
    "            \n",
    "    def deposit_money(self):\n",
    "        if (self.pin_check() == True):\n",
    "            money = int(input(\"Enter amount you want to deposit:\"))\n",
    "            if (money % 500 == 0 and money >= 500):\n",
    "                print (\"Money added to your account\")\n",
    "                self.balance = self.balance + money\n",
    "                print (\"Your current balance is:\", self.balance)\n",
    "            else:\n",
    "                print (\"Deposit amount should be more than or equal to 500 and should be multiple of 500 !\")\n",
    "        else:\n",
    "            print (\"Try again later\")\n",
    "            \n",
    "    def info(self):\n",
    "        print (\"Username:\", self.username)\n",
    "        print (\"Balance:\", self.balance)\n",
    "            \n",
    "\n",
    "class Minimum_balance(Bank_account):\n",
    "    \n",
    "    def minimum(self):\n",
    "        if(self.pin_check() == True):\n",
    "            if (self.balance >= 2000):\n",
    "                print (\"You have sufficeint balance\")\n",
    "                print (\"Your current balance:\", self.balance)\n",
    "            else:\n",
    "                print (\"You should have a minimum amount of Rs. 2000\")\n",
    "                print (\"Need Rs. {} more to proceed\".format(2000 - self.balance))\n",
    "        else:\n",
    "            print (\"Try again later\")\n"
   ]
  },
  {
   "cell_type": "code",
   "execution_count": 2,
   "id": "b41cf8c0",
   "metadata": {},
   "outputs": [],
   "source": [
    "m = Minimum_balance(12345, 20000, \"Raunak\")"
   ]
  },
  {
   "cell_type": "code",
   "execution_count": 3,
   "id": "ccee3a25",
   "metadata": {},
   "outputs": [
    {
     "name": "stdout",
     "output_type": "stream",
     "text": [
      "Username: Raunak\n",
      "Balance: 20000\n"
     ]
    }
   ],
   "source": [
    "m.info()"
   ]
  },
  {
   "cell_type": "code",
   "execution_count": 4,
   "id": "97d996c2",
   "metadata": {},
   "outputs": [
    {
     "name": "stdout",
     "output_type": "stream",
     "text": [
      "Enter pin:12345\n",
      "Pin matched. Proceed.\n",
      "Your current balance is: 20000\n"
     ]
    }
   ],
   "source": [
    "m.check_balance()"
   ]
  },
  {
   "cell_type": "code",
   "execution_count": 5,
   "id": "0c5436bd",
   "metadata": {},
   "outputs": [
    {
     "name": "stdout",
     "output_type": "stream",
     "text": [
      "Enter pin:12345\n",
      "Pin matched. Proceed.\n",
      "Enter amount you want to deposit:5500\n",
      "Money added to your account\n",
      "Your current balance is: 25500\n"
     ]
    }
   ],
   "source": [
    "m.deposit_money()"
   ]
  },
  {
   "cell_type": "code",
   "execution_count": 6,
   "id": "e8dfa89f",
   "metadata": {},
   "outputs": [
    {
     "name": "stdout",
     "output_type": "stream",
     "text": [
      "Enter pin:12345\n",
      "Pin matched. Proceed.\n",
      "Enter amount you want to deposit:2100\n",
      "Deposit amount should be more than or equal to 500 and should be multiple of 500 !\n"
     ]
    }
   ],
   "source": [
    "m.deposit_money()"
   ]
  },
  {
   "cell_type": "code",
   "execution_count": 7,
   "id": "7834e51d",
   "metadata": {},
   "outputs": [
    {
     "name": "stdout",
     "output_type": "stream",
     "text": [
      "Enter pin:12345\n",
      "Pin matched. Proceed.\n",
      "Enter amount to withdraw:1500\n",
      "Withdrawal successful\n",
      "Your current balance: 24000\n"
     ]
    }
   ],
   "source": [
    "m.withdraw()"
   ]
  },
  {
   "cell_type": "code",
   "execution_count": 8,
   "id": "1ae3f0d6",
   "metadata": {},
   "outputs": [
    {
     "name": "stdout",
     "output_type": "stream",
     "text": [
      "Enter pin:12345\n",
      "Pin matched. Proceed.\n",
      "Enter amount to withdraw:25000\n",
      "Can't withdraw money !\n"
     ]
    }
   ],
   "source": [
    "m.withdraw()"
   ]
  },
  {
   "cell_type": "code",
   "execution_count": 9,
   "id": "7796547c",
   "metadata": {},
   "outputs": [
    {
     "name": "stdout",
     "output_type": "stream",
     "text": [
      "Enter pin:12345\n",
      "Pin matched. Proceed.\n",
      "Your current balance is: 24000\n"
     ]
    }
   ],
   "source": [
    "m.check_balance()"
   ]
  },
  {
   "cell_type": "code",
   "execution_count": 10,
   "id": "3ed9b0e4",
   "metadata": {},
   "outputs": [
    {
     "name": "stdout",
     "output_type": "stream",
     "text": [
      "Enter pin:12345\n",
      "Pin matched. Proceed.\n",
      "You have sufficeint balance\n",
      "Your current balance: 24000\n"
     ]
    }
   ],
   "source": [
    "m.minimum()"
   ]
  },
  {
   "cell_type": "code",
   "execution_count": 11,
   "id": "620ac838",
   "metadata": {},
   "outputs": [
    {
     "name": "stdout",
     "output_type": "stream",
     "text": [
      "Enter pin:12345\n",
      "Pin matched. Proceed.\n",
      "Enter amount to withdraw:23500\n",
      "Withdrawal successful\n",
      "Your current balance: 500\n"
     ]
    }
   ],
   "source": [
    "m.withdraw()"
   ]
  },
  {
   "cell_type": "code",
   "execution_count": 12,
   "id": "5b6667d6",
   "metadata": {},
   "outputs": [
    {
     "name": "stdout",
     "output_type": "stream",
     "text": [
      "Enter pin:12345\n",
      "Pin matched. Proceed.\n",
      "You should have a minimum amount of Rs. 2000\n",
      "Need Rs. 1500 more to proceed\n"
     ]
    }
   ],
   "source": [
    "m.minimum()"
   ]
  },
  {
   "cell_type": "code",
   "execution_count": 13,
   "id": "633b7c4b",
   "metadata": {},
   "outputs": [
    {
     "name": "stdout",
     "output_type": "stream",
     "text": [
      "Enter pin:123\n",
      "Wrong pin !\n",
      "Try again later\n"
     ]
    }
   ],
   "source": [
    "m.check_balance()"
   ]
  },
  {
   "cell_type": "code",
   "execution_count": null,
   "id": "e6fd4775",
   "metadata": {},
   "outputs": [],
   "source": []
  }
 ],
 "metadata": {
  "kernelspec": {
   "display_name": "Python 3",
   "language": "python",
   "name": "python3"
  },
  "language_info": {
   "codemirror_mode": {
    "name": "ipython",
    "version": 3
   },
   "file_extension": ".py",
   "mimetype": "text/x-python",
   "name": "python",
   "nbconvert_exporter": "python",
   "pygments_lexer": "ipython3",
   "version": "3.9.1"
  }
 },
 "nbformat": 4,
 "nbformat_minor": 5
}
