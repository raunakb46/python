{
 "cells": [
  {
   "cell_type": "markdown",
   "id": "4259a65c",
   "metadata": {},
   "source": [
    "58. Write a Python program to sum of the first n positive integers."
   ]
  },
  {
   "cell_type": "code",
   "execution_count": 1,
   "id": "23f2f625",
   "metadata": {},
   "outputs": [
    {
     "name": "stdout",
     "output_type": "stream",
     "text": [
      "Enter the number upto which sum is required:15\n",
      "Sum of first 15 positive integers: 120\n"
     ]
    }
   ],
   "source": [
    "n = int(input('Enter the number upto which sum is required:'))\n",
    "s = 0\n",
    "for i in range(1, n + 1):\n",
    "    s = s + i\n",
    "print ('Sum of first {} positive integers:'.format(n), s)"
   ]
  },
  {
   "cell_type": "markdown",
   "id": "188ecefe",
   "metadata": {},
   "source": [
    "59. Write a Python program to convert height (in feet and inches) to centimeters."
   ]
  },
  {
   "cell_type": "code",
   "execution_count": 4,
   "id": "ee3ee4de",
   "metadata": {},
   "outputs": [
    {
     "name": "stdout",
     "output_type": "stream",
     "text": [
      "Enter feet:4\n",
      "Enter inches:10\n",
      "Height in feet and inches: 4 ' 10 \"\n",
      "Height in centimeters: 147.32cm\n"
     ]
    }
   ],
   "source": [
    "feet = int(input('Enter feet:'))\n",
    "inch = int(input('Enter inches:'))\n",
    "print (\"Height in feet and inches:\", feet, \"'\", inch, '\"')\n",
    "cm = (feet * 30.48) + (inch * 2.54)\n",
    "print('Height in centimeters: {}cm'.format(cm))"
   ]
  },
  {
   "cell_type": "markdown",
   "id": "a8a0dff5",
   "metadata": {},
   "source": [
    "60. Write a Python program to calculate the hypotenuse of a right angled triangle."
   ]
  },
  {
   "cell_type": "code",
   "execution_count": 8,
   "id": "eb92df6e",
   "metadata": {},
   "outputs": [
    {
     "name": "stdout",
     "output_type": "stream",
     "text": [
      "Enter the length of perpendicular:5\n",
      "Enter the length of base:9\n",
      "Length of hypotenuse: 10.3\n"
     ]
    }
   ],
   "source": [
    "a = int(input('Enter the length of perpendicular:'))\n",
    "b = int(input('Enter the length of base:'))\n",
    "c = (a ** 2 + b ** 2) ** 0.5\n",
    "print('Length of hypotenuse:', round(c, 2))"
   ]
  },
  {
   "cell_type": "markdown",
   "id": "3f4676fe",
   "metadata": {},
   "source": [
    "61. Write a Python program to convert the distance (in feet) to inches, yards, and miles."
   ]
  },
  {
   "cell_type": "code",
   "execution_count": 10,
   "id": "6070999f",
   "metadata": {},
   "outputs": [
    {
     "name": "stdout",
     "output_type": "stream",
     "text": [
      "Enter distance in feet:5\n",
      "Distance in inches: 60\n",
      "Distance in yards: 1.665\n",
      "Distance in miles: 0.0009469700000000001\n"
     ]
    }
   ],
   "source": [
    "ft = int(input('Enter distance in feet:'))\n",
    "print ('Distance in inches:', ft * 12)\n",
    "print ('Distance in yards:', ft * 0.333)\n",
    "print ('Distance in miles:', ft * 0.000189394)"
   ]
  },
  {
   "cell_type": "markdown",
   "id": "d1f08a6f",
   "metadata": {},
   "source": [
    "62. Write a Python program to convert all units of time into seconds."
   ]
  },
  {
   "cell_type": "code",
   "execution_count": 12,
   "id": "ff8ff3a0",
   "metadata": {},
   "outputs": [
    {
     "name": "stdout",
     "output_type": "stream",
     "text": [
      "Enter days:12\n",
      "Enter hours:14\n",
      "Enter minutes:45\n",
      "Enter seconds:30\n",
      "Time entered: 12:14:45:30\n",
      "Time in seconds: 1089930\n"
     ]
    }
   ],
   "source": [
    "day = int(input('Enter days:'))\n",
    "hour = int(input('Enter hours:'))\n",
    "minute = int(input('Enter minutes:'))\n",
    "sec = int(input('Enter seconds:'))\n",
    "print ('Time entered: {}:{}:{}:{}'.format(day, hour, minute, sec))\n",
    "day = day * 3600 * 24\n",
    "hour = hour * 3600\n",
    "minute = minute * 60\n",
    "time = day + hour + minute + sec\n",
    "print ('Time in seconds:', time)"
   ]
  },
  {
   "cell_type": "markdown",
   "id": "e213553f",
   "metadata": {},
   "source": [
    "63. Write a Python program to get an absolute file path."
   ]
  },
  {
   "cell_type": "code",
   "execution_count": 13,
   "id": "3a45aeda",
   "metadata": {},
   "outputs": [
    {
     "name": "stdout",
     "output_type": "stream",
     "text": [
      "Absolute path of this file: C:\\Users\\KIIT\\Master - Python\\Practice questions\\fname\n"
     ]
    }
   ],
   "source": [
    "import os\n",
    "def path_abs(fname):\n",
    "    return os.path.abspath('fname')\n",
    "\n",
    "print ('Absolute path of this file:', path_abs('Basic programming_3.ipynb'))"
   ]
  },
  {
   "cell_type": "markdown",
   "id": "4e419e9d",
   "metadata": {},
   "source": [
    "64. Write a Python program to get file creation and modification date/times."
   ]
  },
  {
   "cell_type": "code",
   "execution_count": 18,
   "id": "8bfe5caf",
   "metadata": {},
   "outputs": [
    {
     "name": "stdout",
     "output_type": "stream",
     "text": [
      "Last modified: Wed Jul 21 12:42:44 2021\n",
      "Created on: Wed Jul 21 11:20:41 2021\n"
     ]
    }
   ],
   "source": [
    "import os.path, time\n",
    "\n",
    "print('Last modified:', time.ctime(os.path.getmtime('Basic programming_3.ipynb')))\n",
    "print ('Created on:', time.ctime(os.path.getctime('Basic programming_3.ipynb')))                                                         "
   ]
  },
  {
   "cell_type": "markdown",
   "id": "1298e7d3",
   "metadata": {},
   "source": [
    "65. Write a Python program to convert seconds to day, hour, minutes and seconds"
   ]
  },
  {
   "cell_type": "code",
   "execution_count": 20,
   "id": "fa70172f",
   "metadata": {},
   "outputs": [
    {
     "name": "stdout",
     "output_type": "stream",
     "text": [
      "Enter seconds:1089930\n",
      "Time: 12 D 14 H 45 M 30 S\n"
     ]
    }
   ],
   "source": [
    "sec = int(input('Enter seconds:'))\n",
    "day = sec // (3600 * 24)\n",
    "sec = sec % (3600 * 24)\n",
    "hour = sec // 3600\n",
    "sec = sec % 3600\n",
    "minute = sec // 60\n",
    "sec = sec % 60\n",
    "print ('Time:', day, 'D', hour, 'H', minute, 'M', sec, 'S')"
   ]
  },
  {
   "cell_type": "markdown",
   "id": "f22ee542",
   "metadata": {},
   "source": [
    "66. Write a Python program to calculate body mass index."
   ]
  },
  {
   "cell_type": "code",
   "execution_count": 22,
   "id": "ce141c42",
   "metadata": {},
   "outputs": [
    {
     "name": "stdout",
     "output_type": "stream",
     "text": [
      "Enter your height in meter:1.82\n",
      "Enter your weight in kg:72.5\n",
      "BMI: 21.89\n"
     ]
    }
   ],
   "source": [
    "height = float(input('Enter your height in meter:'))\n",
    "weight = float(input('Enter your weight in kg:'))\n",
    "bmi = weight / (height ** 2)\n",
    "print ('BMI:', round(bmi,2))"
   ]
  },
  {
   "cell_type": "markdown",
   "id": "7bd30d8e",
   "metadata": {},
   "source": [
    "67. Write a Python program to convert pressure in kilopascals to pounds per square inch, a millimeter of mercury (mmHg) and atmosphere pressure."
   ]
  },
  {
   "cell_type": "code",
   "execution_count": 24,
   "id": "5481de2d",
   "metadata": {},
   "outputs": [
    {
     "name": "stdout",
     "output_type": "stream",
     "text": [
      "Enter pressure in kilopascal:20.87\n",
      "Pressure in pounds per square inch: 3.03\n",
      "Pressure in millimeter of mercury: 156.54\n",
      "Pressure in atmospheric pressure: 0.21\n"
     ]
    }
   ],
   "source": [
    "kpa = float(input('Enter pressure in kilopascal:'))\n",
    "psi = kpa / 6.89475729\n",
    "mmHg = (kpa * 760) / 101.325\n",
    "atm = kpa / 101.325\n",
    "print('Pressure in pounds per square inch:', round(psi, 2))\n",
    "print('Pressure in millimeter of mercury:', round(mmHg, 2))\n",
    "print('Pressure in atmospheric pressure:', round(atm, 2))"
   ]
  },
  {
   "cell_type": "markdown",
   "id": "e04bb8b2",
   "metadata": {},
   "source": [
    "68. Write a Python program to calculate the sum of the digits in an integer."
   ]
  },
  {
   "cell_type": "code",
   "execution_count": 25,
   "id": "852eb190",
   "metadata": {},
   "outputs": [
    {
     "name": "stdout",
     "output_type": "stream",
     "text": [
      "Enter any n-digit number:138\n",
      "Sum of the digits of the number: 12\n"
     ]
    }
   ],
   "source": [
    "n = int(input('Enter any n-digit number:'))\n",
    "s = 0\n",
    "temp = n\n",
    "while(temp > 0):\n",
    "    d = temp % 10\n",
    "    s = s + d\n",
    "    temp = temp // 10\n",
    "print ('Sum of the digits of the number:', s)"
   ]
  },
  {
   "cell_type": "markdown",
   "id": "2bf828de",
   "metadata": {},
   "source": [
    "69. Write a Python program to sort three integers without using conditional statements and loops."
   ]
  },
  {
   "cell_type": "code",
   "execution_count": 29,
   "id": "e0c5a75b",
   "metadata": {},
   "outputs": [
    {
     "name": "stdout",
     "output_type": "stream",
     "text": [
      "Enter 3 numbers -\n",
      "90\n",
      "14\n",
      "56\n",
      "Unsorted list: [90, 14, 56]\n",
      "Sorted list: [14, 56, 90]\n"
     ]
    }
   ],
   "source": [
    "print ('Enter 3 numbers -')\n",
    "l = []\n",
    "for i in range(0, 3):\n",
    "    a = int(input())\n",
    "    l.append(a)\n",
    "print ('Unsorted list:', l)\n",
    "print ('Sorted list:', sorted(l))"
   ]
  },
  {
   "cell_type": "markdown",
   "id": "addd4c71",
   "metadata": {},
   "source": [
    "70. Write a Python program to sort files by date."
   ]
  },
  {
   "cell_type": "code",
   "execution_count": 30,
   "id": "a42b580a",
   "metadata": {},
   "outputs": [
    {
     "name": "stdout",
     "output_type": "stream",
     "text": [
      "Basics.ipynb\n",
      "Numpy problems_1.ipynb\n",
      "Pandas problems_1.ipynb\n",
      "Using pandas on dataset_1.ipynb\n",
      "Pandas problems_2.ipynb\n",
      "Car price - Linear Regression.ipynb\n",
      "Untitled.ipynb\n",
      "Pandas problems_3.ipynb\n",
      "Pandas problems_4.ipynb\n",
      "NaiveBayes_Wine-1.ipynb\n",
      "Decision_Tree_Pima_Indians_Diabetic_data.ipynb\n",
      "KMeans_Introduction.ipynb\n",
      "Time Series - ARIMA - Electric Production US Data.ipynb\n",
      "Wine_Random_Forest_Classifier.ipynb\n",
      "Ensemble Techniques_Parkinson’s Disease.ipynb\n",
      "Bagging_Boosting_Ensemble.ipynb\n",
      "Ensemble_Stacking_Diabetes_data.ipynb\n",
      "Basic programming_1.ipynb\n",
      "Basic programming_2.ipynb\n",
      "Basic programming_3.ipynb\n"
     ]
    }
   ],
   "source": [
    "import glob\n",
    "import os\n",
    "files = glob.glob('*.ipynb')\n",
    "files.sort(key = os.path.getmtime)\n",
    "print ('\\n'.join(files))"
   ]
  },
  {
   "cell_type": "markdown",
   "id": "49f8c603",
   "metadata": {},
   "source": [
    "72. Write a Python program to get the details of math module."
   ]
  },
  {
   "cell_type": "code",
   "execution_count": 31,
   "id": "f177e144",
   "metadata": {},
   "outputs": [
    {
     "name": "stdout",
     "output_type": "stream",
     "text": [
      "['__doc__', '__loader__', '__name__', '__package__', '__spec__', 'acos', 'acosh', 'asin', 'asinh', 'atan', 'atan2', 'atanh', 'ceil', 'comb', 'copysign', 'cos', 'cosh', 'degrees', 'dist', 'e', 'erf', 'erfc', 'exp', 'expm1', 'fabs', 'factorial', 'floor', 'fmod', 'frexp', 'fsum', 'gamma', 'gcd', 'hypot', 'inf', 'isclose', 'isfinite', 'isinf', 'isnan', 'isqrt', 'lcm', 'ldexp', 'lgamma', 'log', 'log10', 'log1p', 'log2', 'modf', 'nan', 'nextafter', 'perm', 'pi', 'pow', 'prod', 'radians', 'remainder', 'sin', 'sinh', 'sqrt', 'tan', 'tanh', 'tau', 'trunc', 'ulp']\n"
     ]
    }
   ],
   "source": [
    "import math\n",
    "math_list = dir(math)\n",
    "print (math_list)"
   ]
  },
  {
   "cell_type": "markdown",
   "id": "079b1422",
   "metadata": {},
   "source": [
    "73. Write a Python program to calculate midpoints of a line"
   ]
  },
  {
   "cell_type": "code",
   "execution_count": 32,
   "id": "761682e9",
   "metadata": {},
   "outputs": [
    {
     "name": "stdout",
     "output_type": "stream",
     "text": [
      "Enter x1:3\n",
      "Enter y1:4\n",
      "Enter x2:7\n",
      "Enter y2:8\n",
      "Starting point of the line: (3, 4)\n",
      "Ending point of the line: (7, 8)\n",
      "Mid-point of the line: (5.0, 6.0)\n"
     ]
    }
   ],
   "source": [
    "x1 = int(input('Enter x1:'))\n",
    "y1 = int(input('Enter y1:'))\n",
    "x2 = int(input('Enter x2:'))\n",
    "y2 = int(input('Enter y2:'))\n",
    "print ('Starting point of the line: ({}, {})'.format(x1, y1))\n",
    "print ('Ending point of the line: ({}, {})'.format(x2, y2))\n",
    "x_mid = (x1 + x2) / 2\n",
    "y_mid = (y1 + y2) / 2\n",
    "print ('Mid-point of the line: ({}, {})'.format(x_mid, y_mid))"
   ]
  },
  {
   "cell_type": "markdown",
   "id": "e0242edc",
   "metadata": {},
   "source": [
    "74. Write a Python program to hash a word."
   ]
  },
  {
   "cell_type": "code",
   "execution_count": 35,
   "id": "c34acdcc",
   "metadata": {},
   "outputs": [
    {
     "name": "stdout",
     "output_type": "stream",
     "text": [
      "Enter a word:w3r\n",
      "Encoded word: W66\n"
     ]
    }
   ],
   "source": [
    "hashing = [0, 1, 2, 3, 4, 5, 6, 7, 8, 9, 0, 1, 3, 2, 6, 1, 2, 3, 9, 8, 0, 4, 3]\n",
    "char = input('Enter a word:')\n",
    "char = char.upper()\n",
    "encode = char[0]\n",
    "for i in char[1:len(char)]:\n",
    "    asc = 65 - ord(i)\n",
    "    encode = encode + str(hashing[asc])\n",
    "print ('Encoded word:', encode)"
   ]
  },
  {
   "cell_type": "markdown",
   "id": "250ea206",
   "metadata": {},
   "source": [
    "75. Write a Python program to get the copyright information and write Copyright information in Python code."
   ]
  },
  {
   "cell_type": "code",
   "execution_count": 36,
   "id": "fb7aef1e",
   "metadata": {},
   "outputs": [
    {
     "name": "stdout",
     "output_type": "stream",
     "text": [
      "Copyright information -\n",
      "Copyright (c) 2001-2020 Python Software Foundation.\n",
      "All Rights Reserved.\n",
      "\n",
      "Copyright (c) 2000 BeOpen.com.\n",
      "All Rights Reserved.\n",
      "\n",
      "Copyright (c) 1995-2001 Corporation for National Research Initiatives.\n",
      "All Rights Reserved.\n",
      "\n",
      "Copyright (c) 1991-1995 Stichting Mathematisch Centrum, Amsterdam.\n",
      "All Rights Reserved.\n"
     ]
    }
   ],
   "source": [
    "print ('Copyright information -')\n",
    "print (copyright)"
   ]
  },
  {
   "cell_type": "code",
   "execution_count": 38,
   "id": "99c35e74",
   "metadata": {},
   "outputs": [
    {
     "name": "stdout",
     "output_type": "stream",
     "text": [
      "Information copyrighted in python code\n"
     ]
    }
   ],
   "source": [
    "__author__ = 'Raunak'\n",
    "__copyright__ = 'Copyright (C) 2004 Raunak'\n",
    "__license__ = 'Public Domain'\n",
    "__version__ = '1.0'\n",
    "print ('Information copyrighted in python code')"
   ]
  },
  {
   "cell_type": "markdown",
   "id": "cf4692eb",
   "metadata": {},
   "source": [
    "77. Write a Python program to test whether the system is a big-endian platform or little-endian platform."
   ]
  },
  {
   "cell_type": "code",
   "execution_count": 39,
   "id": "e67feffc",
   "metadata": {},
   "outputs": [
    {
     "name": "stdout",
     "output_type": "stream",
     "text": [
      "Little Endian Platform\n"
     ]
    }
   ],
   "source": [
    "import sys\n",
    "if (sys.byteorder == 'little'):\n",
    "    print ('Little Endian Platform')\n",
    "else:\n",
    "    print ('Big Endian Platform')"
   ]
  },
  {
   "cell_type": "markdown",
   "id": "83a56cca",
   "metadata": {},
   "source": [
    "78. Write a Python program to find the available built-in modules."
   ]
  },
  {
   "cell_type": "code",
   "execution_count": 42,
   "id": "6c590718",
   "metadata": {},
   "outputs": [
    {
     "name": "stdout",
     "output_type": "stream",
     "text": [
      "_abc,_ast,_bisect,_blake2,_codecs,_codecs_cn,_codecs_hk,_cod\n",
      "ecs_iso2022,_codecs_jp,_codecs_kr,_codecs_tw,_collections,_c\n",
      "ontextvars,_csv,_datetime,_functools,_heapq,_imp,_io,_json,_\n",
      "locale,_lsprof,_md5,_multibytecodec,_opcode,_operator,_peg_p\n",
      "arser,_pickle,_random,_sha1,_sha256,_sha3,_sha512,_signal,_s\n",
      "re,_stat,_statistics,_string,_struct,_symtable,_thread,_trac\n",
      "emalloc,_warnings,_weakref,_winapi,_xxsubinterpreters,array,\n",
      "atexit,audioop,binascii,builtins,cmath,errno,faulthandler,gc\n",
      ",itertools,marshal,math,mmap,msvcrt,nt,parser,sys,time,winre\n",
      "g,xxsubtype,zlib\n"
     ]
    }
   ],
   "source": [
    "import sys\n",
    "import textwrap\n",
    "modules = ','.join(sorted(sys.builtin_module_names))\n",
    "print (textwrap.fill(modules, width = 60))"
   ]
  },
  {
   "cell_type": "code",
   "execution_count": null,
   "id": "44cde129",
   "metadata": {},
   "outputs": [],
   "source": []
  }
 ],
 "metadata": {
  "kernelspec": {
   "display_name": "Python 3",
   "language": "python",
   "name": "python3"
  },
  "language_info": {
   "codemirror_mode": {
    "name": "ipython",
    "version": 3
   },
   "file_extension": ".py",
   "mimetype": "text/x-python",
   "name": "python",
   "nbconvert_exporter": "python",
   "pygments_lexer": "ipython3",
   "version": "3.9.1"
  }
 },
 "nbformat": 4,
 "nbformat_minor": 5
}
