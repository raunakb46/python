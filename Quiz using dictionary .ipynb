{
 "cells": [
  {
   "cell_type": "code",
   "execution_count": 1,
   "id": "5224531b",
   "metadata": {},
   "outputs": [],
   "source": [
    "q1 = '''Who developed the Python language?\n",
    "a. Zim Den\n",
    "b. Guido van Rossum\n",
    "c. Niene Stom\n",
    "d. Wick van Rossum'''\n",
    "\n",
    "q2 = '''In which year was the Python language developed?\n",
    "a. 1995\n",
    "b. 1972\n",
    "c. 1981\n",
    "d. 1989'''\n",
    "\n",
    "q3 = '''In which language is Python written?\n",
    "a. English\n",
    "b. PHP\n",
    "c. C\n",
    "d. All of the above'''\n",
    "\n",
    "q4 = '''Which one of the following is the correct extension of the Python file?\n",
    "a. .py\n",
    "b. .python\n",
    "c. .p\n",
    "d. None of these'''\n",
    "\n",
    "q5 = '''What do we use to define a block of code in Python language?\n",
    "a. Key\n",
    "b. Brackets\n",
    "c. Indentation\n",
    "d. None of these'''"
   ]
  },
  {
   "cell_type": "code",
   "execution_count": 2,
   "id": "0ad7c9ce",
   "metadata": {},
   "outputs": [],
   "source": [
    "questions = {q1:\"b\", q2:\"d\", q3:\"c\", q4:\"a\", q5:\"c\"}"
   ]
  },
  {
   "cell_type": "code",
   "execution_count": 4,
   "id": "17d83f59",
   "metadata": {},
   "outputs": [
    {
     "name": "stdout",
     "output_type": "stream",
     "text": [
      "Welcome to the quiz !\n",
      "You will get +3 for every correct answer and -1 for wrong answer.\n",
      "Who developed the Python language?\n",
      "a. Zim Den\n",
      "b. Guido van Rossum\n",
      "c. Niene Stom\n",
      "d. Wick van Rossum\n",
      "Enter your choice (a/b/c/d):a\n",
      "Wrong answer. Lost 1 point.\n",
      "Your score : -1\n",
      "In which year was the Python language developed?\n",
      "a. 1995\n",
      "b. 1972\n",
      "c. 1981\n",
      "d. 1989\n",
      "Enter your choice (a/b/c/d):b\n",
      "Wrong answer. Lost 1 point.\n",
      "Your score : -2\n",
      "In which language is Python written?\n",
      "a. English\n",
      "b. PHP\n",
      "c. C\n",
      "d. All of the above\n",
      "Enter your choice (a/b/c/d):a\n",
      "Wrong answer. Lost 1 point.\n",
      "Your score : -3\n",
      "Which one of the following is the correct extension of the Python file?\n",
      "a. .py\n",
      "b. .python\n",
      "c. .p\n",
      "d. None of these\n",
      "Enter your choice (a/b/c/d):d\n",
      "Wrong answer. Lost 1 point.\n",
      "Your score : -4\n",
      "What do we use to define a block of code in Python language?\n",
      "a. Key\n",
      "b. Brackets\n",
      "c. Indentation\n",
      "d. None of these\n",
      "Enter your choice (a/b/c/d):q\n",
      "Wrong answer. Lost 1 point.\n",
      "Your score : -5\n",
      "Your final score : -5\n"
     ]
    }
   ],
   "source": [
    "print (\"Welcome to the quiz !\")\n",
    "print (\"You will get +3 for every correct answer and -1 for wrong answer.\")\n",
    "score = 0\n",
    "for i in questions:\n",
    "    print (i)\n",
    "    ans = input(\"Enter your choice (a/b/c/d):\")\n",
    "    if (ans == questions [i]):\n",
    "        print (\"Correct answer. Got 3 points.\")\n",
    "        score = score + 3\n",
    "        print (\"Your score :\", score)\n",
    "    else:\n",
    "        print (\"Wrong answer. Lost 1 point.\")\n",
    "        score = score - 1\n",
    "        print (\"Your score :\", score)\n",
    "\n",
    "print (\"Your final score :\", score)"
   ]
  },
  {
   "cell_type": "code",
   "execution_count": null,
   "id": "2102b735",
   "metadata": {},
   "outputs": [],
   "source": []
  }
 ],
 "metadata": {
  "kernelspec": {
   "display_name": "Python 3",
   "language": "python",
   "name": "python3"
  },
  "language_info": {
   "codemirror_mode": {
    "name": "ipython",
    "version": 3
   },
   "file_extension": ".py",
   "mimetype": "text/x-python",
   "name": "python",
   "nbconvert_exporter": "python",
   "pygments_lexer": "ipython3",
   "version": "3.9.1"
  }
 },
 "nbformat": 4,
 "nbformat_minor": 5
}
