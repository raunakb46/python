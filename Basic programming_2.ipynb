{
 "cells": [
  {
   "cell_type": "markdown",
   "id": "76be0353",
   "metadata": {},
   "source": [
    "32. Write a Python program to get the least common multiple (LCM) of two positive integers."
   ]
  },
  {
   "cell_type": "code",
   "execution_count": 1,
   "id": "26706cfe",
   "metadata": {},
   "outputs": [
    {
     "name": "stdout",
     "output_type": "stream",
     "text": [
      "Enter 1st number:54\n",
      "Enter 2nd number:24\n",
      "LCM of 54 and 24 is: 216\n"
     ]
    }
   ],
   "source": [
    "a = int(input('Enter 1st number:'))\n",
    "b = int(input('Enter 2nd number:'))\n",
    "if a > b:\n",
    "    large = a\n",
    "else:\n",
    "    large = b\n",
    "while (True):\n",
    "    if ((large % a == 0) and (large % b == 0)):\n",
    "        lcm = large\n",
    "        break\n",
    "    large = large + 1\n",
    "print ('LCM of {} and {} is: {}'.format(a, b, lcm))"
   ]
  },
  {
   "cell_type": "markdown",
   "id": "af456775",
   "metadata": {},
   "source": [
    "33. Write a Python program to sum of three given integers. However, if two values are equal sum will be zero. "
   ]
  },
  {
   "cell_type": "code",
   "execution_count": 7,
   "id": "5395c773",
   "metadata": {},
   "outputs": [
    {
     "name": "stdout",
     "output_type": "stream",
     "text": [
      "Enter 1st number:34\n",
      "Enter 2nd number:12\n",
      "Enter 3rd number:34\n",
      "Sum is: 0\n"
     ]
    }
   ],
   "source": [
    "a = int(input('Enter 1st number:'))\n",
    "b = int(input('Enter 2nd number:'))\n",
    "c = int(input('Enter 3rd number:'))\n",
    "sum_1 = 0\n",
    "if (a == b or b == c or a == c):\n",
    "    print ('Sum is:', sum_1)\n",
    "else:\n",
    "    sum_1 = a + b + c\n",
    "    print ('Sum is:', sum_1)"
   ]
  },
  {
   "cell_type": "markdown",
   "id": "5dc3ee27",
   "metadata": {},
   "source": [
    "34. Write a Python program to sum of two given integers. However, if the sum is between 15 to 20 it will return 20."
   ]
  },
  {
   "cell_type": "code",
   "execution_count": 10,
   "id": "d18a7eb0",
   "metadata": {},
   "outputs": [
    {
     "name": "stdout",
     "output_type": "stream",
     "text": [
      "Enter 1st number:14\n",
      "Enter 2nd number:3\n",
      "Sum is: 20\n"
     ]
    }
   ],
   "source": [
    "a = int(input('Enter 1st number:'))\n",
    "b = int(input('Enter 2nd number:'))\n",
    "sum_1 = a + b\n",
    "if (sum_1 >= 15 and sum_1 <= 20):\n",
    "    print('Sum is: 20')\n",
    "else:\n",
    "    print ('Sum is:', sum_1)"
   ]
  },
  {
   "cell_type": "markdown",
   "id": "1d46e83d",
   "metadata": {},
   "source": [
    "35. Write a Python program that will return true if the two given integer values are equal or their sum or difference is 5."
   ]
  },
  {
   "cell_type": "code",
   "execution_count": 15,
   "id": "95ed416c",
   "metadata": {},
   "outputs": [
    {
     "name": "stdout",
     "output_type": "stream",
     "text": [
      "Enter 1st number:35\n",
      "Enter 2nd number:30\n",
      "True\n"
     ]
    }
   ],
   "source": [
    "def check(a, b):\n",
    "    sum_1 = a + b\n",
    "    diff_1 = abs(a - b)\n",
    "    if (a == b or sum_1 == 5 or diff_1 == 5):\n",
    "        return True\n",
    "    else:\n",
    "        return False\n",
    "\n",
    "x = int(input('Enter 1st number:'))\n",
    "y = int(input('Enter 2nd number:'))\n",
    "print(check(x, y))"
   ]
  },
  {
   "cell_type": "markdown",
   "id": "a30f6fd5",
   "metadata": {},
   "source": [
    "36. Write a Python program to add two objects if both objects are an integer type."
   ]
  },
  {
   "cell_type": "code",
   "execution_count": 21,
   "id": "03cf1fae",
   "metadata": {},
   "outputs": [
    {
     "name": "stdout",
     "output_type": "stream",
     "text": [
      "Enter 1st number:34\n",
      "Enter 2nd number:78\n",
      "Sum of the digits: 112\n"
     ]
    }
   ],
   "source": [
    "def add_object(x, y):\n",
    "    if (isinstance(x, int) and isinstance(y, int)):\n",
    "        sum_1 = x + y\n",
    "        print ('Sum of the digits:', sum_1)\n",
    "    else:\n",
    "        print ('Entered element is not an integer !')\n",
    "        \n",
    "a = int(input('Enter 1st number:'))\n",
    "b = int(input('Enter 2nd number:'))\n",
    "add_object(a, b)"
   ]
  },
  {
   "cell_type": "markdown",
   "id": "16fa6f08",
   "metadata": {},
   "source": [
    "37. Write a Python program to display your details like name, age, address in three different lines."
   ]
  },
  {
   "cell_type": "code",
   "execution_count": 25,
   "id": "77c61b4c",
   "metadata": {},
   "outputs": [
    {
     "name": "stdout",
     "output_type": "stream",
     "text": [
      "Enter your name:Raunak\n",
      "Enter your age:21\n",
      "Enter your address:Chhattisgarh\n",
      "\n",
      "Name: Raunak\n",
      "Age: 21\n",
      "Address: Chhattisgarh\n"
     ]
    }
   ],
   "source": [
    "name = input('Enter your name:')\n",
    "age = int(input('Enter your age:'))\n",
    "address = input('Enter your address:')\n",
    "print()\n",
    "print('Name:', name)\n",
    "print('Age:', age)\n",
    "print('Address:', address)"
   ]
  },
  {
   "cell_type": "markdown",
   "id": "c020c9ec",
   "metadata": {},
   "source": [
    "38. Write a Python program to solve (x + y) * (x + y).\n",
    "Test Data : x = 4, y = 3\n",
    "Expected Output : (4 + 3) ^ 2) = 49"
   ]
  },
  {
   "cell_type": "code",
   "execution_count": 26,
   "id": "c5cc3c66",
   "metadata": {},
   "outputs": [
    {
     "name": "stdout",
     "output_type": "stream",
     "text": [
      "Enter 1st number:4\n",
      "Enter 2nd number:3\n",
      "(x + y) * (x + y): 49\n"
     ]
    }
   ],
   "source": [
    "x = int(input('Enter 1st number:'))\n",
    "y = int(input('Enter 2nd number:'))\n",
    "sum_1 = x + y\n",
    "res = (sum_1) ** 2\n",
    "print ('(x + y) * (x + y):', res)"
   ]
  },
  {
   "cell_type": "markdown",
   "id": "dc21017c",
   "metadata": {},
   "source": [
    "39. Write a Python program to compute the future value of a specified principal amount, rate of interest, and a number of years. Go to the editor\n",
    "Test Data : amt = 10000, int = 3.5, years = 7\n",
    "Expected Output : 12722.79"
   ]
  },
  {
   "cell_type": "code",
   "execution_count": 30,
   "id": "65264fbf",
   "metadata": {},
   "outputs": [
    {
     "name": "stdout",
     "output_type": "stream",
     "text": [
      "Enter principal amount:10000\n",
      "Enter rate of interest:3.5\n",
      "Enter number of years:7\n",
      "Future value: 12722.79\n"
     ]
    }
   ],
   "source": [
    "p = int(input('Enter principal amount:'))\n",
    "r = float(input('Enter rate of interest:'))\n",
    "t = int(input('Enter number of years:'))\n",
    "future = p * ((1 + (0.01 * r)) ** t)\n",
    "print ('Future value:', round(future, 2))"
   ]
  },
  {
   "cell_type": "markdown",
   "id": "88f53076",
   "metadata": {},
   "source": [
    "40. Write a Python program to compute the distance between the points (x1, y1) and (x2, y2)."
   ]
  },
  {
   "cell_type": "code",
   "execution_count": 32,
   "id": "cd0f5758",
   "metadata": {},
   "outputs": [
    {
     "name": "stdout",
     "output_type": "stream",
     "text": [
      "Enter x1:4\n",
      "Enter y1:0\n",
      "Enter x2:6\n",
      "Enter y2:6\n",
      "Coordinate of first point: (4, 0)\n",
      "Coordinate of second point: (6, 6)\n",
      "Distance between the two points: 6.32\n"
     ]
    }
   ],
   "source": [
    "x1 = int(input('Enter x1:'))\n",
    "y1 = int(input('Enter y1:'))\n",
    "x2 = int(input('Enter x2:'))\n",
    "y2 = int(input('Enter y2:'))\n",
    "print ('Coordinate of first point: ({}, {})'.format(x1, y1))\n",
    "print ('Coordinate of second point: ({}, {})'.format(x2, y2))\n",
    "x3 = x2 - x1\n",
    "y3 = y2 - y1\n",
    "dist = ((x3 ** 2) + (y3 ** 2)) ** 0.5\n",
    "print ('Distance between the two points:', round(dist, 2))"
   ]
  },
  {
   "cell_type": "markdown",
   "id": "c4997103",
   "metadata": {},
   "source": [
    "41. Write a Python program to check whether a file exists."
   ]
  },
  {
   "cell_type": "code",
   "execution_count": 34,
   "id": "719d7042",
   "metadata": {},
   "outputs": [
    {
     "name": "stdout",
     "output_type": "stream",
     "text": [
      "True\n",
      "False\n"
     ]
    }
   ],
   "source": [
    "import os.path\n",
    "print (os.path.isfile('Basic programming_1.ipynb'))\n",
    "print (os.path.isfile('main.txt'))"
   ]
  },
  {
   "cell_type": "markdown",
   "id": "3fd4ea01",
   "metadata": {},
   "source": [
    "42. Write a Python program to determine if a Python shell is executing in 32bit or 64bit mode on OS. "
   ]
  },
  {
   "cell_type": "code",
   "execution_count": 35,
   "id": "63cc6d52",
   "metadata": {},
   "outputs": [
    {
     "name": "stdout",
     "output_type": "stream",
     "text": [
      "System architecture: 64bit\n",
      "N-bit system: 64\n"
     ]
    }
   ],
   "source": [
    "import platform, struct\n",
    "print ('System architecture:', platform.architecture()[0])\n",
    "print ('N-bit system:', struct.calcsize('P') * 8)"
   ]
  },
  {
   "cell_type": "markdown",
   "id": "5e289b44",
   "metadata": {},
   "source": [
    "43. Write a Python program to get OS name, platform and release information. "
   ]
  },
  {
   "cell_type": "code",
   "execution_count": 36,
   "id": "b1672c72",
   "metadata": {},
   "outputs": [
    {
     "name": "stdout",
     "output_type": "stream",
     "text": [
      "Name of the OS: nt\n",
      "Name of the OS system: Windows\n",
      "OS version: 10\n"
     ]
    }
   ],
   "source": [
    "import os\n",
    "import platform\n",
    "print ('Name of the OS:', os.name)\n",
    "print ('Name of the OS system:', platform.system())\n",
    "print ('OS version:', platform.release())"
   ]
  },
  {
   "cell_type": "markdown",
   "id": "eb23beb0",
   "metadata": {},
   "source": [
    "44. Write a Python program to locate Python site-packages. "
   ]
  },
  {
   "cell_type": "code",
   "execution_count": 39,
   "id": "f2b944e6",
   "metadata": {},
   "outputs": [
    {
     "name": "stdout",
     "output_type": "stream",
     "text": [
      "Python site packages are present at -\n",
      "['c:\\\\users\\\\kiit\\\\appdata\\\\local\\\\programs\\\\python\\\\python39', 'c:\\\\users\\\\kiit\\\\appdata\\\\local\\\\programs\\\\python\\\\python39\\\\lib\\\\site-packages']\n"
     ]
    }
   ],
   "source": [
    "import site\n",
    "print ('Python site packages are present at -')\n",
    "print (site.getsitepackages())"
   ]
  },
  {
   "cell_type": "markdown",
   "id": "3c0ee5fe",
   "metadata": {},
   "source": [
    "46. Write a python program to get the path and name of the file that is currently executing."
   ]
  },
  {
   "cell_type": "code",
   "execution_count": 43,
   "id": "d6f8a680",
   "metadata": {},
   "outputs": [
    {
     "name": "stdout",
     "output_type": "stream",
     "text": [
      "Path of the current execution -\n",
      "C:\\Users\\KIIT\\Master - Python\\Practice questions\\Basic programming_2.ipynb\n"
     ]
    }
   ],
   "source": [
    "import os\n",
    "print ('Path of the current execution -')\n",
    "print (os.path.realpath(\"Basic programming_2.ipynb\"))"
   ]
  },
  {
   "cell_type": "markdown",
   "id": "a8635ed9",
   "metadata": {},
   "source": [
    "47. Write a Python program to find out the number of CPUs using. "
   ]
  },
  {
   "cell_type": "code",
   "execution_count": 44,
   "id": "a800565c",
   "metadata": {},
   "outputs": [
    {
     "name": "stdout",
     "output_type": "stream",
     "text": [
      "Number of CPUs used: 8\n"
     ]
    }
   ],
   "source": [
    "import multiprocessing\n",
    "print ('Number of CPUs used:', multiprocessing.cpu_count())"
   ]
  },
  {
   "cell_type": "markdown",
   "id": "fbde97db",
   "metadata": {},
   "source": [
    "48. Write a Python program to parse a string to Float or Integer."
   ]
  },
  {
   "cell_type": "code",
   "execution_count": 46,
   "id": "1bbf6c8c",
   "metadata": {},
   "outputs": [
    {
     "name": "stdout",
     "output_type": "stream",
     "text": [
      "Enter a number:345.986\n",
      "<class 'str'>\n",
      "Converting to float and integer --\n",
      "Float: 345.986\n",
      "Integer: 345\n"
     ]
    }
   ],
   "source": [
    "n = input('Enter a number:')\n",
    "print(type(n))\n",
    "print('Converting to float and integer --')\n",
    "print('Float:', float(n))\n",
    "print('Integer:', int(float(n)))"
   ]
  },
  {
   "cell_type": "markdown",
   "id": "3d5dc555",
   "metadata": {},
   "source": [
    "50. Write a Python program to print without newline or space. "
   ]
  },
  {
   "cell_type": "code",
   "execution_count": 50,
   "id": "db4f6544",
   "metadata": {},
   "outputs": [
    {
     "name": "stdout",
     "output_type": "stream",
     "text": [
      "**********\n"
     ]
    }
   ],
   "source": [
    "for i in range(0, 10):\n",
    "    print ('*', end = '')\n",
    "print ()"
   ]
  },
  {
   "cell_type": "markdown",
   "id": "c8ef7024",
   "metadata": {},
   "source": [
    "51. Write a Python program to determine profiling of Python programs."
   ]
  },
  {
   "cell_type": "code",
   "execution_count": 52,
   "id": "b6852783",
   "metadata": {},
   "outputs": [
    {
     "name": "stdout",
     "output_type": "stream",
     "text": [
      "3\n",
      "         39 function calls in 0.001 seconds\n",
      "\n",
      "   Ordered by: standard name\n",
      "\n",
      "   ncalls  tottime  percall  cumtime  percall filename:lineno(function)\n",
      "        1    0.000    0.000    0.001    0.001 <ipython-input-52-3110f70b2f5b>:5(prnt)\n",
      "        1    0.000    0.000    0.001    0.001 <string>:1(<module>)\n",
      "        3    0.000    0.000    0.001    0.000 iostream.py:195(schedule)\n",
      "        2    0.000    0.000    0.000    0.000 iostream.py:308(_is_master_process)\n",
      "        2    0.000    0.000    0.000    0.000 iostream.py:321(_schedule_flush)\n",
      "        2    0.000    0.000    0.001    0.000 iostream.py:384(write)\n",
      "        3    0.000    0.000    0.000    0.000 iostream.py:91(_event_pipe)\n",
      "        3    0.000    0.000    0.000    0.000 socket.py:438(send)\n",
      "        3    0.000    0.000    0.000    0.000 threading.py:1039(_wait_for_tstate_lock)\n",
      "        3    0.000    0.000    0.000    0.000 threading.py:1093(is_alive)\n",
      "        3    0.000    0.000    0.000    0.000 threading.py:529(is_set)\n",
      "        1    0.000    0.000    0.001    0.001 {built-in method builtins.exec}\n",
      "        2    0.000    0.000    0.000    0.000 {built-in method builtins.isinstance}\n",
      "        1    0.000    0.000    0.001    0.001 {built-in method builtins.print}\n",
      "        2    0.000    0.000    0.000    0.000 {built-in method nt.getpid}\n",
      "        3    0.000    0.000    0.000    0.000 {method 'acquire' of '_thread.lock' objects}\n",
      "        3    0.000    0.000    0.000    0.000 {method 'append' of 'collections.deque' objects}\n",
      "        1    0.000    0.000    0.000    0.000 {method 'disable' of '_lsprof.Profiler' objects}\n",
      "\n",
      "\n"
     ]
    }
   ],
   "source": [
    "# A profile is a set of statistics that describes how often and for how long various parts of the program executed. \n",
    "#These statistics can be formatted into reports via the pstats module.\n",
    "\n",
    "import cProfile\n",
    "def prnt():\n",
    "    print (1 + 2)\n",
    "cProfile.run('prnt()')    "
   ]
  },
  {
   "cell_type": "markdown",
   "id": "6187b4b5",
   "metadata": {},
   "source": [
    "52. Write a Python program to print to stderr."
   ]
  },
  {
   "cell_type": "code",
   "execution_count": 1,
   "id": "db299852",
   "metadata": {},
   "outputs": [],
   "source": [
    "from __future__ import print_function\n",
    "import sys\n",
    "\n",
    "def prnt(*args, **kwargs):\n",
    "    print(*args, file = sys.stderr, **kwargs)\n",
    "    prnt('abc', 'def', 'ghi', sep = '--')"
   ]
  },
  {
   "cell_type": "markdown",
   "id": "7dc57986",
   "metadata": {},
   "source": [
    "53. Write a python program to access environment variables."
   ]
  },
  {
   "cell_type": "code",
   "execution_count": 4,
   "id": "f2b3a5b2",
   "metadata": {},
   "outputs": [
    {
     "name": "stdout",
     "output_type": "stream",
     "text": [
      "environ({'ALLUSERSPROFILE': 'C:\\\\ProgramData', 'APPDATA': 'C:\\\\Users\\\\KIIT\\\\AppData\\\\Roaming', 'COMMONPROGRAMFILES': 'C:\\\\Program Files\\\\Common Files', 'COMMONPROGRAMFILES(X86)': 'C:\\\\Program Files (x86)\\\\Common Files', 'COMMONPROGRAMW6432': 'C:\\\\Program Files\\\\Common Files', 'COMPUTERNAME': 'BTECH1830114', 'COMSPEC': 'C:\\\\WINDOWS\\\\system32\\\\cmd.exe', 'DRIVERDATA': 'C:\\\\Windows\\\\System32\\\\Drivers\\\\DriverData', 'FPS_BROWSER_APP_PROFILE_STRING': 'Internet Explorer', 'FPS_BROWSER_USER_PROFILE_STRING': 'Default', 'HOMEDRIVE': 'C:', 'HOMEPATH': '\\\\Users\\\\KIIT', 'LOCALAPPDATA': 'C:\\\\Users\\\\KIIT\\\\AppData\\\\Local', 'LOGONSERVER': '\\\\\\\\BTECH1830114', 'NUMBER_OF_PROCESSORS': '8', 'ONEDRIVE': 'C:\\\\Users\\\\KIIT\\\\OneDrive', 'ONEDRIVECONSUMER': 'C:\\\\Users\\\\KIIT\\\\OneDrive', 'ONLINESERVICES': 'Online Services', 'OS': 'Windows_NT', 'PATH': 'C:\\\\Program Files (x86)\\\\Common Files\\\\Oracle\\\\Java\\\\javapath;C:\\\\oraclexe\\\\app\\\\oracle\\\\product\\\\11.2.0\\\\server\\\\bin;;C:\\\\Program Files (x86)\\\\HP SimplePass\\\\x64;C:\\\\Program Files (x86)\\\\HP SimplePass\\\\;C:\\\\windows\\\\system32;C:\\\\windows;C:\\\\windows\\\\System32\\\\Wbem;C:\\\\windows\\\\System32\\\\WindowsPowerShell\\\\v1.0\\\\;C:\\\\Program Files (x86)\\\\NVIDIA Corporation\\\\PhysX\\\\Common;C:\\\\WINDOWS\\\\system32;C:\\\\WINDOWS;C:\\\\WINDOWS\\\\System32\\\\Wbem;C:\\\\WINDOWS\\\\System32\\\\WindowsPowerShell\\\\v1.0\\\\;C:\\\\WINDOWS\\\\System32\\\\OpenSSH\\\\;C:\\\\Program Files\\\\Intel\\\\WiFi\\\\bin\\\\;C:\\\\Program Files\\\\Common Files\\\\Intel\\\\WirelessCommon\\\\;C:\\\\Program Files\\\\nodejs\\\\;C:\\\\Program Files (x86)\\\\Intel\\\\Intel(R) Management Engine Components\\\\DAL;C:\\\\Program Files\\\\Intel\\\\Intel(R) Management Engine Components\\\\DAL;C:\\\\Program Files\\\\Microsoft VS Code\\\\bin;C:\\\\Users\\\\KIIT\\\\AppData\\\\Local\\\\Programs\\\\Python\\\\Python39\\\\Scripts\\\\;C:\\\\Users\\\\KIIT\\\\AppData\\\\Local\\\\Programs\\\\Python\\\\Python39\\\\;C:\\\\Users\\\\KIIT\\\\AppData\\\\Local\\\\Microsoft\\\\WindowsApps;C:\\\\Users\\\\KIIT\\\\AppData\\\\Roaming\\\\npm;C:\\\\Users\\\\KIIT\\\\AppData\\\\Local\\\\Programs\\\\MiKTeX\\\\miktex\\\\bin\\\\x64\\\\;C:\\\\Users\\\\KIIT\\\\AppDat;C:\\\\Program Files\\\\JetBrains\\\\PyCharm 2020.3.3\\\\bin;C:\\\\Users\\\\KIIT\\\\AppData\\\\Local\\\\Microsoft\\\\WindowsApps', 'PATHEXT': '.COM;.EXE;.BAT;.CMD;.VBS;.VBE;.JS;.JSE;.WSF;.WSH;.MSC', 'PLATFORMCODE': 'AN', 'PROCESSOR_ARCHITECTURE': 'AMD64', 'PROCESSOR_IDENTIFIER': 'Intel64 Family 6 Model 142 Stepping 10, GenuineIntel', 'PROCESSOR_LEVEL': '6', 'PROCESSOR_REVISION': '8e0a', 'PROGRAMDATA': 'C:\\\\ProgramData', 'PROGRAMFILES': 'C:\\\\Program Files', 'PROGRAMFILES(X86)': 'C:\\\\Program Files (x86)', 'PROGRAMW6432': 'C:\\\\Program Files', 'PROMPT': '$P$G', 'PSMODULEPATH': '%ProgramFiles%\\\\WindowsPowerShell\\\\Modules;C:\\\\WINDOWS\\\\system32\\\\WindowsPowerShell\\\\v1.0\\\\Modules', 'PT5HOME': 'C:\\\\Program Files (x86)\\\\Cisco Packet Tracer 5.3.3', 'PTSMINSTALLPATH': 'C:\\\\Program Files\\\\HP\\\\HP ProtectTools Security Manager\\\\Bin\\\\', 'PTSMINSTALLPATH_X86': 'C:\\\\Program Files (x86)\\\\HP\\\\HP ProtectTools Security Manager\\\\Bin\\\\', 'PUBLIC': 'C:\\\\Users\\\\Public', 'PYCHARM': 'C:\\\\Program Files\\\\JetBrains\\\\PyCharm 2020.3.3\\\\bin;', 'REGIONCODE': 'APJ', 'SAFEBOOT_OPTION': 'DSREPAIR', 'SYSTEMDRIVE': 'C:', 'SYSTEMROOT': 'C:\\\\WINDOWS', 'TEMP': 'C:\\\\Users\\\\KIIT\\\\AppData\\\\Local\\\\Temp', 'TMP': 'C:\\\\Users\\\\KIIT\\\\AppData\\\\Local\\\\Temp', 'USERDOMAIN': 'BTECH1830114', 'USERDOMAIN_ROAMINGPROFILE': 'BTECH1830114', 'USERNAME': 'KIIT', 'USERPROFILE': 'C:\\\\Users\\\\KIIT', 'VBOX_MSI_INSTALL_PATH': 'C:\\\\Program Files\\\\Oracle\\\\VirtualBox\\\\', 'WINDIR': 'C:\\\\WINDOWS', 'JPY_INTERRUPT_EVENT': '2876', 'IPY_INTERRUPT_EVENT': '2876', 'JPY_PARENT_PID': '2888', 'TERM': 'xterm-color', 'CLICOLOR': '1', 'PAGER': 'cat', 'GIT_PAGER': 'cat', 'MPLBACKEND': 'module://ipykernel.pylab.backend_inline'})\n"
     ]
    }
   ],
   "source": [
    "import os\n",
    "print(os.environ)"
   ]
  },
  {
   "cell_type": "markdown",
   "id": "749058bc",
   "metadata": {},
   "source": [
    "54. Write a Python program to get the current username."
   ]
  },
  {
   "cell_type": "code",
   "execution_count": 6,
   "id": "4f2553e9",
   "metadata": {},
   "outputs": [
    {
     "name": "stdout",
     "output_type": "stream",
     "text": [
      "Username of the system -\n",
      "KIIT\n"
     ]
    }
   ],
   "source": [
    "import getpass\n",
    "print('Username of the system -')\n",
    "print(getpass.getuser())"
   ]
  },
  {
   "cell_type": "markdown",
   "id": "b013e858",
   "metadata": {},
   "source": [
    "56. Write a Python program to get height and width of the console window."
   ]
  },
  {
   "cell_type": "code",
   "execution_count": 10,
   "id": "f05a7794",
   "metadata": {},
   "outputs": [],
   "source": [
    "#import fcntl, terminos, struct\n",
    "#def console_size():\n",
    "#    th, tw, hp, wp = struck.unpack('HHHH', fnctl.ioctl(0, terminos.TIOCGWINSZ, struct.pack('HHHH', 0, 0, 0, 0)))\n",
    "#    return tw, th\n",
    "#print('Height and width of  the console window:', console_size())"
   ]
  },
  {
   "cell_type": "markdown",
   "id": "03b157b9",
   "metadata": {},
   "source": [
    "57. Write a Python program to get execution time for a Python method. "
   ]
  },
  {
   "cell_type": "code",
   "execution_count": 13,
   "id": "5fe20130",
   "metadata": {},
   "outputs": [
    {
     "name": "stdout",
     "output_type": "stream",
     "text": [
      "Enter the upper limit of the sum:456\n",
      "Sum of the numbers and time required to calculate the sum is: (104196, 0.0)\n"
     ]
    }
   ],
   "source": [
    "import time\n",
    "\n",
    "def calc_time(n):\n",
    "    start = time.time()\n",
    "    sum_1 = 0\n",
    "    for i in range(1, n + 1):\n",
    "        sum_1 = sum_1 + i\n",
    "    end = time.time()\n",
    "    return sum_1, end - start\n",
    "\n",
    "x = int(input('Enter the upper limit of the sum:'))\n",
    "print('Sum of the numbers and time required to calculate the sum is:', calc_time(x))"
   ]
  },
  {
   "cell_type": "code",
   "execution_count": null,
   "id": "3e6c5435",
   "metadata": {},
   "outputs": [],
   "source": []
  }
 ],
 "metadata": {
  "kernelspec": {
   "display_name": "Python 3",
   "language": "python",
   "name": "python3"
  },
  "language_info": {
   "codemirror_mode": {
    "name": "ipython",
    "version": 3
   },
   "file_extension": ".py",
   "mimetype": "text/x-python",
   "name": "python",
   "nbconvert_exporter": "python",
   "pygments_lexer": "ipython3",
   "version": "3.9.1"
  }
 },
 "nbformat": 4,
 "nbformat_minor": 5
}
