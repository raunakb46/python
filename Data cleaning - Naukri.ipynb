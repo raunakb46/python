{
 "cells": [
  {
   "cell_type": "code",
   "execution_count": 1,
   "id": "81f3abf4",
   "metadata": {},
   "outputs": [],
   "source": [
    "import pandas as pd\n",
    "import numpy as np\n",
    "import matplotlib.pyplot as plt\n",
    "import seaborn as sns\n",
    "%matplotlib inline"
   ]
  },
  {
   "cell_type": "code",
   "execution_count": 2,
   "id": "6ece71c1",
   "metadata": {},
   "outputs": [],
   "source": [
    "df = pd.read_csv('naukri.csv')"
   ]
  },
  {
   "cell_type": "code",
   "execution_count": 3,
   "id": "b12cb096",
   "metadata": {},
   "outputs": [
    {
     "data": {
      "text/html": [
       "<div>\n",
       "<style scoped>\n",
       "    .dataframe tbody tr th:only-of-type {\n",
       "        vertical-align: middle;\n",
       "    }\n",
       "\n",
       "    .dataframe tbody tr th {\n",
       "        vertical-align: top;\n",
       "    }\n",
       "\n",
       "    .dataframe thead th {\n",
       "        text-align: right;\n",
       "    }\n",
       "</style>\n",
       "<table border=\"1\" class=\"dataframe\">\n",
       "  <thead>\n",
       "    <tr style=\"text-align: right;\">\n",
       "      <th></th>\n",
       "      <th>company</th>\n",
       "      <th>education</th>\n",
       "      <th>experience</th>\n",
       "      <th>industry</th>\n",
       "      <th>jobdescription</th>\n",
       "      <th>jobid</th>\n",
       "      <th>joblocation_address</th>\n",
       "      <th>jobtitle</th>\n",
       "      <th>numberofpositions</th>\n",
       "      <th>payrate</th>\n",
       "      <th>postdate</th>\n",
       "      <th>site_name</th>\n",
       "      <th>skills</th>\n",
       "      <th>uniq_id</th>\n",
       "    </tr>\n",
       "  </thead>\n",
       "  <tbody>\n",
       "    <tr>\n",
       "      <th>0</th>\n",
       "      <td>MM Media Pvt Ltd</td>\n",
       "      <td>UG: B.Tech/B.E. - Any Specialization PG:Any Po...</td>\n",
       "      <td>0 - 1 yrs</td>\n",
       "      <td>Media / Entertainment / Internet</td>\n",
       "      <td>Job Description   Send me Jobs like this Quali...</td>\n",
       "      <td>210516002263</td>\n",
       "      <td>Chennai</td>\n",
       "      <td>Walkin Data Entry Operator (night Shift)</td>\n",
       "      <td>NaN</td>\n",
       "      <td>1,50,000 - 2,25,000 P.A</td>\n",
       "      <td>2016-05-21 19:30:00 +0000</td>\n",
       "      <td>NaN</td>\n",
       "      <td>ITES</td>\n",
       "      <td>43b19632647068535437c774b6ca6cf8</td>\n",
       "    </tr>\n",
       "    <tr>\n",
       "      <th>1</th>\n",
       "      <td>find live infotech</td>\n",
       "      <td>UG: B.Tech/B.E. - Any Specialization PG:MBA/PG...</td>\n",
       "      <td>0 - 0 yrs</td>\n",
       "      <td>Advertising / PR / MR / Event Management</td>\n",
       "      <td>Job Description   Send me Jobs like this Quali...</td>\n",
       "      <td>210516002391</td>\n",
       "      <td>Chennai</td>\n",
       "      <td>Work Based Onhome Based Part Time.</td>\n",
       "      <td>60.0</td>\n",
       "      <td>1,50,000 - 2,50,000 P.A. 20000</td>\n",
       "      <td>2016-05-21 19:30:00 +0000</td>\n",
       "      <td>NaN</td>\n",
       "      <td>Marketing</td>\n",
       "      <td>d4c72325e57f89f364812b5ed5a795f0</td>\n",
       "    </tr>\n",
       "    <tr>\n",
       "      <th>2</th>\n",
       "      <td>Softtech Career Infosystem Pvt. Ltd</td>\n",
       "      <td>UG: Any Graduate - Any Specialization PG:Any P...</td>\n",
       "      <td>4 - 8 yrs</td>\n",
       "      <td>IT-Software / Software Services</td>\n",
       "      <td>Job Description   Send me Jobs like this - as ...</td>\n",
       "      <td>101016900534</td>\n",
       "      <td>Bengaluru</td>\n",
       "      <td>Pl/sql Developer - SQL</td>\n",
       "      <td>NaN</td>\n",
       "      <td>Not Disclosed by Recruiter</td>\n",
       "      <td>2016-10-13 16:20:55 +0000</td>\n",
       "      <td>NaN</td>\n",
       "      <td>IT Software - Application Programming</td>\n",
       "      <td>c47df6f4cfdf5b46f1fd713ba61b9eba</td>\n",
       "    </tr>\n",
       "    <tr>\n",
       "      <th>3</th>\n",
       "      <td>Onboard HRServices LLP</td>\n",
       "      <td>UG: Any Graduate - Any Specialization PG:CA Do...</td>\n",
       "      <td>11 - 15 yrs</td>\n",
       "      <td>Banking / Financial Services / Broking</td>\n",
       "      <td>Job Description   Send me Jobs like this - Inv...</td>\n",
       "      <td>81016900536</td>\n",
       "      <td>Mumbai, Bengaluru, Kolkata, Chennai, Coimbator...</td>\n",
       "      <td>Manager/ad/partner - Indirect Tax - CA</td>\n",
       "      <td>NaN</td>\n",
       "      <td>Not Disclosed by Recruiter</td>\n",
       "      <td>2016-10-13 16:20:55 +0000</td>\n",
       "      <td>NaN</td>\n",
       "      <td>Accounts</td>\n",
       "      <td>115d28f140f694dd1cc61c53d03c66ae</td>\n",
       "    </tr>\n",
       "    <tr>\n",
       "      <th>4</th>\n",
       "      <td>Spire Technologies and Solutions Pvt. Ltd.</td>\n",
       "      <td>UG: B.Tech/B.E. - Any Specialization PG:Any Po...</td>\n",
       "      <td>6 - 8 yrs</td>\n",
       "      <td>IT-Software / Software Services</td>\n",
       "      <td>Job Description   Send me Jobs like this Pleas...</td>\n",
       "      <td>120916002122</td>\n",
       "      <td>Bengaluru</td>\n",
       "      <td>JAVA Technical Lead (6-8 yrs) -</td>\n",
       "      <td>4.0</td>\n",
       "      <td>Not Disclosed by Recruiter</td>\n",
       "      <td>2016-10-13 16:20:55 +0000</td>\n",
       "      <td>NaN</td>\n",
       "      <td>IT Software - Application Programming</td>\n",
       "      <td>a12553fc03bc7bcced8b1bb8963f97b4</td>\n",
       "    </tr>\n",
       "  </tbody>\n",
       "</table>\n",
       "</div>"
      ],
      "text/plain": [
       "                                      company  \\\n",
       "0                            MM Media Pvt Ltd   \n",
       "1                          find live infotech   \n",
       "2         Softtech Career Infosystem Pvt. Ltd   \n",
       "3                      Onboard HRServices LLP   \n",
       "4  Spire Technologies and Solutions Pvt. Ltd.   \n",
       "\n",
       "                                           education   experience  \\\n",
       "0  UG: B.Tech/B.E. - Any Specialization PG:Any Po...    0 - 1 yrs   \n",
       "1  UG: B.Tech/B.E. - Any Specialization PG:MBA/PG...    0 - 0 yrs   \n",
       "2  UG: Any Graduate - Any Specialization PG:Any P...    4 - 8 yrs   \n",
       "3  UG: Any Graduate - Any Specialization PG:CA Do...  11 - 15 yrs   \n",
       "4  UG: B.Tech/B.E. - Any Specialization PG:Any Po...    6 - 8 yrs   \n",
       "\n",
       "                                   industry  \\\n",
       "0          Media / Entertainment / Internet   \n",
       "1  Advertising / PR / MR / Event Management   \n",
       "2           IT-Software / Software Services   \n",
       "3    Banking / Financial Services / Broking   \n",
       "4           IT-Software / Software Services   \n",
       "\n",
       "                                      jobdescription         jobid  \\\n",
       "0  Job Description   Send me Jobs like this Quali...  210516002263   \n",
       "1  Job Description   Send me Jobs like this Quali...  210516002391   \n",
       "2  Job Description   Send me Jobs like this - as ...  101016900534   \n",
       "3  Job Description   Send me Jobs like this - Inv...   81016900536   \n",
       "4  Job Description   Send me Jobs like this Pleas...  120916002122   \n",
       "\n",
       "                                 joblocation_address  \\\n",
       "0                                            Chennai   \n",
       "1                                            Chennai   \n",
       "2                                          Bengaluru   \n",
       "3  Mumbai, Bengaluru, Kolkata, Chennai, Coimbator...   \n",
       "4                                          Bengaluru   \n",
       "\n",
       "                                   jobtitle  numberofpositions  \\\n",
       "0  Walkin Data Entry Operator (night Shift)                NaN   \n",
       "1        Work Based Onhome Based Part Time.               60.0   \n",
       "2                    Pl/sql Developer - SQL                NaN   \n",
       "3    Manager/ad/partner - Indirect Tax - CA                NaN   \n",
       "4           JAVA Technical Lead (6-8 yrs) -                4.0   \n",
       "\n",
       "                          payrate                   postdate site_name  \\\n",
       "0         1,50,000 - 2,25,000 P.A  2016-05-21 19:30:00 +0000       NaN   \n",
       "1  1,50,000 - 2,50,000 P.A. 20000  2016-05-21 19:30:00 +0000       NaN   \n",
       "2      Not Disclosed by Recruiter  2016-10-13 16:20:55 +0000       NaN   \n",
       "3      Not Disclosed by Recruiter  2016-10-13 16:20:55 +0000       NaN   \n",
       "4      Not Disclosed by Recruiter  2016-10-13 16:20:55 +0000       NaN   \n",
       "\n",
       "                                  skills                           uniq_id  \n",
       "0                                   ITES  43b19632647068535437c774b6ca6cf8  \n",
       "1                              Marketing  d4c72325e57f89f364812b5ed5a795f0  \n",
       "2  IT Software - Application Programming  c47df6f4cfdf5b46f1fd713ba61b9eba  \n",
       "3                               Accounts  115d28f140f694dd1cc61c53d03c66ae  \n",
       "4  IT Software - Application Programming  a12553fc03bc7bcced8b1bb8963f97b4  "
      ]
     },
     "execution_count": 3,
     "metadata": {},
     "output_type": "execute_result"
    }
   ],
   "source": [
    "df.head()"
   ]
  },
  {
   "cell_type": "code",
   "execution_count": 4,
   "id": "68772335",
   "metadata": {},
   "outputs": [
    {
     "data": {
      "text/plain": [
       "(22000, 14)"
      ]
     },
     "execution_count": 4,
     "metadata": {},
     "output_type": "execute_result"
    }
   ],
   "source": [
    "df.shape"
   ]
  },
  {
   "cell_type": "code",
   "execution_count": 5,
   "id": "5af3b363",
   "metadata": {},
   "outputs": [
    {
     "data": {
      "text/plain": [
       "company                    4\n",
       "education               1996\n",
       "experience                 4\n",
       "industry                   5\n",
       "jobdescription             4\n",
       "jobid                      0\n",
       "joblocation_address      501\n",
       "jobtitle                   0\n",
       "numberofpositions      17536\n",
       "payrate                   97\n",
       "postdate                  23\n",
       "site_name              18013\n",
       "skills                   528\n",
       "uniq_id                    0\n",
       "dtype: int64"
      ]
     },
     "execution_count": 5,
     "metadata": {},
     "output_type": "execute_result"
    }
   ],
   "source": [
    "# Getting the total number of missing values\n",
    "\n",
    "df.isnull().sum()"
   ]
  },
  {
   "cell_type": "code",
   "execution_count": 6,
   "id": "e38b32de",
   "metadata": {},
   "outputs": [
    {
     "data": {
      "text/plain": [
       "RangeIndex(start=0, stop=22000, step=1)"
      ]
     },
     "execution_count": 6,
     "metadata": {},
     "output_type": "execute_result"
    }
   ],
   "source": [
    "df.index"
   ]
  },
  {
   "cell_type": "code",
   "execution_count": 7,
   "id": "d9751798",
   "metadata": {},
   "outputs": [
    {
     "data": {
      "text/plain": [
       "company                 0.02\n",
       "education               9.07\n",
       "experience              0.02\n",
       "industry                0.02\n",
       "jobdescription          0.02\n",
       "jobid                   0.00\n",
       "joblocation_address     2.28\n",
       "jobtitle                0.00\n",
       "numberofpositions      79.71\n",
       "payrate                 0.44\n",
       "postdate                0.10\n",
       "site_name              81.88\n",
       "skills                  2.40\n",
       "uniq_id                 0.00\n",
       "dtype: float64"
      ]
     },
     "execution_count": 7,
     "metadata": {},
     "output_type": "execute_result"
    }
   ],
   "source": [
    "# Converting number of missing values to percentage\n",
    "\n",
    "percentage = round((df.isnull().sum() / len(df.index)) * 100, 2)\n",
    "percentage"
   ]
  },
  {
   "cell_type": "code",
   "execution_count": 8,
   "id": "54ff03a1",
   "metadata": {},
   "outputs": [],
   "source": [
    "# Dropping 'numberofpositions' and 'site_name' as they have highest % of missing value\n",
    "\n",
    "df = df.drop('numberofpositions', axis = 1)\n",
    "df = df.drop('site_name', axis = 1)"
   ]
  },
  {
   "cell_type": "code",
   "execution_count": 9,
   "id": "0ba36997",
   "metadata": {},
   "outputs": [
    {
     "data": {
      "text/plain": [
       "company                0.02\n",
       "education              9.07\n",
       "experience             0.02\n",
       "industry               0.02\n",
       "jobdescription         0.02\n",
       "jobid                  0.00\n",
       "joblocation_address    2.28\n",
       "jobtitle               0.00\n",
       "payrate                0.44\n",
       "postdate               0.10\n",
       "skills                 2.40\n",
       "uniq_id                0.00\n",
       "dtype: float64"
      ]
     },
     "execution_count": 9,
     "metadata": {},
     "output_type": "execute_result"
    }
   ],
   "source": [
    "percentage = round((df.isnull().sum() / len(df.index)) * 100, 2)\n",
    "percentage"
   ]
  },
  {
   "cell_type": "code",
   "execution_count": 10,
   "id": "fcf224f9",
   "metadata": {},
   "outputs": [
    {
     "data": {
      "text/plain": [
       "Index(['company', 'education', 'experience', 'industry', 'jobdescription',\n",
       "       'jobid', 'joblocation_address', 'jobtitle', 'payrate', 'postdate',\n",
       "       'skills', 'uniq_id'],\n",
       "      dtype='object')"
      ]
     },
     "execution_count": 10,
     "metadata": {},
     "output_type": "execute_result"
    }
   ],
   "source": [
    "df.columns"
   ]
  },
  {
   "cell_type": "code",
   "execution_count": 11,
   "id": "55dbbe3a",
   "metadata": {},
   "outputs": [
    {
     "data": {
      "text/plain": [
       "count                   21499\n",
       "unique                   2329\n",
       "top       Bengaluru/Bangalore\n",
       "freq                     3775\n",
       "Name: joblocation_address, dtype: object"
      ]
     },
     "execution_count": 11,
     "metadata": {},
     "output_type": "execute_result"
    }
   ],
   "source": [
    "# Getting the statistics of 'joblocation_address'\n",
    "\n",
    "df['joblocation_address'].describe()"
   ]
  },
  {
   "cell_type": "code",
   "execution_count": 12,
   "id": "e012af44",
   "metadata": {},
   "outputs": [
    {
     "data": {
      "text/plain": [
       "Bengaluru/Bangalore                                                                                                                                3775\n",
       "Mumbai                                                                                                                                             2348\n",
       "Bengaluru                                                                                                                                          1453\n",
       "Hyderabad / Secunderabad                                                                                                                           1246\n",
       "Chennai                                                                                                                                            1204\n",
       "                                                                                                                                                   ... \n",
       "Gurgaon , Delhi , Chandigarh , Bengaluru/Bangalore , Jalandhar , Pune , Ahmedabad , Ludhiana , Chennai                                                1\n",
       "Bengaluru/Bangalore , Chennai , Hyderabad / Secunderabad , Delhi/NCR(National Capital Region) , Ernakulam / Kochi/ Cochin , Visakhapatnam/Vizag       1\n",
       "Bengaluru/Bangalore , Mumbai , Hyderabad / Secunderabad , Agra , Chandigarh , Moga                                                                    1\n",
       "Pune, Bengaluru, Mumbai, Chennai, Hyderabad, Noida, Gurgaon                                                                                           1\n",
       "Gurgaon , Faridabad                                                                                                                                   1\n",
       "Name: joblocation_address, Length: 2329, dtype: int64"
      ]
     },
     "execution_count": 12,
     "metadata": {},
     "output_type": "execute_result"
    }
   ],
   "source": [
    "# Finding the location which was mentioned maximum number of times\n",
    "\n",
    "df['joblocation_address'].value_counts()"
   ]
  },
  {
   "cell_type": "code",
   "execution_count": 13,
   "id": "e4349a53",
   "metadata": {},
   "outputs": [],
   "source": [
    "# Grouping the same values together\n",
    "\n",
    "df['joblocation_address'] = df['joblocation_address'].replace('Bengaluru/Bangalore', 'Bengaluru')"
   ]
  },
  {
   "cell_type": "code",
   "execution_count": 14,
   "id": "9a769b63",
   "metadata": {},
   "outputs": [
    {
     "data": {
      "text/plain": [
       "Bengaluru                                                                                                                                          5228\n",
       "Mumbai                                                                                                                                             2348\n",
       "Hyderabad / Secunderabad                                                                                                                           1246\n",
       "Chennai                                                                                                                                            1204\n",
       "Hyderabad                                                                                                                                           936\n",
       "                                                                                                                                                   ... \n",
       "Gurgaon , Delhi , Chandigarh , Bengaluru/Bangalore , Jalandhar , Pune , Ahmedabad , Ludhiana , Chennai                                                1\n",
       "Bengaluru/Bangalore , Chennai , Hyderabad / Secunderabad , Delhi/NCR(National Capital Region) , Ernakulam / Kochi/ Cochin , Visakhapatnam/Vizag       1\n",
       "Bengaluru/Bangalore , Mumbai , Hyderabad / Secunderabad , Agra , Chandigarh , Moga                                                                    1\n",
       "Pune, Bengaluru, Mumbai, Chennai, Hyderabad, Noida, Gurgaon                                                                                           1\n",
       "Gurgaon , Faridabad                                                                                                                                   1\n",
       "Name: joblocation_address, Length: 2328, dtype: int64"
      ]
     },
     "execution_count": 14,
     "metadata": {},
     "output_type": "execute_result"
    }
   ],
   "source": [
    "df['joblocation_address'].value_counts()"
   ]
  },
  {
   "cell_type": "code",
   "execution_count": 15,
   "id": "acaddfee",
   "metadata": {},
   "outputs": [],
   "source": [
    "# Filling the missing value of 'joblocation_address' with the value that repeated maximum no. of times\n",
    "\n",
    "df['joblocation_address'] = df['joblocation_address'].fillna(df['joblocation_address'].mode()[0])"
   ]
  },
  {
   "cell_type": "code",
   "execution_count": 16,
   "id": "dbd1c9a5",
   "metadata": {},
   "outputs": [
    {
     "data": {
      "text/plain": [
       "company                0.02\n",
       "education              9.07\n",
       "experience             0.02\n",
       "industry               0.02\n",
       "jobdescription         0.02\n",
       "jobid                  0.00\n",
       "joblocation_address    0.00\n",
       "jobtitle               0.00\n",
       "payrate                0.44\n",
       "postdate               0.10\n",
       "skills                 2.40\n",
       "uniq_id                0.00\n",
       "dtype: float64"
      ]
     },
     "execution_count": 16,
     "metadata": {},
     "output_type": "execute_result"
    }
   ],
   "source": [
    "percentage = round((df.isnull().sum() / len(df.index)) * 100, 2)\n",
    "percentage"
   ]
  },
  {
   "cell_type": "code",
   "execution_count": 17,
   "id": "fdb74d40",
   "metadata": {},
   "outputs": [
    {
     "data": {
      "text/plain": [
       "count                                                 20004\n",
       "unique                                                 2355\n",
       "top       UG: Any Graduate - Any Specialization, Graduat...\n",
       "freq                                                   2015\n",
       "Name: education, dtype: object"
      ]
     },
     "execution_count": 17,
     "metadata": {},
     "output_type": "execute_result"
    }
   ],
   "source": [
    "# Getting statisctics of 'education'\n",
    "\n",
    "df['education'].describe()"
   ]
  },
  {
   "cell_type": "code",
   "execution_count": 18,
   "id": "07fa2eac",
   "metadata": {},
   "outputs": [
    {
     "data": {
      "text/plain": [
       "UG: Any Graduate - Any Specialization, Graduation Not Required PG:Any Postgraduate - Any Specialization, Post Graduation Not Required Doctorate:Any Doctorate - Any Specialization, Doctorate Not Required                                                                                                                                                                                                                                                                                                                                                                                                                                                                                                                                                                                                                                                                                                    2015\n",
       "UG: B.Tech/B.E. PG:M.Tech Doctorate:Any Doctorate - Any Specialization, Doctorate Not Required                                                                                                                                                                                                                                                                                                                                                                                                                                                                                                                                                                                                                                                                                                                                                                                                                1607\n",
       "UG: B.Tech/B.E. PG:Post Graduation Not Required Doctorate:Any Doctorate - Any Specialization, Doctorate Not Required                                                                                                                                                                                                                                                                                                                                                                                                                                                                                                                                                                                                                                                                                                                                                                                          1513\n",
       "UG: Any Graduate - Any Specialization PG:Any Postgraduate - Any Specialization Doctorate:Any Doctorate - Any Specialization, Doctorate Not Required                                                                                                                                                                                                                                                                                                                                                                                                                                                                                                                                                                                                                                                                                                                                                           1355\n",
       "UG: Any Graduate PG:Any Postgraduate Doctorate:Any Doctorate - Any Specialization, Doctorate Not Required                                                                                                                                                                                                                                                                                                                                                                                                                                                                                                                                                                                                                                                                                                                                                                                                     1248\n",
       "                                                                                                                                                                                                                                                                                                                                                                                                                                                                                                                                                                                                                                                                                                                                                                                                                                                                                                              ... \n",
       "UG: B.Tech/B.E. - Any Specialization, BCA - Computers, Graduation Not Required, Any Graduate - Any Specialization PG:Any Postgraduate - Any Specialization, Post Graduation Not Required Doctorate:Any Doctorate - Any Specialization, Doctorate Not Required                                                                                                                                                                                                                                                                                                                                                                                                                                                                                                                                                                                                                                                    1\n",
       "UG: B.Tech/B.E. - Bio-Chemistry/Bio-Technology, Biomedical, Other Specialization, B.Sc - Bio-Chemistry, Biology, Dairy Technology, Food Technology, Home science, Microbiology, Nursing, Zoology, Other Specialization, Diploma - Other Specialization, BDS - Dentistry, B.Pharma - Pharmacy, BVSC - Veterinary Science, MBBS - Medicine, Other Graduate PG:M.Tech - Bio-Chemistry/Bio-Technology, Biomedical, Other Engineering, MS/M.Sc(Science) - Bio-Chemistry, Biology, Dairy Technology, Food Technology, Home science, Microbiology, Nursing, Zoology, Other, M.Pharma - Pharmacy, Medical-MS/MD - Cardiology, Dermatology, ENT, General Practitioner, Gyneocology, Hepatology, Immunology, Microbiology, Neonatal, Nephrology, Pediatrics, Psychiatry, Rheumatology, Urology, Obstretrics, Oncology, Opthalmology, Orthopaedic, Pathology, psychology, Radiology, Other, MVSC - Veterinary Science       1\n",
       "UG: Any Graduate - Any Specialization, B.Ed, Diploma - Any Specialization, Engineering, Other Specialization PG:Any Postgraduate Doctorate:Doctorate Not Required                                                                                                                                                                                                                                                                                                                                                                                                                                                                                                                                                                                                                                                                                                                                                1\n",
       "UG: B.Tech/B.E. - Any Specialization, Computers, B.Sc - Computers PG:M.Tech - Any Specialization, Computers Doctorate:Doctorate Not Required                                                                                                                                                                                                                                                                                                                                                                                                                                                                                                                                                                                                                                                                                                                                                                     1\n",
       "UG: B.Tech/B.E. - Any Specialization, Electrical, Electronics/Telecommunication, Computers PG:M.Tech - Any Specialization, Electrical, Electronics/Telecommunication, Computers                                                                                                                                                                                                                                                                                                                                                                                                                                                                                                                                                                                                                                                                                                                                  1\n",
       "Name: education, Length: 2355, dtype: int64"
      ]
     },
     "execution_count": 18,
     "metadata": {},
     "output_type": "execute_result"
    }
   ],
   "source": [
    "df['education'].value_counts()"
   ]
  },
  {
   "cell_type": "code",
   "execution_count": 19,
   "id": "c50665bb",
   "metadata": {},
   "outputs": [],
   "source": [
    "# Filling the missing values of 'education' with the value that repeated maximum no. of times\n",
    "\n",
    "df['education'] = df['education'].fillna(df['education'].mode()[0])"
   ]
  },
  {
   "cell_type": "code",
   "execution_count": 20,
   "id": "b04d2c86",
   "metadata": {},
   "outputs": [
    {
     "data": {
      "text/plain": [
       "company                0.02\n",
       "education              0.00\n",
       "experience             0.02\n",
       "industry               0.02\n",
       "jobdescription         0.02\n",
       "jobid                  0.00\n",
       "joblocation_address    0.00\n",
       "jobtitle               0.00\n",
       "payrate                0.44\n",
       "postdate               0.10\n",
       "skills                 2.40\n",
       "uniq_id                0.00\n",
       "dtype: float64"
      ]
     },
     "execution_count": 20,
     "metadata": {},
     "output_type": "execute_result"
    }
   ],
   "source": [
    "percentage = round((df.isnull().sum() / len(df.index)) * 100, 2)\n",
    "percentage"
   ]
  },
  {
   "cell_type": "code",
   "execution_count": 21,
   "id": "760d55a4",
   "metadata": {},
   "outputs": [
    {
     "data": {
      "text/plain": [
       "count                                     21472\n",
       "unique                                       45\n",
       "top       IT Software - Application Programming\n",
       "freq                                       5989\n",
       "Name: skills, dtype: object"
      ]
     },
     "execution_count": 21,
     "metadata": {},
     "output_type": "execute_result"
    }
   ],
   "source": [
    "# Getting the statistics of 'skills'\n",
    "\n",
    "df['skills'].describe()"
   ]
  },
  {
   "cell_type": "code",
   "execution_count": 22,
   "id": "c6fe75f6",
   "metadata": {},
   "outputs": [
    {
     "data": {
      "text/plain": [
       "IT Software - Application Programming      5989\n",
       "Sales                                      2893\n",
       "ITES                                       1640\n",
       "Teaching                                   1091\n",
       "HR                                          928\n",
       "Marketing                                   868\n",
       "Accounts                                    860\n",
       "Production                                  667\n",
       "Medical                                     418\n",
       "Financial Services                          413\n",
       "IT Software - Other                         407\n",
       "Engineering Design                          382\n",
       "IT Software - Network Administration        372\n",
       "IT Software - ERP                           354\n",
       "IT Software - QA & Testing                  342\n",
       "IT Software - eCommerce                     336\n",
       "Site Engineering                            322\n",
       "IT Software - DBA                           273\n",
       "IT Software - Embedded                      262\n",
       "IT Hardware                                 253\n",
       "Journalism                                  252\n",
       "Supply Chain                                232\n",
       "Design                                      227\n",
       "IT Software - Mobile                        203\n",
       "Analytics & Business Intelligence           190\n",
       "IT Software - System Programming            176\n",
       "Executive Assistant                         172\n",
       "Hotels                                      161\n",
       "IT Software - Telecom Software              114\n",
       "Travel                                       90\n",
       "Strategy                                     80\n",
       "Legal                                        78\n",
       "Top Management                               76\n",
       "IT Software - Client/Server Programming      62\n",
       "Fashion Designing                            59\n",
       "Architecture                                 56\n",
       "Export                                       48\n",
       "IT Software - Systems                        43\n",
       "IT Software - Middleware                     23\n",
       "TV                                           20\n",
       "IT Software - Mainframe                      15\n",
       "Defence Forces                               13\n",
       "Packaging                                     8\n",
       "Beauty/Fitness/Spa Services                   3\n",
       "Shipping                                      1\n",
       "Name: skills, dtype: int64"
      ]
     },
     "execution_count": 22,
     "metadata": {},
     "output_type": "execute_result"
    }
   ],
   "source": [
    "df['skills'].value_counts()"
   ]
  },
  {
   "cell_type": "code",
   "execution_count": 23,
   "id": "d262ffc6",
   "metadata": {},
   "outputs": [],
   "source": [
    "# Filling the missing value with mode\n",
    "\n",
    "df['skills'] = df['skills'].fillna(df['skills'].mode()[0])"
   ]
  },
  {
   "cell_type": "code",
   "execution_count": 24,
   "id": "faae9707",
   "metadata": {},
   "outputs": [
    {
     "data": {
      "text/plain": [
       "company                0.02\n",
       "education              0.00\n",
       "experience             0.02\n",
       "industry               0.02\n",
       "jobdescription         0.02\n",
       "jobid                  0.00\n",
       "joblocation_address    0.00\n",
       "jobtitle               0.00\n",
       "payrate                0.44\n",
       "postdate               0.10\n",
       "skills                 0.00\n",
       "uniq_id                0.00\n",
       "dtype: float64"
      ]
     },
     "execution_count": 24,
     "metadata": {},
     "output_type": "execute_result"
    }
   ],
   "source": [
    "percentage = round((df.isnull().sum() / len(df.index)) * 100, 2)\n",
    "percentage"
   ]
  },
  {
   "cell_type": "code",
   "execution_count": 25,
   "id": "55a26fe1",
   "metadata": {},
   "outputs": [
    {
     "data": {
      "text/plain": [
       "count                         21977\n",
       "unique                         4203\n",
       "top       2016-05-21 08:24:31 +0000\n",
       "freq                             48\n",
       "Name: postdate, dtype: object"
      ]
     },
     "execution_count": 25,
     "metadata": {},
     "output_type": "execute_result"
    }
   ],
   "source": [
    "# Getting the statistics of 'postdate'\n",
    "\n",
    "df['postdate'].describe()"
   ]
  },
  {
   "cell_type": "code",
   "execution_count": 26,
   "id": "2107a5f8",
   "metadata": {},
   "outputs": [
    {
     "data": {
      "text/plain": [
       "2016-05-21 08:24:31 +0000    48\n",
       "2015-12-29 02:23:35 +0000    44\n",
       "2015-12-29 02:23:36 +0000    42\n",
       "2015-12-29 02:23:31 +0000    42\n",
       "2015-12-29 02:23:38 +0000    42\n",
       "                             ..\n",
       "2016-08-05 18:44:27 +0000     1\n",
       "2016-05-16 06:05:45 +0000     1\n",
       "2016-04-04 07:24:34 +0000     1\n",
       "2016-03-07 02:31:09 +0000     1\n",
       "2016-01-05 07:24:25 +0000     1\n",
       "Name: postdate, Length: 4203, dtype: int64"
      ]
     },
     "execution_count": 26,
     "metadata": {},
     "output_type": "execute_result"
    }
   ],
   "source": [
    "df['postdate'].value_counts()"
   ]
  },
  {
   "cell_type": "code",
   "execution_count": 27,
   "id": "78274ee8",
   "metadata": {},
   "outputs": [
    {
     "data": {
      "text/plain": [
       "pandas.core.series.Series"
      ]
     },
     "execution_count": 27,
     "metadata": {},
     "output_type": "execute_result"
    }
   ],
   "source": [
    "type(df['postdate'])"
   ]
  },
  {
   "cell_type": "code",
   "execution_count": 28,
   "id": "91eaf92c",
   "metadata": {},
   "outputs": [],
   "source": [
    "# Filling the missing values with mode\n",
    "\n",
    "df['postdate'] = df['postdate'].fillna(df['postdate'].mode()[0])"
   ]
  },
  {
   "cell_type": "code",
   "execution_count": 29,
   "id": "07f61e79",
   "metadata": {},
   "outputs": [
    {
     "data": {
      "text/plain": [
       "company                0.02\n",
       "education              0.00\n",
       "experience             0.02\n",
       "industry               0.02\n",
       "jobdescription         0.02\n",
       "jobid                  0.00\n",
       "joblocation_address    0.00\n",
       "jobtitle               0.00\n",
       "payrate                0.44\n",
       "postdate               0.00\n",
       "skills                 0.00\n",
       "uniq_id                0.00\n",
       "dtype: float64"
      ]
     },
     "execution_count": 29,
     "metadata": {},
     "output_type": "execute_result"
    }
   ],
   "source": [
    "percentage = round((df.isnull().sum() / len(df.index)) * 100, 2)\n",
    "percentage"
   ]
  },
  {
   "cell_type": "code",
   "execution_count": 30,
   "id": "9a0cbe1d",
   "metadata": {},
   "outputs": [
    {
     "data": {
      "text/plain": [
       "count                          21903\n",
       "unique                          1848\n",
       "top       Not Disclosed by Recruiter\n",
       "freq                           15849\n",
       "Name: payrate, dtype: object"
      ]
     },
     "execution_count": 30,
     "metadata": {},
     "output_type": "execute_result"
    }
   ],
   "source": [
    "# Getting the statistics of 'payrate'\n",
    "\n",
    "df['payrate'].describe()"
   ]
  },
  {
   "cell_type": "code",
   "execution_count": 31,
   "id": "d494180b",
   "metadata": {},
   "outputs": [
    {
     "data": {
      "text/plain": [
       "Not Disclosed by Recruiter                                                            15849\n",
       "Pay Band: PB4 (Rs.3740067000) with Academic Grade Pay of Rs.10,500/p.m.                 121\n",
       "Pay Band: PB4 (Rs.3740067000) with Academic Grade Pay of Rs.9,500/p.m.                  116\n",
       "Best in the Industry                                                                     87\n",
       "Pay Band: PB3 (Rs.15600-39100) with Academic Grade Pay of Rs.8,000/p. m.                 84\n",
       "                                                                                      ...  \n",
       "6,00,000 - 8,00,000 P.A. Bonus as applicable                                              1\n",
       "As per Industry standard + Conveyance + Incentive                                         1\n",
       "3,25,000 - 7,00,000 P.A                                                                   1\n",
       "Less Than 50,000 P.A. Rs.1500 per day + travel allowance - assured 10 days / month        1\n",
       "1,00,000 - 4,00,000 P.A. Incentives+ Mobile Expence                                       1\n",
       "Name: payrate, Length: 1848, dtype: int64"
      ]
     },
     "execution_count": 31,
     "metadata": {},
     "output_type": "execute_result"
    }
   ],
   "source": [
    "df['payrate'].value_counts()"
   ]
  },
  {
   "cell_type": "code",
   "execution_count": 32,
   "id": "5cbbc9cf",
   "metadata": {},
   "outputs": [],
   "source": [
    "# Filling the missing values with mode\n",
    "\n",
    "df['payrate'] = df['payrate'].fillna(df['payrate'].mode()[0])"
   ]
  },
  {
   "cell_type": "code",
   "execution_count": 33,
   "id": "b925e628",
   "metadata": {},
   "outputs": [
    {
     "data": {
      "text/plain": [
       "company                0.02\n",
       "education              0.00\n",
       "experience             0.02\n",
       "industry               0.02\n",
       "jobdescription         0.02\n",
       "jobid                  0.00\n",
       "joblocation_address    0.00\n",
       "jobtitle               0.00\n",
       "payrate                0.00\n",
       "postdate               0.00\n",
       "skills                 0.00\n",
       "uniq_id                0.00\n",
       "dtype: float64"
      ]
     },
     "execution_count": 33,
     "metadata": {},
     "output_type": "execute_result"
    }
   ],
   "source": [
    "percentage = round((df.isnull().sum() / len(df.index)) * 100, 2)\n",
    "percentage"
   ]
  },
  {
   "cell_type": "code",
   "execution_count": 34,
   "id": "a37b39f1",
   "metadata": {},
   "outputs": [
    {
     "data": {
      "text/plain": [
       "count                                                 21996\n",
       "unique                                                21063\n",
       "top       Job Description   Send me Jobs like this Adver...\n",
       "freq                                                    121\n",
       "Name: jobdescription, dtype: object"
      ]
     },
     "execution_count": 34,
     "metadata": {},
     "output_type": "execute_result"
    }
   ],
   "source": [
    "# Getting the statistics of 'jobdescription'\n",
    "\n",
    "df['jobdescription'].describe()"
   ]
  },
  {
   "cell_type": "code",
   "execution_count": 35,
   "id": "5c410aed",
   "metadata": {},
   "outputs": [
    {
     "data": {
      "text/plain": [
       "Job Description   Send me Jobs like this Advertisement No. I-50/2013-2014 Pay Band: PB4 (Rs.3740067000) with Academic Grade Pay of Rs.10,500/p.m. For Direct recruits, minimum pay in the Pay Band to be fixed at Rs.48,000/p.m. Qualification: Ph.D. with First class or equivalent (in terms of Grades etc.) at the preceeding degree and a good academic record throughout. Experience: A minimum of ten years teaching/research/professional experience of which at least 4 years should be at the level of Associate Professor in a research organization or industry as on the date of application. The candidate should have demonstrated leadership in research in a specific area of specialization in terms of guidance of Ph.D. students, strong record of publications in reputed journals and conferences, patents, laboratory/course development and/or other recognized relevant professional activities. Send your application to the Registrar, Indian Institute of Technology, Bombay Powai, Mumbai - 400076, India This is a rolling advertisement. There is no last date. For more details: http://www.iitb.ac.in/sites/default/files/jobs/2015-03/Information%20sheet.pdf OR http://www.iitb.ac.in/sites/default/files/jobs/2014-08/AdvtI50Nov13.pdf Last Apply Date: 2017-02-16 Salary:INR Pay Band: PB4 (Rs.3740067000) with Academic Grade Pay of Rs.10,500/p.m. Industry: Education / Teaching / Training Functional Area: Teaching , Education , Training , Counselling Desired Candidate Profile Please refer to the Job description above Company Profile: Indian Institute of Technology Bombay Download PPT Photo 1   View Contact Details                                                                                                                                                                                                                                                                                                                                                                                                                                                                                                                                                                                                                                               121\n",
       "Job Description   Send me Jobs like this Advertisement No. I-50/2013-2014 Pay Band: PB4 (Rs.3740067000) with Academic Grade Pay of Rs.9,500/p.m. For Direct recruits, minimum pay in the PB4 to be fixed at Rs.42,800/p.m. Qualification: Ph.D. with First class or equivalent (in terms of Grades etc.) at the preceeding degree and a good academic record throughout. Experience: A minimum of six years teaching/research/professional experience of which 3 years should be at the level of Assistant Professor, Senior Scientific Officer/Senior Design Engineer in a research organization or industry as on the date of application. The candidate should have demonstrated adequate experience of independent research in terms of guidance of M.Tech. and Ph.D. students, publications in reputed journals and conferences, patents, laboratory/course development and/or other recognized relevant professional activities. Send your application to The Registrar, Indian Institute of Technology, Bombay Powai, Mumbai - 400076, India This is a rolling advertisement. There is no last date. For more details: http://www.iitb.ac.in/sites/default/files/jobs/2015-03/Information%20sheet.pdf OR http://www.iitb.ac.in/sites/default/files/jobs/2014-08/AdvtI50Nov13.pdf Last Apply Date: 2017-02-16 Salary:INR Pay Band: PB4 (Rs.3740067000) with Academic Grade Pay of Rs.9,500/p.m. Industry: Education / Teaching / Training Functional Area: Teaching , Education , Training , Counselling Desired Candidate Profile Please refer to the Job description above Company Profile: Indian Institute of Technology Bombay Download PPT Photo 1   View Contact Details                                                                                                                                                                                                                                                                                                                                                                                                                                                                                                                                                                                                                                  116\n",
       "Job Description   Send me Jobs like this Advertisement No. I-50/2013-2014 Pay Band: PB3 (Rs.15600-39100) with Academic Grade Pay of Rs.8,000/p. m. For Direct recruits, minimum pay in the Pay Band to be fixed at Rs.30,000/p.m. Qualification: Ph.D. with First class or equivalent (in terms of Grades etc.) at the preceeding degree and a good academic record throughout. Experience: A minimum of three years teaching/research/professional experience, excluding the experience gained while pursuing Ph.D. Candidate should have demonstrated research capabilities in terms of publications in reputed journals and conferences. Eligible candidates with less than the requisite experience may be taken as Assistant Professor (Contractual basis) in the pay band of Rs.15600-39100 PB3 with sufficient number of advance increments. Send your application to the Registrar, Indian Institute of Technology, Bombay Powai, Mumbai – 400 076, India This is a rolling advertisement. There is no last date. For more details: http://www.iitb.ac.in/sites/default/files/jobs/2015-03/Information%20sheet.pdf OR http://www.iitb.ac.in/sites/default/files/jobs/2014-08/AdvtI50Nov13.pdf Last Apply Date: 2017-02-16 Salary:INR Pay Band: PB3 (Rs.15600-39100) with Academic Grade Pay of Rs.8,000/p. m. Industry: Education / Teaching / Training Functional Area: Teaching , Education , Training , Counselling Desired Candidate Profile Please refer to the Job description above Company Profile: Indian Institute of Technology Bombay Download PPT Photo 1   View Contact Details                                                                                                                                                                                                                                                                                                                                                                                                                                                                                                                                                                                                                                                                                                                   84\n",
       "Job Description   Send me Jobs like this Faculty Position (Rolling Advertisement) Pay Scale: PB-4 (Rs.37400-67000) with AGP of Rs.9500/- p.m. For direct recruits, minimum pay in the pay band to be fixed at Rs.42800/-. Qualifications: Ph.D. with First Class at the preceding degree or equivalent in the appropriate branch with very good academic record throughout. Experience: A minimum of 6 years Teaching/Industry/Research experience, of which at least three years should be at the level of Assistant Professors, Senior Scientific Officer / Senior Design Engineer. This is a rolling advertisement, there is no last date. However, applications received earlier will be included in the earlier opportunity of cut-off date. Interested persons may send their CV through proper channel, where applicable, in the prescribed format online available in the website: www.nitie.edu Applications along with copies of testimonials, certificates, etc. may be sent by Post addressed to The Director, NITIE, Vihar Lake Road, Mumbai-400087 For more information visit: https://www.nitie.edu/NITTE%20Advertisement%202016.pdf, https://www.nitie.edu/index.php?option=com_content&view=article&id=4656&Itemid=663&lang=en   Last Apply Date: 2016-12-31 Salary:INR Pay Scale: PB-4 (Rs.37400-67000) with AGP of Rs.9500/- p.m. For direct recruits, minimum pay in the pay band to be fixed at Rs.42800/-. Industry: Education / Teaching / Training Functional Area: Teaching , Education , Training , Counselling Desired Candidate Profile Please refer to the Job description above Company Profile: National Institute of Industrial Engineering Download PPT Photo 1   View Contact Details                                                                                                                                                                                                                                                                                                                                                                                                                                                                                                                                                                                                 36\n",
       "Job Description   Send me Jobs like this Faculty Position (Rolling Advertisement) Pay Scale: PB-4 (Rs.37400-67000) with AGP of Rs.10500/- p.m. For direct recruits, minimum pay in the pay band to be fixed at Rs.48000/- Qualifications: Ph.D. with First Class at the preceding degree or equivalent in the appropriate branch with very good academic record throughout. Experience: • A minimum of 10 years experience of which at least 4 years at the level of Associate Professor in IITs, IISc Bangalore, IIMs, NITIE, Mumbai and IISERs or at an equivalent levels in any such other Indian or foreign institutions of comparable standards, as may be so decided by the institute. This is a rolling advertisement, there is no last date. However, applications received earlier will be included in the earlier opportunity of cut-off date. Interested persons may send their CV through proper channel, where applicable, in the prescribed format online available in the website: www.nitie.edu Applications along with copies of testimonials, certificates, etc. may be sent by Post addressed to The Director, NITIE, Vihar Lake Road, Mumbai-400087 For more information visit: https://www.nitie.edu/NITTE%20Advertisement%202016.pdf, https://www.nitie.edu/index.php?option=com_content&view=article&id=4656&Itemid=663&lang=en Last Apply Date: 2016-12-31 Salary:INR Pay Scale: PB-4 (Rs.37400-67000) with AGP of Rs.10500/- p.m. Industry: Education / Teaching / Training Functional Area: Teaching , Education , Training , Counselling Desired Candidate Profile Please refer to the Job description above Company Profile: National Institute of Industrial Engineering Download PPT Photo 1   View Contact Details                                                                                                                                                                                                                                                                                                                                                                                                                                                                                                                                                                       35\n",
       "                                                                                                                                                                                                                                                                                                                                                                                                                                                                                                                                                                                                                                                                                                                                                                                                                                                                                                                                                                                                                                                                                                                                                                                                                                                                                                                                                                                                                                                                                                                                                                                                                                                                                                                                                                                                                                                                                                                                                                                                                                                                                                                                                                                                                                                                                                                      ... \n",
       "Job Description   Send me Jobs like this We are offering Event Manager , Event coordinator & Event trainee / Interns positions. Experienced and freshers can apply! The candidate must be dedicated and work in sync with the organisations requirement and goals. We are looking for a skilled and hands-on working professional in the field of events. He/she must have excellent communication skills and be able to independently handle event planning and execution. Must be able to 1. conceptualize and produce events. 2. Event planning to execution with budgeting. 3. Vendor management and negotiations . 4. Prepare presentations to potential sponsors, clients.. 5. Manpower management (events). 6. Manage all marketing and promotions of events. 7. Must be able to meet targets of the company. 8. The candidate must be able to manage all the sports and non sports event requirements. Salary:INR 2,25,000 - 3,25,000 P.A Industry: Advertising / PR / MR / Event Management Functional Area: Sales , Retail , Business Development Role Category:Retail Sales Role:Sales/Business Development Manager Keyskills Event Manager sports manager sports assistant manager HR operations manager sports executive human resource operations manager hr ops manager Desired Candidate Profile Please refer to the Job description above Education- UG: Any Graduate - Any Specialization Company Profile: JSports JSPORTS - A Sports Management & Consulting company based in Bangalore offers services in Sports management, sports marketing, sports infrastructure, sports events, sports development etc... JSPORTS Events, a division of JSports pioneers in organising Sports events, tournaments and competitions. JSports is focused on grass root development of sports and functions with a motto and ambition to provide sports to all. JSPORTS ACADEMY is a premier academy operating at multiple locations in Bangalore. Our training focuses on grass root football development with implementation of technical training to improve skill, fitness, agility, endurance Download PPT Photo 1   View Contact Details                                                                                                                                                                     1\n",
       "Job Description   Send me Jobs like this Responsibilities will be in the areas of providing inputs on specific projects or business problems faced by clients, people management, process-setting and research and development of new applications Project-specific: Work directly on projects and provide inputs on data quality, suitability of techniques, application of techniques to the business problem and interpretation of outputs Coordin ate with analysts, domain managers, onsite managers and junior statisticians during project delivery to ensure accuracy and meaningfulness of statistical outputs Provide guidance to team on applicability of statistical methods to specific issues posed by client. Process-setting: Guide team of analysts and business domain managers on setting up processes for application of specific statistical methods.  Such processes will include the following Convert ing a business problem to an analytical plan. Data cleaning and preparation steps for each technique/ application. Help with running analysis on statistical software such as SAS. Help with creating quality control mechanisms/ checklists. Guide and monitor setting up of processes for new client teams. Research & development Research new methods of analysis, suggest areas of analysis to the team, understand clients’ long-term analytics requirements and actively suggest methods to answer such needs Guide senior management on possible business applications of new statistical methods Be an overall thought/delivery leader across AQ for projects involving statistics Salary: Not Disclosed by Recruiter Industry: Strategy / Management Consulting Firms Functional Area: IT Software - Application Programming , Maintenance Role Category:Other Role:Fresher Keyskills Statistician Desired Candidate Profile Education- UG: Any Graduate PG:Any Postgraduate Doctorate:Any Doctorate - Any Specialization, Doctorate Not Required Please refer to the Job description above Company Profile: Analytics Quotient Services India Private Limited Analytics Quotient (AQ)is a marketing analytics company that provides business insights from various stats data monitoring services via data visualization tools Download PPT Photo 1   View Contact Details      1\n",
       "Job Description   Send me Jobs like this Opportunity with one of our clients: Possess 5+ Years working experience in OBIEE Good design & development Experience in RPD, Dashboard creation, Smart View, Oracle Database Should have experience of Telco BI projects. Sound knowledge of telecom domain and data warehouse concept. Exposure in the following areas is a definite advantage: data warehousing, SQL, PL/SQL. Good problem-solving skills and with ability to think out-of-the-box. Self-motivated, a fast learner and be able to work independently. Willing to work at onsite customer location. Salary: Not Disclosed by Recruiter Industry: Telecom/ISP Functional Area: IT Software - Telecom Software Role Category:Programming & Design Role:Software Developer Keyskills OBIEE RPD Dashboard SmartView Telcom Telco BI Business intelligence DWH Data warehouse PL SQL Report Developer Reports Desired Candidate Profile Please refer to the Job description above Company Profile: Lera Technologies Pvt.Ltd. Lera Technologies is a leading Data Analytics company providing value propositions to our clients across Retail, Banking, Finance, Insurance & Hospitality domains, helping improve businesses. Since inception in 2003, Lera transformed into an integrated portfolio of services and solutions with extensive R&D and provided the needed leverage for many business houses and helped achieve their objectives. Our extensive exposure to diverse domains and ability to deliver cutting edge data solution, have been our key strengths in serving our clients to their delight. Lera believes in cutting down costs and streamlining the current core processes resulting in a fundamental change in the way our customers do business while providing latest innovations to their advantage. We aim to keep our clients ahead in the changing markets and attain and retain competitive advantage over their peers. Download PPT Photo 1   View Contact Details                                                                                                                                                                                                                                                                                                               1\n",
       "Job Description   Send me Jobs like this In- charge of finance and accounts. Prepare Accounts - end- to- end on monthly basis. Work on financial planning and budgeting. Work on payroll in terms of TDS and other legal compliance. Make sure the company is compliant with all the statutory laws - Company law, Income Tax, Service Tax, Shops and Establishments, etc. Be the Interface with Auditor. Prepare reports such as internal MIS. Take care of administration related work. Qualifications: Post- qualification experience of 2 to 3 years preferably with an IT/ ITES/ other services companies. Should have good working knowledge of process and procedures related to Accounting, Tax Filing, and other important statutory compliance. Should be good at organizing work - preparing, documenting, and filing Should have respect for time while preparing, reviewing, and filing. Should have experience in preparing reports which are presentable and easy to read. Should have the ability to self- review the work. Should have good computation skills - MS Office, Tally, etc. Should work with minimal supervision. Should have clarity of thought and think on his/ her feet. Shave have a vision to excel in this field. Good communication skills. Salary: Not Disclosed by Recruiter Industry: Other Functional Area: Accounts , Finance , Tax , Company Secretary , Audit Role Category:Accounts Role:Accounts Executive/Accountant Desired Candidate Profile Education- UG: Any Graduate PG:MBA/PGDM, Any Postgraduate Doctorate:Any Doctorate - Any Specialization, Doctorate Not Required Please refer to the Job description above Company Profile: Perceptive Analytics Perceptive Analytics Download PPT Photo 1   View Contact Details                                                                                                                                                                                                                                                                                                                                                                                                                                                                                                                                            1\n",
       "Job Description   Send me Jobs like this Responsibilities Maximize business growth by ensuring high adoption/usage of the product in the market. Be the primary day-to-day technical contact for our client set, providing prompt, professional consultative support and service to ensure a high level of customer satisfaction. Lead product launches (post-beta) in region including training for cross-functional teams. Partner with Sales and client facing teams to scope and collect client requirements, provide guidance on best practices, and apply technology and product knowledge to address customer's business and technology needs. Collaborate with internal and external technical and developer teams to drive communication, prioritization, analysis, and resolution of customer challenges and issues. Participate in the analysis and research for complex technical issues and work with senior product escalation teams. Maintain industry, Google product, and customer knowledge to provide successful ad management operational and technical consultation. Lead or contribute to projects that increase operational efficiency by developing internal and external tools. Salary: Not Disclosed by Recruiter Industry: Internet / Ecommerce Functional Area: Marketing , Advertising , MR , PR , Media Planning Role Category:Marketing Role:Product/Brand Manager Keyskills mba ba analytical relationship building market analysis problem solving sql xml javascript google Desired Candidate Profile Education- UG: B.Tech/B.E. PG:MBA/PGDM Doctorate:Any Doctorate - Any Specialization, Doctorate Not Required Minimum qualifications BA/BS degree or equivalent practical experience.Experience with client side web technologies; HTML, CSS, and JavaScriptExperience with SQL, XML, HTTP protocols and one object-oriented language. Preferred qualifications MBA degree.3 years of customer facing experience, supporting product implementations or support engineering experience.Ability to absorb complex technical concepts and communicate them to a non-technical audience effectivelyStrong analytical and project management skills. Company Profile: Google India Private Limited Google India Private Limited Download PPT Photo 1   View Contact Details            1\n",
       "Name: jobdescription, Length: 21063, dtype: int64"
      ]
     },
     "execution_count": 35,
     "metadata": {},
     "output_type": "execute_result"
    }
   ],
   "source": [
    "df['jobdescription'].value_counts()"
   ]
  },
  {
   "cell_type": "code",
   "execution_count": 36,
   "id": "cdc24be3",
   "metadata": {},
   "outputs": [],
   "source": [
    "# Filling the missing values with mode\n",
    "\n",
    "df['jobdescription'] = df['jobdescription'].fillna(df['jobdescription'].mode()[0])"
   ]
  },
  {
   "cell_type": "code",
   "execution_count": 37,
   "id": "8cb8f782",
   "metadata": {},
   "outputs": [
    {
     "data": {
      "text/plain": [
       "company                0.02\n",
       "education              0.00\n",
       "experience             0.02\n",
       "industry               0.02\n",
       "jobdescription         0.00\n",
       "jobid                  0.00\n",
       "joblocation_address    0.00\n",
       "jobtitle               0.00\n",
       "payrate                0.00\n",
       "postdate               0.00\n",
       "skills                 0.00\n",
       "uniq_id                0.00\n",
       "dtype: float64"
      ]
     },
     "execution_count": 37,
     "metadata": {},
     "output_type": "execute_result"
    }
   ],
   "source": [
    "percentage = round((df.isnull().sum() / len(df.index)) * 100, 2)\n",
    "percentage"
   ]
  },
  {
   "cell_type": "code",
   "execution_count": 38,
   "id": "9b4d101c",
   "metadata": {},
   "outputs": [
    {
     "data": {
      "text/plain": [
       "count                               21995\n",
       "unique                                 63\n",
       "top       IT-Software / Software Services\n",
       "freq                                 9216\n",
       "Name: industry, dtype: object"
      ]
     },
     "execution_count": 38,
     "metadata": {},
     "output_type": "execute_result"
    }
   ],
   "source": [
    "# Getting the statistics of 'industry'\n",
    "\n",
    "df['industry'].describe()"
   ]
  },
  {
   "cell_type": "code",
   "execution_count": 39,
   "id": "837c618e",
   "metadata": {},
   "outputs": [
    {
     "data": {
      "text/plain": [
       "IT-Software / Software Services           9216\n",
       "Education / Teaching / Training           1322\n",
       "BPO / Call Centre / ITES                  1254\n",
       "Banking / Financial Services / Broking    1238\n",
       "Recruitment / Staffing                    1129\n",
       "                                          ... \n",
       "Medical Devices / Equipments                 4\n",
       "Brewery / Distillery                         4\n",
       "Pulp and Paper                               2\n",
       "Broadcasting                                 1\n",
       "Leather                                      1\n",
       "Name: industry, Length: 63, dtype: int64"
      ]
     },
     "execution_count": 39,
     "metadata": {},
     "output_type": "execute_result"
    }
   ],
   "source": [
    "df['industry'].value_counts()"
   ]
  },
  {
   "cell_type": "code",
   "execution_count": 40,
   "id": "0535caa3",
   "metadata": {},
   "outputs": [],
   "source": [
    "# Filling the missing values with mode\n",
    "\n",
    "df['industry'] = df['industry'].fillna(df['industry'].mode()[0])"
   ]
  },
  {
   "cell_type": "code",
   "execution_count": 41,
   "id": "37cfeece",
   "metadata": {},
   "outputs": [
    {
     "data": {
      "text/plain": [
       "company                0.02\n",
       "education              0.00\n",
       "experience             0.02\n",
       "industry               0.00\n",
       "jobdescription         0.00\n",
       "jobid                  0.00\n",
       "joblocation_address    0.00\n",
       "jobtitle               0.00\n",
       "payrate                0.00\n",
       "postdate               0.00\n",
       "skills                 0.00\n",
       "uniq_id                0.00\n",
       "dtype: float64"
      ]
     },
     "execution_count": 41,
     "metadata": {},
     "output_type": "execute_result"
    }
   ],
   "source": [
    "percentage = round((df.isnull().sum() / len(df.index)) * 100, 2)\n",
    "percentage"
   ]
  },
  {
   "cell_type": "code",
   "execution_count": 42,
   "id": "dc104214",
   "metadata": {},
   "outputs": [
    {
     "data": {
      "text/plain": [
       "count         21996\n",
       "unique          147\n",
       "top       2 - 7 yrs\n",
       "freq           1712\n",
       "Name: experience, dtype: object"
      ]
     },
     "execution_count": 42,
     "metadata": {},
     "output_type": "execute_result"
    }
   ],
   "source": [
    "# Getting the statistics of 'experience'\n",
    "\n",
    "df['experience'].describe()"
   ]
  },
  {
   "cell_type": "code",
   "execution_count": 43,
   "id": "70710311",
   "metadata": {},
   "outputs": [
    {
     "data": {
      "text/plain": [
       "2 - 7 yrs      1712\n",
       "2 - 5 yrs      1231\n",
       "3 - 8 yrs      1192\n",
       "3 - 5 yrs      1181\n",
       "5 - 10 yrs     1084\n",
       "               ... \n",
       "3 - 10 yrs        1\n",
       "11 - 19 yrs       1\n",
       "26 - 30 yrs       1\n",
       "13 - 22 yrs       1\n",
       "7 - 16 yrs        1\n",
       "Name: experience, Length: 147, dtype: int64"
      ]
     },
     "execution_count": 43,
     "metadata": {},
     "output_type": "execute_result"
    }
   ],
   "source": [
    "df['experience'].value_counts()"
   ]
  },
  {
   "cell_type": "code",
   "execution_count": 44,
   "id": "be6b3404",
   "metadata": {},
   "outputs": [],
   "source": [
    "# Filling the missing values with mode\n",
    "\n",
    "df['experience'] = df['experience'].fillna(df['experience'].mode()[0])"
   ]
  },
  {
   "cell_type": "code",
   "execution_count": 45,
   "id": "886f8de9",
   "metadata": {},
   "outputs": [
    {
     "data": {
      "text/plain": [
       "company                0.02\n",
       "education              0.00\n",
       "experience             0.00\n",
       "industry               0.00\n",
       "jobdescription         0.00\n",
       "jobid                  0.00\n",
       "joblocation_address    0.00\n",
       "jobtitle               0.00\n",
       "payrate                0.00\n",
       "postdate               0.00\n",
       "skills                 0.00\n",
       "uniq_id                0.00\n",
       "dtype: float64"
      ]
     },
     "execution_count": 45,
     "metadata": {},
     "output_type": "execute_result"
    }
   ],
   "source": [
    "percentage = round((df.isnull().sum() / len(df.index)) * 100, 2)\n",
    "percentage"
   ]
  },
  {
   "cell_type": "code",
   "execution_count": 46,
   "id": "1d80dcbf",
   "metadata": {},
   "outputs": [
    {
     "data": {
      "text/plain": [
       "count                                     21996\n",
       "unique                                     8469\n",
       "top       Indian Institute of Technology Bombay\n",
       "freq                                        403\n",
       "Name: company, dtype: object"
      ]
     },
     "execution_count": 46,
     "metadata": {},
     "output_type": "execute_result"
    }
   ],
   "source": [
    "# Getting the statistics of 'company'\n",
    "\n",
    "df['company'].describe()"
   ]
  },
  {
   "cell_type": "code",
   "execution_count": 47,
   "id": "f9c63f31",
   "metadata": {},
   "outputs": [
    {
     "data": {
      "text/plain": [
       "Indian Institute of Technology Bombay                              403\n",
       "Confidential                                                       393\n",
       "National Institute of Industrial Engineering                       185\n",
       "Oracle India Pvt. Ltd.                                             151\n",
       "JPMorgan Chase                                                     135\n",
       "                                                                  ... \n",
       "JENTERS CONSULTING PVT. LTD. hiring for Its prestigious client.      1\n",
       "Lister Technologies (P) Ltd                                          1\n",
       "ABW Group                                                            1\n",
       "Airpost india                                                        1\n",
       "gameshastra solutions pvt ltd                                        1\n",
       "Name: company, Length: 8469, dtype: int64"
      ]
     },
     "execution_count": 47,
     "metadata": {},
     "output_type": "execute_result"
    }
   ],
   "source": [
    "df['company'].value_counts()"
   ]
  },
  {
   "cell_type": "code",
   "execution_count": 48,
   "id": "86a0c31e",
   "metadata": {},
   "outputs": [],
   "source": [
    "# Filling the missing values with mode\n",
    "\n",
    "df['company'] = df['company'].fillna(df['company'].mode()[0])"
   ]
  },
  {
   "cell_type": "code",
   "execution_count": 49,
   "id": "59a97444",
   "metadata": {},
   "outputs": [
    {
     "data": {
      "text/plain": [
       "company                0.0\n",
       "education              0.0\n",
       "experience             0.0\n",
       "industry               0.0\n",
       "jobdescription         0.0\n",
       "jobid                  0.0\n",
       "joblocation_address    0.0\n",
       "jobtitle               0.0\n",
       "payrate                0.0\n",
       "postdate               0.0\n",
       "skills                 0.0\n",
       "uniq_id                0.0\n",
       "dtype: float64"
      ]
     },
     "execution_count": 49,
     "metadata": {},
     "output_type": "execute_result"
    }
   ],
   "source": [
    "percentage = round((df.isnull().sum() / len(df.index)) * 100, 2)\n",
    "percentage"
   ]
  },
  {
   "cell_type": "code",
   "execution_count": 50,
   "id": "3a62d0ee",
   "metadata": {},
   "outputs": [
    {
     "data": {
      "text/plain": [
       "0"
      ]
     },
     "execution_count": 50,
     "metadata": {},
     "output_type": "execute_result"
    }
   ],
   "source": [
    "df.isnull().sum().sum()"
   ]
  },
  {
   "cell_type": "code",
   "execution_count": null,
   "id": "44565063",
   "metadata": {},
   "outputs": [],
   "source": []
  }
 ],
 "metadata": {
  "kernelspec": {
   "display_name": "Python 3",
   "language": "python",
   "name": "python3"
  },
  "language_info": {
   "codemirror_mode": {
    "name": "ipython",
    "version": 3
   },
   "file_extension": ".py",
   "mimetype": "text/x-python",
   "name": "python",
   "nbconvert_exporter": "python",
   "pygments_lexer": "ipython3",
   "version": "3.9.1"
  }
 },
 "nbformat": 4,
 "nbformat_minor": 5
}
