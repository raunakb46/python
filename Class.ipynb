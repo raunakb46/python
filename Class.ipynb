{
 "cells": [
  {
   "cell_type": "code",
   "execution_count": null,
   "id": "46447753",
   "metadata": {},
   "outputs": [],
   "source": [
    "#Create a class Employee with attributes name, employee id, age, experience, salary, department\n",
    "#Create a method depart_change() which updates the department\n",
    "#Create a method compare() which compares the experience of two employees and return the name of senior employee\n",
    "#Create a method info() which prints the details of the employee***"
   ]
  },
  {
   "cell_type": "code",
   "execution_count": 1,
   "id": "a64d9efa",
   "metadata": {},
   "outputs": [],
   "source": [
    "class Employee:\n",
    "    def __init__(self, name, empid, age, exp, sal, depart):\n",
    "        self.name = name\n",
    "        self.empid = empid\n",
    "        self.age = age\n",
    "        self.exp = exp\n",
    "        self.sal = sal\n",
    "        self.depart = depart\n",
    "        \n",
    "    def increment(self, exp_1):\n",
    "        if ((exp_1 - self.exp) >= 1):\n",
    "            self.sal = self.sal + (self.sal * 0.2)\n",
    "            self.exp = exp_1\n",
    "            print (\"Incremented:\", self.sal)\n",
    "        else:\n",
    "            print (\"Increment not possible\")\n",
    "    \n",
    "    def depart_change(self, depart_1):\n",
    "        self.depart = depart_1\n",
    "        print (\"New department:\", self.depart)\n",
    "    \n",
    "    def compare(self, other):\n",
    "        if (self.exp > other.exp):\n",
    "            print (\"{} is senior\".format(self.name))\n",
    "        else:\n",
    "            print (\"{} is senior\".format(other.name))\n",
    "    \n",
    "    def info(self):\n",
    "        print (\"Name:\", self.name)\n",
    "        print (\"Age :\", self.age)\n",
    "        print (\"Experience:\", self.exp)\n",
    "        print (\"Salary :\", self.sal)\n",
    "        print (\"Department:\", self.depart)"
   ]
  },
  {
   "cell_type": "code",
   "execution_count": 2,
   "id": "9e09df48",
   "metadata": {},
   "outputs": [],
   "source": [
    "e = Employee(\"Raunak\", 1830114, 22, 4, 15000, \"Design\")\n",
    "f = Employee(\"Ravi\", 1830115, 24, 6, 18000, \"DevOps\")"
   ]
  },
  {
   "cell_type": "code",
   "execution_count": 3,
   "id": "8deb56b3",
   "metadata": {},
   "outputs": [
    {
     "name": "stdout",
     "output_type": "stream",
     "text": [
      "Incremented: 18000.0\n"
     ]
    }
   ],
   "source": [
    "e.increment(10)"
   ]
  },
  {
   "cell_type": "code",
   "execution_count": 4,
   "id": "6ad385f9",
   "metadata": {},
   "outputs": [
    {
     "data": {
      "text/plain": [
       "'Design'"
      ]
     },
     "execution_count": 4,
     "metadata": {},
     "output_type": "execute_result"
    }
   ],
   "source": [
    "e.depart"
   ]
  },
  {
   "cell_type": "code",
   "execution_count": 5,
   "id": "f5831fe3",
   "metadata": {},
   "outputs": [
    {
     "name": "stdout",
     "output_type": "stream",
     "text": [
      "New department: PCR\n"
     ]
    }
   ],
   "source": [
    "e.depart_change(\"PCR\")"
   ]
  },
  {
   "cell_type": "code",
   "execution_count": 6,
   "id": "ecf44b6e",
   "metadata": {},
   "outputs": [
    {
     "name": "stdout",
     "output_type": "stream",
     "text": [
      "Raunak is senior\n"
     ]
    }
   ],
   "source": [
    "e.compare(f)"
   ]
  },
  {
   "cell_type": "code",
   "execution_count": 7,
   "id": "3a817909",
   "metadata": {},
   "outputs": [
    {
     "name": "stdout",
     "output_type": "stream",
     "text": [
      "Name: Raunak\n",
      "Age : 22\n",
      "Experience: 10\n",
      "Salary : 18000.0\n",
      "Department: PCR\n"
     ]
    }
   ],
   "source": [
    "e.info()"
   ]
  },
  {
   "cell_type": "code",
   "execution_count": 8,
   "id": "8039d29d",
   "metadata": {},
   "outputs": [
    {
     "name": "stdout",
     "output_type": "stream",
     "text": [
      "Name: Ravi\n",
      "Age : 24\n",
      "Experience: 6\n",
      "Salary : 18000\n",
      "Department: DevOps\n"
     ]
    }
   ],
   "source": [
    "f.info()"
   ]
  },
  {
   "cell_type": "code",
   "execution_count": null,
   "id": "b6c1b622",
   "metadata": {},
   "outputs": [],
   "source": []
  }
 ],
 "metadata": {
  "kernelspec": {
   "display_name": "Python 3",
   "language": "python",
   "name": "python3"
  },
  "language_info": {
   "codemirror_mode": {
    "name": "ipython",
    "version": 3
   },
   "file_extension": ".py",
   "mimetype": "text/x-python",
   "name": "python",
   "nbconvert_exporter": "python",
   "pygments_lexer": "ipython3",
   "version": "3.9.1"
  }
 },
 "nbformat": 4,
 "nbformat_minor": 5
}
