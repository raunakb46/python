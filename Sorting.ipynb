{
 "cells": [
  {
   "cell_type": "code",
   "execution_count": 1,
   "id": "d83276b6",
   "metadata": {},
   "outputs": [],
   "source": [
    "numbers = [3, 4, 5, 1, 8, 7, 0]\n",
    "sort_list = []"
   ]
  },
  {
   "cell_type": "code",
   "execution_count": 4,
   "id": "d8e219c5",
   "metadata": {},
   "outputs": [
    {
     "name": "stdout",
     "output_type": "stream",
     "text": [
      "[0, 1, 3, 4, 5, 7, 8]\n"
     ]
    }
   ],
   "source": [
    "while numbers:\n",
    "    minimum = numbers[0]\n",
    "    for i in numbers:\n",
    "        if (i < minimum):\n",
    "            minimum = i\n",
    "    sort_list.append(minimum)\n",
    "\n",
    "print (sort_list)"
   ]
  },
  {
   "cell_type": "code",
   "execution_count": null,
   "id": "b5a67f22",
   "metadata": {},
   "outputs": [],
   "source": []
  }
 ],
 "metadata": {
  "kernelspec": {
   "display_name": "Python 3",
   "language": "python",
   "name": "python3"
  },
  "language_info": {
   "codemirror_mode": {
    "name": "ipython",
    "version": 3
   },
   "file_extension": ".py",
   "mimetype": "text/x-python",
   "name": "python",
   "nbconvert_exporter": "python",
   "pygments_lexer": "ipython3",
   "version": "3.9.1"
  }
 },
 "nbformat": 4,
 "nbformat_minor": 5
}
