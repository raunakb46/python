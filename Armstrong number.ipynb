{
 "cells": [
  {
   "cell_type": "code",
   "execution_count": 1,
   "id": "5b1cdc5d",
   "metadata": {},
   "outputs": [],
   "source": [
    "# Check if the entered number is an armstrong number or not\n",
    "\n",
    "def armstrong(n):\n",
    "    k = len(str(n))\n",
    "    sum_1 = 0\n",
    "    temp = n\n",
    "    while temp > 0:\n",
    "        d = temp % 10\n",
    "        sum_1 += d ** k\n",
    "        temp //= 10\n",
    "\n",
    "    if (sum_1 == n):\n",
    "        print (\"Armstrong number\")\n",
    "    else:\n",
    "        print (\"Not an armstrong number\")"
   ]
  },
  {
   "cell_type": "code",
   "execution_count": 3,
   "id": "278307a8",
   "metadata": {},
   "outputs": [
    {
     "name": "stdout",
     "output_type": "stream",
     "text": [
      "Enter any number:153\n",
      "Armstrong number\n"
     ]
    }
   ],
   "source": [
    "n = int(input(\"Enter any number:\"))\n",
    "armstrong(n)"
   ]
  },
  {
   "cell_type": "code",
   "execution_count": null,
   "id": "3a93686e",
   "metadata": {},
   "outputs": [],
   "source": []
  }
 ],
 "metadata": {
  "kernelspec": {
   "display_name": "Python 3",
   "language": "python",
   "name": "python3"
  },
  "language_info": {
   "codemirror_mode": {
    "name": "ipython",
    "version": 3
   },
   "file_extension": ".py",
   "mimetype": "text/x-python",
   "name": "python",
   "nbconvert_exporter": "python",
   "pygments_lexer": "ipython3",
   "version": "3.9.1"
  }
 },
 "nbformat": 4,
 "nbformat_minor": 5
}
