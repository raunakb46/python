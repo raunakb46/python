{
 "cells": [
  {
   "cell_type": "code",
   "execution_count": 2,
   "id": "f4d8766e",
   "metadata": {},
   "outputs": [
    {
     "name": "stdout",
     "output_type": "stream",
     "text": [
      "Number is negative\n"
     ]
    }
   ],
   "source": [
    "# Find if the given number is +ve or -ve\n",
    "\n",
    "a = -2\n",
    "if a > 0:\n",
    "    print(\"Number is positive\")\n",
    "else:\n",
    "    print(\"Number is negative\")"
   ]
  },
  {
   "cell_type": "code",
   "execution_count": 3,
   "id": "2911c2cc",
   "metadata": {},
   "outputs": [
    {
     "name": "stdout",
     "output_type": "stream",
     "text": [
      "Greatest is 7\n"
     ]
    }
   ],
   "source": [
    "# Find the greatest and smallest of two nos.\n",
    "\n",
    "a = 5\n",
    "b = 7\n",
    "if a > b:\n",
    "    print(\"Greatest is:\", a)\n",
    "else:\n",
    "    print(\"Greatest is\", b)"
   ]
  },
  {
   "cell_type": "code",
   "execution_count": 4,
   "id": "76fa7c71",
   "metadata": {},
   "outputs": [
    {
     "name": "stdout",
     "output_type": "stream",
     "text": [
      "Smallest is: 5\n"
     ]
    }
   ],
   "source": [
    "a = 5\n",
    "b = 7\n",
    "if a < b:\n",
    "    print(\"Smallest is:\", a)\n",
    "else:\n",
    "    print(\"Smallest is\", b)"
   ]
  },
  {
   "cell_type": "code",
   "execution_count": 6,
   "id": "837560fa",
   "metadata": {},
   "outputs": [
    {
     "name": "stdout",
     "output_type": "stream",
     "text": [
      "Number is odd\n"
     ]
    }
   ],
   "source": [
    "# Find if the given no. is odd or even\n",
    "\n",
    "a = 7\n",
    "if a % 2 == 0:\n",
    "    print (\"Number is even\")\n",
    "else:\n",
    "    print(\"Number is odd\")"
   ]
  },
  {
   "cell_type": "code",
   "execution_count": 10,
   "id": "6964dc6d",
   "metadata": {},
   "outputs": [
    {
     "name": "stdout",
     "output_type": "stream",
     "text": [
      "Greatest is b\n"
     ]
    }
   ],
   "source": [
    "# Find the greatest and smallest of 3 nos.\n",
    "\n",
    "a = 1\n",
    "b = 3\n",
    "c = 2\n",
    "if a > b and a > c:\n",
    "    print (\"Greatest is a\")\n",
    "elif b > a and b > c:\n",
    "    print (\"Greatest is b\")\n",
    "else:\n",
    "    print (\"Greatest is c\")"
   ]
  },
  {
   "cell_type": "code",
   "execution_count": 11,
   "id": "3c1227fc",
   "metadata": {},
   "outputs": [
    {
     "name": "stdout",
     "output_type": "stream",
     "text": [
      "Smallest is a\n"
     ]
    }
   ],
   "source": [
    "a = 1\n",
    "b = 3\n",
    "c = 2\n",
    "if a < b and a < c:\n",
    "    print (\"Smallest is a\")\n",
    "elif b < a and b < c:\n",
    "    print (\"Smallest is b\")\n",
    "else:\n",
    "    print (\"Smallest is c\")"
   ]
  },
  {
   "cell_type": "code",
   "execution_count": 12,
   "id": "863e67ab",
   "metadata": {},
   "outputs": [
    {
     "name": "stdout",
     "output_type": "stream",
     "text": [
      "Tax paid is: 20000.0\n",
      "Salary: 380000.0\n"
     ]
    }
   ],
   "source": [
    "# Tax calculation\n",
    "\n",
    "i = 400000\n",
    "if i <= 300000:\n",
    "    print (\"No tax to pay\")\n",
    "    print (\"Salary:\", i)\n",
    "elif i >= 300000 and i <= 500000:\n",
    "    tax = i * 0.05\n",
    "    print (\"Tax paid is:\", tax)\n",
    "    print (\"Salary:\", i - tax)\n",
    "elif i >= 500000 and i <= 1000000:\n",
    "    tax = i * 0.1\n",
    "    print (\"Tax paid is:\", tax)\n",
    "    print (\"Salary:\", i - tax)\n",
    "elif i >= 1000000 and i <= 1500000:\n",
    "    tax = i * 0.15\n",
    "    print (\"Tax paid is:\", tax)\n",
    "    print (\"Salary:\", i - tax)\n",
    "else:\n",
    "    tax = i * 0.2\n",
    "    print (\"Tax paid is:\", tax)\n",
    "    print (\"Salary:\", i - tax)\n",
    "    "
   ]
  },
  {
   "cell_type": "code",
   "execution_count": 13,
   "id": "0c319728",
   "metadata": {},
   "outputs": [
    {
     "name": "stdout",
     "output_type": "stream",
     "text": [
      "Grade D\n"
     ]
    }
   ],
   "source": [
    "# Grade calculation\n",
    "\n",
    "m = 53\n",
    "if m >= 80:\n",
    "    print (\"Grade A\")\n",
    "elif m <= 80 and m >= 70:\n",
    "    print (\"Grade B\")\n",
    "elif m <= 70 and m >= 60:\n",
    "    print (\"Grade C\")\n",
    "elif m <= 60 and m >= 50:\n",
    "    print (\"Grade D\")\n",
    "elif m <= 50 and m >= 40:\n",
    "    print (\"Grade E\")\n",
    "else:\n",
    "    print (\"Grade F\")"
   ]
  },
  {
   "cell_type": "code",
   "execution_count": null,
   "id": "0de72b0e",
   "metadata": {},
   "outputs": [],
   "source": []
  }
 ],
 "metadata": {
  "kernelspec": {
   "display_name": "Python 3",
   "language": "python",
   "name": "python3"
  },
  "language_info": {
   "codemirror_mode": {
    "name": "ipython",
    "version": 3
   },
   "file_extension": ".py",
   "mimetype": "text/x-python",
   "name": "python",
   "nbconvert_exporter": "python",
   "pygments_lexer": "ipython3",
   "version": "3.9.1"
  }
 },
 "nbformat": 4,
 "nbformat_minor": 5
}
