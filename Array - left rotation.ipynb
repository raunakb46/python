{
 "cells": [
  {
   "cell_type": "markdown",
   "id": "8637e8bc",
   "metadata": {},
   "source": [
    "A left rotation operation on an array shifts each of the array's elements  unit to the left. For example, if  left rotations are performed on array , then the array would become . Note that the lowest index item moves to the highest index in a rotation. This is called a circular array.\n",
    "\n",
    "Given an array  of  integers and a number, perform  left rotations on the array. Return the updated array to be printed as a single line of space-separated integers.\n",
    "\n",
    "**Function Description**\n",
    "\n",
    "* Complete the function rotLeft in the editor below.\n",
    "\n",
    "rotLeft has the following parameter(s):\n",
    "\n",
    "* int a[n]: the array to rotate\n",
    "* int d: the number of rotations\n",
    "* Returns\n",
    "\n",
    "* int a'[n]: the rotated array\n",
    "\n",
    "**Input Format**\n",
    "\n",
    "The first line contains two space-separated integers  and , the size of  and the number of left rotations.\n",
    "The second line contains  space-separated integers, each an"
   ]
  },
  {
   "cell_type": "code",
   "execution_count": 2,
   "id": "286f6b43",
   "metadata": {},
   "outputs": [
    {
     "name": "stdout",
     "output_type": "stream",
     "text": [
      "5 4\n",
      "1 2 3 4 5\n",
      "[5, 1, 2, 3, 4]\n"
     ]
    }
   ],
   "source": [
    "#!/bin/python3\n",
    "\n",
    "import math\n",
    "import os\n",
    "import random\n",
    "import re\n",
    "import sys\n",
    "\n",
    "#\n",
    "# Complete the 'rotLeft' function below.\n",
    "#\n",
    "# The function is expected to return an INTEGER_ARRAY.\n",
    "# The function accepts following parameters:\n",
    "#  1. INTEGER_ARRAY a\n",
    "#  2. INTEGER d\n",
    "#\n",
    "\n",
    "def rotLeft(a, d):\n",
    "    # Write your code here\n",
    "    a = list(a)\n",
    "    return a[d:] + a[:d]\n",
    "\n",
    "if __name__ == '__main__':\n",
    "\n",
    "    first_multiple_input = input().rstrip().split()\n",
    "\n",
    "    n = int(first_multiple_input[0])\n",
    "\n",
    "    d = int(first_multiple_input[1])\n",
    "\n",
    "    a = list(map(int, input().rstrip().split()))\n",
    "\n",
    "    result = rotLeft(a, d)\n",
    "    print (result)"
   ]
  },
  {
   "cell_type": "code",
   "execution_count": null,
   "id": "ef89489c",
   "metadata": {},
   "outputs": [],
   "source": []
  }
 ],
 "metadata": {
  "kernelspec": {
   "display_name": "Python 3",
   "language": "python",
   "name": "python3"
  },
  "language_info": {
   "codemirror_mode": {
    "name": "ipython",
    "version": 3
   },
   "file_extension": ".py",
   "mimetype": "text/x-python",
   "name": "python",
   "nbconvert_exporter": "python",
   "pygments_lexer": "ipython3",
   "version": "3.9.1"
  }
 },
 "nbformat": 4,
 "nbformat_minor": 5
}
