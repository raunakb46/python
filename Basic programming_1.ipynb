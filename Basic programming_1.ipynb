{
 "cells": [
  {
   "cell_type": "markdown",
   "id": "702369fa",
   "metadata": {},
   "source": [
    "16. Write a Python program to get the difference between a given number and 17, if the number is greater than 17 return double the absolute difference."
   ]
  },
  {
   "cell_type": "code",
   "execution_count": 1,
   "id": "73b0dca2",
   "metadata": {},
   "outputs": [
    {
     "name": "stdout",
     "output_type": "stream",
     "text": [
      "Enter a number:25\n",
      "Double of absolute difference: 16\n"
     ]
    }
   ],
   "source": [
    "num = int(input('Enter a number:'))\n",
    "if (num <= 17):\n",
    "    print ('Difference between {} and 17:'.format(num), 17 - num)\n",
    "else:\n",
    "    print ('Double of absolute difference:', 2*abs(17 - num))"
   ]
  },
  {
   "cell_type": "markdown",
   "id": "d0acb3ba",
   "metadata": {},
   "source": [
    "17. Write a Python program to test whether a number is within 100 of 1000 or 2000"
   ]
  },
  {
   "cell_type": "code",
   "execution_count": 2,
   "id": "9c7fcd6c",
   "metadata": {},
   "outputs": [
    {
     "name": "stdout",
     "output_type": "stream",
     "text": [
      "Enter a number:950\n",
      "Number is within 100 of 1000 or 2000\n"
     ]
    }
   ],
   "source": [
    "num = int(input('Enter a number:'))\n",
    "if (abs(1000 - num) <= 100 or abs(2000 - num) <= 100):\n",
    "    print ('Number is within 100 of 1000 or 2000')\n",
    "else:\n",
    "    print ('Invalid number')"
   ]
  },
  {
   "cell_type": "markdown",
   "id": "eec1890b",
   "metadata": {},
   "source": [
    "18. Write a Python program to calculate the sum of three given numbers, if the values are equal then return three times of their sum. "
   ]
  },
  {
   "cell_type": "code",
   "execution_count": 3,
   "id": "bef184f7",
   "metadata": {},
   "outputs": [
    {
     "name": "stdout",
     "output_type": "stream",
     "text": [
      "Enter 3 number:\n",
      "02\n",
      "13\n",
      "26\n",
      "Sum of the numbers 11\n"
     ]
    }
   ],
   "source": [
    "num = []\n",
    "print ('Enter 3 number:')\n",
    "for i in range(3):\n",
    "    a = int(input(i))\n",
    "    num.append(a)\n",
    "if (num[0] == num[1] and num[1] == num[2]):\n",
    "    sum_1 = 3 * num[0]\n",
    "else:\n",
    "    sum_1 = num[0] + num[1] + num[2]\n",
    "print ('Sum of the numbers', sum_1)"
   ]
  },
  {
   "cell_type": "markdown",
   "id": "329ab528",
   "metadata": {},
   "source": [
    "19. Write a Python program to get a new string from a given string where \"Is\" has been added to the front. If the given string already begins with \"Is\" then return the string unchanged. "
   ]
  },
  {
   "cell_type": "code",
   "execution_count": 4,
   "id": "d8d7dea1",
   "metadata": {},
   "outputs": [
    {
     "name": "stdout",
     "output_type": "stream",
     "text": [
      "Enter a sentence:there is a holiday tomorrow\n",
      "Is there is a holiday tomorrow\n"
     ]
    }
   ],
   "source": [
    "char = input('Enter a sentence:')\n",
    "if (len(char) >= 2 and char[0] == 'Is'):\n",
    "    print (char)\n",
    "else:\n",
    "    print ('Is' + ' ' + char)"
   ]
  },
  {
   "cell_type": "markdown",
   "id": "30592239",
   "metadata": {},
   "source": [
    "20. Write a Python program to get a string which is n (non-negative integer) copies of a given string."
   ]
  },
  {
   "cell_type": "code",
   "execution_count": 5,
   "id": "d1c094d7",
   "metadata": {},
   "outputs": [
    {
     "name": "stdout",
     "output_type": "stream",
     "text": [
      "Enter the number of copies:2\n",
      "Enter the string:Python is good\n",
      "Repeated characters: Python is goodPython is good\n"
     ]
    }
   ],
   "source": [
    "n = int(input('Enter the number of copies:'))\n",
    "if (n > 0):\n",
    "    char = input('Enter the string:')\n",
    "    for i in range(n):\n",
    "        res = char * n\n",
    "    print ('Repeated characters:', res)\n",
    "else:\n",
    "    print ('Invalid copies.')"
   ]
  },
  {
   "cell_type": "markdown",
   "id": "1a69002b",
   "metadata": {},
   "source": [
    "21. Write a Python program to find whether a given number (accept from the user) is even or odd, print out an appropriate message to the user."
   ]
  },
  {
   "cell_type": "code",
   "execution_count": 6,
   "id": "c4a45f1a",
   "metadata": {},
   "outputs": [
    {
     "name": "stdout",
     "output_type": "stream",
     "text": [
      "Enter a number:356\n",
      "356 is an even number\n"
     ]
    }
   ],
   "source": [
    "num = int(input('Enter a number:'))\n",
    "if (num % 2 == 0):\n",
    "    print ('{} is an even number'.format(num))\n",
    "else:\n",
    "    print ('{} is an odd number'.format(num))"
   ]
  },
  {
   "cell_type": "markdown",
   "id": "aeea0224",
   "metadata": {},
   "source": [
    "22. Write a Python program to count the number 4 in a given list. "
   ]
  },
  {
   "cell_type": "code",
   "execution_count": 7,
   "id": "d084e702",
   "metadata": {},
   "outputs": [
    {
     "name": "stdout",
     "output_type": "stream",
     "text": [
      "Enter the number of elements:5\n",
      "Enter the elements in list --\n",
      "00\n",
      "14\n",
      "27\n",
      "38\n",
      "44\n",
      "[0, 4, 7, 8, 4]\n",
      "Occurrence of 4 in the list: 2\n"
     ]
    }
   ],
   "source": [
    "l = []\n",
    "count = 0\n",
    "n = int(input('Enter the number of elements:'))\n",
    "print ('Enter the elements in list --')\n",
    "for i in range(n):\n",
    "    l.append(int(input(i)))\n",
    "print (l)\n",
    "print ('Occurrence of 4 in the list:', l.count(4))"
   ]
  },
  {
   "cell_type": "markdown",
   "id": "86b66d44",
   "metadata": {},
   "source": [
    "23. Write a Python program to get the n (non-negative integer) copies of the first 2 characters of a given string. Return the n copies of the whole string if the length is less than 2. "
   ]
  },
  {
   "cell_type": "code",
   "execution_count": 8,
   "id": "ebfa04d2",
   "metadata": {},
   "outputs": [
    {
     "name": "stdout",
     "output_type": "stream",
     "text": [
      "Enter the number of copies:3\n",
      "Enter a string:abcde\n",
      "Copy of first 2 strings: aaa   bbb\n"
     ]
    }
   ],
   "source": [
    "n = int(input('Enter the number of copies:'))\n",
    "#l = []\n",
    "char = input('Enter a string:')\n",
    "s = len(char)\n",
    "#l = char.split(' ')\n",
    "if (s > 2):\n",
    "    print ('Copy of first 2 strings:', char[0] * n, ' ', char[1] * n)\n",
    "else:\n",
    "    print('Copy of whole string:', char * n)"
   ]
  },
  {
   "cell_type": "markdown",
   "id": "2c61e582",
   "metadata": {},
   "source": [
    "24. Write a Python program to test whether a passed letter is a vowel or not."
   ]
  },
  {
   "cell_type": "code",
   "execution_count": 9,
   "id": "ef56383f",
   "metadata": {},
   "outputs": [
    {
     "name": "stdout",
     "output_type": "stream",
     "text": [
      "Enter a number:E\n",
      "Entered character is a vowel\n"
     ]
    }
   ],
   "source": [
    "char = input('Enter a number:')\n",
    "char = char.lower()\n",
    "if (char == 'a' or char == 'e' or char == 'i' or char == 'o' or char == 'u'):\n",
    "    print ('Entered character is a vowel')\n",
    "else:\n",
    "    print ('Entered character is not a vowel')"
   ]
  },
  {
   "cell_type": "markdown",
   "id": "5414b475",
   "metadata": {},
   "source": [
    "25. Write a Python program to check whether a specified value is contained in a group of values."
   ]
  },
  {
   "cell_type": "code",
   "execution_count": 11,
   "id": "d562fb09",
   "metadata": {},
   "outputs": [
    {
     "name": "stdout",
     "output_type": "stream",
     "text": [
      "Enter size of list:4\n",
      "Enter the list elements --\n",
      "01\n",
      "15\n",
      "28\n",
      "33\n",
      "List formed: [1, 5, 8, 3]\n",
      "Enter the number to be checked:-1\n",
      "Element is not present in the list\n"
     ]
    }
   ],
   "source": [
    "n = int(input('Enter size of list:'))\n",
    "l = []\n",
    "print ('Enter the list elements --')\n",
    "for i in range(n):\n",
    "    a = int(input(i))\n",
    "    l.append(a)\n",
    "print ('List formed:', l)\n",
    "ele = int(input('Enter the number to be checked:'))\n",
    "if ele in l:\n",
    "    print ('Element is present in the list')\n",
    "else:\n",
    "    print ('Element is not present in the list')"
   ]
  },
  {
   "cell_type": "markdown",
   "id": "0a5c080c",
   "metadata": {},
   "source": [
    "26. Write a Python program to create a histogram from a given list of integers."
   ]
  },
  {
   "cell_type": "code",
   "execution_count": 13,
   "id": "8f2e0c11",
   "metadata": {},
   "outputs": [
    {
     "name": "stdout",
     "output_type": "stream",
     "text": [
      "Enter the size of list:4\n",
      "Enter the list elements --\n",
      "02\n",
      "13\n",
      "26\n",
      "35\n",
      "List formed: [2, 3, 6, 5]\n",
      "\n",
      "Histogram of the list --\n",
      "**\n",
      "***\n",
      "******\n",
      "*****\n"
     ]
    }
   ],
   "source": [
    "n = int(input('Enter the size of list:'))\n",
    "l = []\n",
    "print ('Enter the list elements --')\n",
    "for i in range(n):\n",
    "    a = int(input(i))\n",
    "    l.append(a)\n",
    "print ('List formed:', l)\n",
    "print ()\n",
    "print ('Histogram of the list --')\n",
    "for i in l:\n",
    "    k = '*'\n",
    "    print (k * i)"
   ]
  },
  {
   "cell_type": "markdown",
   "id": "45bff01e",
   "metadata": {},
   "source": [
    "27. Write a Python program to concatenate all elements in a list into a string and return it."
   ]
  },
  {
   "cell_type": "code",
   "execution_count": 3,
   "id": "ecfe0926",
   "metadata": {},
   "outputs": [
    {
     "name": "stdout",
     "output_type": "stream",
     "text": [
      "Enter the size of list:4\n",
      "Enter the list elements --\n",
      "0python\n",
      "1used\n",
      "2in\n",
      "3ml\n",
      "['python', 'used', 'in', 'ml']\n",
      "pythonusedinml\n"
     ]
    }
   ],
   "source": [
    "n = int(input('Enter the size of list:'))\n",
    "l = []\n",
    "s = ''\n",
    "print ('Enter the list elements --')\n",
    "for i in range(n):\n",
    "    a = input(i)\n",
    "    l.append(a)\n",
    "print (l)\n",
    "for i in l:\n",
    "    s = s + str(i)\n",
    "print (s)"
   ]
  },
  {
   "cell_type": "markdown",
   "id": "43e73e3b",
   "metadata": {},
   "source": [
    "28. Write a Python program to print all even numbers from a given numbers list in the same order and stop the printing if any numbers that come after 237 in the sequence.\n",
    "\n",
    "Sample numbers list :\n",
    "\n",
    "numbers = [    \n",
    "    386, 462, 47, 418, 907, 344, 236, 375, 823, 566, 597, 978, 328, 615, 953, 345, \n",
    "    399, 162, 758, 219, 918, 237, 412, 566, 826, 248, 866, 950, 626, 949, 687, 217, \n",
    "    815, 67, 104, 58, 512, 24, 892, 894, 767, 553, 81, 379, 843, 831, 445, 742, 717, \n",
    "    958,743, 527\n",
    "    ]"
   ]
  },
  {
   "cell_type": "code",
   "execution_count": 5,
   "id": "530cf5f8",
   "metadata": {},
   "outputs": [
    {
     "name": "stdout",
     "output_type": "stream",
     "text": [
      "386\n",
      "462\n",
      "418\n",
      "344\n",
      "236\n",
      "566\n",
      "978\n",
      "328\n",
      "162\n",
      "758\n",
      "918\n",
      "237\n"
     ]
    }
   ],
   "source": [
    "numbers = [\n",
    "386, 462, 47, 418, 907, 344, 236, 375, 823, 566, 597, 978, 328, 615, 953, 345, 399, 162, 758, 219, 918, 237, 412, 566, 826, 248, 866, 950, 626, 949, 687, 217, 815, 67, 104, 58, 512, 24, 892, 894, 767, 553, 81, 379, 843, 831, 445, 742, 717, 958,743, 527 ]\n",
    "\n",
    "for i in numbers:\n",
    "    if (i == 237):\n",
    "        print (i)\n",
    "        break\n",
    "    elif (i % 2 == 0):\n",
    "        print (i)"
   ]
  },
  {
   "cell_type": "markdown",
   "id": "346acbcb",
   "metadata": {},
   "source": [
    "29. Write a Python program to print out a set containing all the colors from color_list_1 which are not present in color_list_2.\n",
    "\n",
    "Test Data :\n",
    "color_list_1 = set([\"White\", \"Black\", \"Red\"])\n",
    "color_list_2 = set([\"Red\", \"Green\"])\n",
    "Expected Output :\n",
    "{'Black', 'White'}"
   ]
  },
  {
   "cell_type": "code",
   "execution_count": 9,
   "id": "daece718",
   "metadata": {},
   "outputs": [
    {
     "name": "stdout",
     "output_type": "stream",
     "text": [
      "Color from set 1 which are not present in set 2 --\n",
      "{'Black', 'White'}\n"
     ]
    }
   ],
   "source": [
    "color_list_1 = set([\"White\", \"Black\", \"Red\"]) \n",
    "color_list_2 = set([\"Red\", \"Green\"])\n",
    "print ('Color from set 1 which are not present in set 2 --')\n",
    "color_list_3 = color_list_1.difference(color_list_2)\n",
    "print (color_list_3)"
   ]
  },
  {
   "cell_type": "markdown",
   "id": "3b59afcf",
   "metadata": {},
   "source": [
    "30. Write a Python program that will accept the base and height of a triangle and compute the area."
   ]
  },
  {
   "cell_type": "code",
   "execution_count": 10,
   "id": "3e9a44f4",
   "metadata": {},
   "outputs": [
    {
     "name": "stdout",
     "output_type": "stream",
     "text": [
      "Enter the base of triangle:12\n",
      "Enter the height of triangle:5\n",
      "Area of triangle: 30.0\n"
     ]
    }
   ],
   "source": [
    "b = int(input('Enter the base of triangle:'))\n",
    "h = int(input('Enter the height of triangle:'))\n",
    "print ('Area of triangle:', 0.5 * b * h)"
   ]
  },
  {
   "cell_type": "markdown",
   "id": "fba56b0b",
   "metadata": {},
   "source": [
    "31. Write a Python program to compute the greatest common divisor (GCD) of two positive integers."
   ]
  },
  {
   "cell_type": "code",
   "execution_count": 13,
   "id": "a5c0fbd7",
   "metadata": {},
   "outputs": [
    {
     "name": "stdout",
     "output_type": "stream",
     "text": [
      "Enter 1st number:63\n",
      "Enter 2nd number:9\n",
      "GCD of 63 and 9 is: 9\n"
     ]
    }
   ],
   "source": [
    "a = int(input('Enter 1st number:'))\n",
    "b = int(input('Enter 2nd number:'))\n",
    "if a > b:\n",
    "    small = b\n",
    "else:\n",
    "    small = a\n",
    "for i in range(1, small + 1):\n",
    "    if ((a % i == 0) and (b % i == 0)):\n",
    "        gcd = i\n",
    "print ('GCD of {} and {} is: {}'.format(a, b, gcd))"
   ]
  },
  {
   "cell_type": "code",
   "execution_count": null,
   "id": "075cf0af",
   "metadata": {},
   "outputs": [],
   "source": []
  }
 ],
 "metadata": {
  "kernelspec": {
   "display_name": "Python 3",
   "language": "python",
   "name": "python3"
  },
  "language_info": {
   "codemirror_mode": {
    "name": "ipython",
    "version": 3
   },
   "file_extension": ".py",
   "mimetype": "text/x-python",
   "name": "python",
   "nbconvert_exporter": "python",
   "pygments_lexer": "ipython3",
   "version": "3.9.1"
  }
 },
 "nbformat": 4,
 "nbformat_minor": 5
}
