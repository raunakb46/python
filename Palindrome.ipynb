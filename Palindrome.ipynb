{
 "cells": [
  {
   "cell_type": "code",
   "execution_count": 22,
   "id": "4eaf007e",
   "metadata": {},
   "outputs": [],
   "source": [
    "# Check if the number is a palindrome\n",
    "# Method - 1\n",
    "\n",
    "def palindrome(n):\n",
    "    temp = n\n",
    "    rev = 0\n",
    "    while (n > 0):\n",
    "        d = n % 10\n",
    "        rev = rev * 10 + d\n",
    "        n //= 10\n",
    "    if (temp == rev):\n",
    "        print (\"Number is a palindrome\")\n",
    "    else:\n",
    "        print (\"Number is not a palindrome\")\n",
    "        "
   ]
  },
  {
   "cell_type": "code",
   "execution_count": 23,
   "id": "c984620a",
   "metadata": {},
   "outputs": [
    {
     "name": "stdout",
     "output_type": "stream",
     "text": [
      "Enter a number:1221\n",
      "Number is a palindrome\n"
     ]
    }
   ],
   "source": [
    "num = int(input(\"Enter a number:\"))\n",
    "palindrome(num)"
   ]
  },
  {
   "cell_type": "code",
   "execution_count": 24,
   "id": "9f7ee622",
   "metadata": {},
   "outputs": [],
   "source": [
    "# Method - 2\n",
    "\n",
    "def palindrome_s(n):\n",
    "    temp = str(n)\n",
    "    if (temp == temp[::-1]):\n",
    "        print (\"Number is a palindrome\")\n",
    "    else:\n",
    "        print (\"Number is not a palindrome\")\n",
    "        "
   ]
  },
  {
   "cell_type": "code",
   "execution_count": 25,
   "id": "23d7d362",
   "metadata": {},
   "outputs": [
    {
     "name": "stdout",
     "output_type": "stream",
     "text": [
      "Enter a number:152\n",
      "Number is not a palindrome\n"
     ]
    }
   ],
   "source": [
    "num = int(input(\"Enter a number:\"))\n",
    "palindrome_s(num)"
   ]
  },
  {
   "cell_type": "code",
   "execution_count": null,
   "id": "df385e19",
   "metadata": {},
   "outputs": [],
   "source": []
  }
 ],
 "metadata": {
  "kernelspec": {
   "display_name": "Python 3",
   "language": "python",
   "name": "python3"
  },
  "language_info": {
   "codemirror_mode": {
    "name": "ipython",
    "version": 3
   },
   "file_extension": ".py",
   "mimetype": "text/x-python",
   "name": "python",
   "nbconvert_exporter": "python",
   "pygments_lexer": "ipython3",
   "version": "3.9.1"
  }
 },
 "nbformat": 4,
 "nbformat_minor": 5
}
