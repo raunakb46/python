{
 "cells": [
  {
   "cell_type": "code",
   "execution_count": 1,
   "id": "91c6a16e",
   "metadata": {},
   "outputs": [],
   "source": [
    "# This generates a random number between 1 and 100\n",
    "\n",
    "import random\n",
    "num = random.randint(1, 100)\n",
    "#print (num)"
   ]
  },
  {
   "cell_type": "code",
   "execution_count": 2,
   "id": "021e3da4",
   "metadata": {},
   "outputs": [
    {
     "name": "stdout",
     "output_type": "stream",
     "text": [
      "Guess the number between 1 to 100:67\n",
      "COLD\n",
      "Guess the number between 1 to 100:45\n",
      "WARMER\n",
      "Guess the number between 1 to 100:46\n",
      "COLDER\n",
      "Guess the number between 1 to 100:40\n",
      "WARMER\n",
      "Guess the number between 1 to 100:39\n",
      "WARMER\n",
      "Guess the number between 1 to 100:35\n",
      "WARMER\n",
      "Guess the number between 1 to 100:30\n",
      "WARMER\n",
      "Guess the number between 1 to 100:25\n",
      "COLDER\n",
      "Guess the number between 1 to 100:31\n",
      "WARMER\n",
      "Guess the number between 1 to 100:32\n",
      "GREAT !!! You guessed it right.\n",
      "It took 10 guesses to make it right\n"
     ]
    }
   ],
   "source": [
    "guess_list = []\n",
    "count = 0\n",
    "while True:\n",
    "    guess = int(input(\"Guess the number between 1 to 100:\"))\n",
    "    guess_list.append(guess)\n",
    "    count = count + 1\n",
    "    \n",
    "    # Check if the guess is within the range\n",
    "    if (guess < 1 or guess > 100):\n",
    "        print (\"OUT OF BOUNDS\")\n",
    "        guess_list.remove(guess)\n",
    "        \n",
    "    # If the correct guess is made    \n",
    "    elif (guess == num):\n",
    "        print (\"GREAT !!! You guessed it right.\")\n",
    "        print (\"It took {} guesses to make it right\".format(len(guess_list)))\n",
    "        break\n",
    "        \n",
    "    # For the first number guessed    \n",
    "    if (count == 1):   \n",
    "        if (num + 10 >= guess_list[0] >= num - 10):\n",
    "            print (\"WARM\")\n",
    "        else:\n",
    "            print (\"COLD\")\n",
    "            \n",
    "    # From the second guess        \n",
    "    elif (count > 1):\n",
    "        \n",
    "        # If the number guessed is closer or farther from the last guess made \n",
    "        if (abs(guess_list [-2] - num) >= abs(guess - num)) :\n",
    "            print (\"WARMER\")\n",
    "        elif (abs(guess_list [-2] - num) <= abs(guess - num)):\n",
    "            print (\"COLDER\")       "
   ]
  },
  {
   "cell_type": "code",
   "execution_count": null,
   "id": "55e57627",
   "metadata": {},
   "outputs": [],
   "source": []
  }
 ],
 "metadata": {
  "kernelspec": {
   "display_name": "Python 3",
   "language": "python",
   "name": "python3"
  },
  "language_info": {
   "codemirror_mode": {
    "name": "ipython",
    "version": 3
   },
   "file_extension": ".py",
   "mimetype": "text/x-python",
   "name": "python",
   "nbconvert_exporter": "python",
   "pygments_lexer": "ipython3",
   "version": "3.9.1"
  }
 },
 "nbformat": 4,
 "nbformat_minor": 5
}
